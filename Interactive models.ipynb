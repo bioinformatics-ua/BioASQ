{
 "cells": [
  {
   "cell_type": "code",
   "execution_count": 134,
   "metadata": {},
   "outputs": [],
   "source": [
    "from utils import yaml_loader, load_model_weights\n",
    "from os.path import join\n",
    "import numpy as np\n",
    "# load config\n",
    "config = yaml_loader(\"config/Attn-BioDeepRank_7b.yaml\")\n",
    "\n",
    "\n",
    "## Since the objective is only to load Deeprank, lest only select the DeepRank configuration\n",
    "\n",
    "cache_folder_name = config[\"cache_folder\"]\n",
    "prefix_name = config[\"corpora\"][\"name\"]\n",
    "# get deeprank config\n",
    "deeprank_config = config[\"pipeline\"][1][\"DeepRank\"]"
   ]
  },
  {
   "cell_type": "code",
   "execution_count": 135,
   "metadata": {},
   "outputs": [
    {
     "name": "stdout",
     "output_type": "stream",
     "text": [
      "[LOAD FROM CACHE] Load tokenizer from /backup/IR/cache/bioasq_Regex.json\n",
      "DEBUG created tokenizer bioasq_Regex\n",
      "True False\n",
      "[LOAD FROM CACHE] Load embedding matrix from /backup/IR/cache/embedding_BioWordVec_PubMed_MIMICIII_d200_bioasq_Regex\n"
     ]
    }
   ],
   "source": [
    "from models.DeepRank import DeepRank\n",
    "\n",
    "deeprank = DeepRank(cache_folder=cache_folder_name,\n",
    "                    prefix_name=prefix_name,\n",
    "                    **deeprank_config)\n"
   ]
  },
  {
   "cell_type": "code",
   "execution_count": 136,
   "metadata": {},
   "outputs": [
    {
     "name": "stdout",
     "output_type": "stream",
     "text": [
      "[TensorShape([Dimension(None), Dimension(13), Dimension(200)]), TensorShape([Dimension(None), Dimension(13), Dimension(101)])]\n"
     ]
    }
   ],
   "source": [
    "# execute the build and build network dependencies \n",
    "\n",
    "deeprank.build()\n",
    "deeprank.build_network(**deeprank_config)"
   ]
  },
  {
   "cell_type": "code",
   "execution_count": 137,
   "metadata": {},
   "outputs": [
    {
     "name": "stdout",
     "output_type": "stream",
     "text": [
      "last_weights_DeepRank_bioasq_Regex_True_False_embedding_BioWordVec_PubMed_MIMICIII_d200_bioasq_Regex_selu_256_100_0.0001_3_2_2_adadelta_5_13_15_selu_58_100_3_3_.h5\n"
     ]
    }
   ],
   "source": [
    "# manually load the weights\n",
    "weight_file_name = \"last_weights_\"+deeprank.name+\".h5\"\n",
    "print(weight_file_name)\n",
    "load_model_weights(join(cache_folder_name,weight_file_name), deeprank.deeprank_model)"
   ]
  },
  {
   "cell_type": "markdown",
   "metadata": {},
   "source": [
    "## Minimalistic example to show the data format for inference"
   ]
  },
  {
   "cell_type": "code",
   "execution_count": 138,
   "metadata": {},
   "outputs": [],
   "source": [
    "\n",
    "query_id = \"5a43a139966455904c000008\"\n",
    "query = \"What is measured through the NOMe-Seq methodology?\"\n",
    "\n",
    "positive_document = {\"original\": \"CAME: identification of chromatin accessibility from nucleosome occupancy and methylome sequencing. Motivation\\nChromatin accessibility plays a key role in epigenetic regulation of gene activation and silencing. Open chromatin regions allow regulatory elements such as transcription factors and polymerases to bind for gene expression while closed chromatin regions prevent the activity of transcriptional machinery. Recently, Methyltransferase Accessibility Protocol for individual templates-Bisulfite Genome Sequencing (MAPit-BGS) and nucleosome occupancy and methylome sequencing (NOMe-seq) have been developed for simultaneously profiling chromatin accessibility and DNA methylation on single molecules. Therefore, there is a great demand in developing computational methods to identify chromatin accessibility from MAPit-BGS and NOMe-seq.\\n\\n\\nResults\\nIn this article, we present CAME (Chromatin Accessibility and Methylation), a seed-extension based approach that identifies chromatin accessibility from NOMe-seq. The efficiency and effectiveness of CAME were demonstrated through comparisons with other existing techniques on both simulated and real data, and the results show that our method not only can precisely identify chromatin accessibility but also outperforms other methods.\\n\\n\\nAvailability and Implementation\\nCAME is implemented in java and the program is freely available online at http://sourceforge.net/projects/came/.\\n\\n\\nContacts\\njechoi@gru.edu or khryu@dblab.chungbuk.ac.kr.\\n\\n\\nSupplementary information\\nSupplementary data are available at Bioinformatics online.\",\n",
    "                     \"title\": \"CAME: identification of chromatin accessibility from nucleosome occupancy and methylome sequencing.\",\n",
    "                     \"id\": \"28035030\"}\n",
    "\n",
    "negative_document = {\"original\": \"Built environment, physical activity, and obesity: what have we learned from reviewing the literature? To evaluate the growing literature on the built environment and physical activity/obesity, we conducted a review of review papers. Through a systematic search, we identified 36 reviews that met the inclusion criteria and evaluated these reviews based on key information provided, review methodology, and specificity regarding measurement. We also analyzed research gaps and areas of improvement identified by previous reviews and propose a research agenda. Future studies should develop complex conceptual and statistical models that include moderators and mediators, improve objective and perceived measures of the built environment, and strengthen evidence of causality through better research designs.\",\n",
    "                     \"title\": \"Built environment, physical activity, and obesity: what have we learned from reviewing the literature?\",\n",
    "                     \"id\": \"21983062\"}\n"
   ]
  },
  {
   "cell_type": "code",
   "execution_count": 139,
   "metadata": {},
   "outputs": [],
   "source": [
    "# prepare the list of 2 documents to be ranked by the Attn-DeepRank\n",
    "\n",
    "_data = {\"query\": query, \"documents\": [positive_document, negative_document]}\n",
    "\n",
    "data = {query_id: _data}"
   ]
  },
  {
   "cell_type": "code",
   "execution_count": 140,
   "metadata": {},
   "outputs": [
    {
     "name": "stdout",
     "output_type": "stream",
     "text": [
      "[('28035030', 3.9531190395355225), ('21983062', -0.3284663259983063)]\n"
     ]
    }
   ],
   "source": [
    "\n",
    "validation_scores = deeprank.inference(data_to_infer=data, train=False, **deeprank_config)[\"retrieved\"]\n",
    "print(list(map(lambda x:(x[\"id\"],x[\"score\"]),validation_scores[query_id][\"documents\"])))"
   ]
  },
  {
   "cell_type": "code",
   "execution_count": 87,
   "metadata": {},
   "outputs": [],
   "source": [
    "# the positive document has a score a lot higher than a partially positive"
   ]
  },
  {
   "cell_type": "markdown",
   "metadata": {},
   "source": [
    "## Passage extraction for the documents"
   ]
  },
  {
   "cell_type": "code",
   "execution_count": 141,
   "metadata": {},
   "outputs": [],
   "source": [
    "from tensorflow.keras import backend as K\n",
    "\n",
    "# ADD a function to the computational GRAPH to exctact the models attention weights\n",
    "\n",
    "snippet_attention_tensor = deeprank.deeprank_model.layers[4].layers[4].attention_weights\n",
    "q_term_attention_tensor = deeprank.deeprank_model.layers[5].layers[1].attention_weights\n",
    "\n",
    "get_attn = K.function(deeprank.deeprank_model.input, snippet_attention_tensor + [q_term_attention_tensor])"
   ]
  },
  {
   "cell_type": "code",
   "execution_count": 142,
   "metadata": {},
   "outputs": [],
   "source": [
    "# generate the batch data to fed to the new function\n",
    "\n",
    "X, docs, query_id, query = next(deeprank.inference_generator(inference_data=data, train=False, **deeprank_config))\n"
   ]
  },
  {
   "cell_type": "code",
   "execution_count": 143,
   "metadata": {},
   "outputs": [],
   "source": [
    "attn = get_attn(X)"
   ]
  },
  {
   "cell_type": "markdown",
   "metadata": {},
   "source": [
    "$$\\underset{M\\times 1}{\\vec{c}}=\\sum_{u_k\\ \\in\\ q}  \\left (\\underset{1\\times 1}{a_{u_k}} \\times \\sum_{p_i\\ \\in\\ D({u_k})}  \\left (\\underset{1\\times 1}{a_{p_i}} \\times \\underset{M\\times 1}{\\vec{h}_{p_i}} \\right ) \\right ) = \\sum_{u_k\\ \\in\\ q}  \\left ( \\sum_{p_i\\ \\in\\ D({u_k})}  \\left (\\underbrace{\\underset{1\\times 1}{a_{u_k}} \\times \\underset{1\\times 1}{a_{p_i}}}_{global\\ attention} \\times \\underset{M\\times 1}{\\vec{h}_{p_i}} \\right ) \\right )$$"
   ]
  },
  {
   "cell_type": "code",
   "execution_count": 144,
   "metadata": {},
   "outputs": [],
   "source": [
    "snippet_attention = np.moveaxis(np.squeeze(np.array(attn[:-1])), 0, 1)\n",
    "query_attention = np.array(attn[-1])\n",
    "\n",
    "# global attention is extracted based on the following simplification\n",
    "global_attention = snippet_attention * query_attention"
   ]
  },
  {
   "cell_type": "code",
   "execution_count": 145,
   "metadata": {},
   "outputs": [
    {
     "name": "stdout",
     "output_type": "stream",
     "text": [
      "chromatin accessibility from mapit bgs and nome seq results in this article we present\n",
      "approach that identifies chromatin accessibility from nome seq the efficiency and effectiveness of came\n",
      "and nucleosome occupancy and methylome sequencing nome seq have been developed for simultaneously profiling\n",
      "identify chromatin accessibility from mapit bgs and nome seq results in this article we\n",
      "based approach that identifies chromatin accessibility from nome seq the efficiency and effectiveness of\n",
      "\n",
      "approach that identifies chromatin accessibility from nome seq the efficiency and effectiveness of came\n",
      "and nucleosome occupancy and methylome sequencing nome seq have been developed for simultaneously profiling\n",
      "chromatin accessibility from mapit bgs and nome seq results in this article we present\n",
      "\n"
     ]
    }
   ],
   "source": [
    "TOP_SNIPPETS_PER_DOC = 5\n",
    "\n",
    "for i in range(global_attention.shape[0]):\n",
    "\n",
    "    g_s = global_attention[i].ravel()\n",
    "    indexs = g_s.argsort()[-TOP_SNIPPETS_PER_DOC:][::-1]\n",
    "    g_s_normalized = g_s[indexs]/sum(g_s[indexs])\n",
    "    \n",
    "    for j in range(len(g_s_normalized)):\n",
    "        snippet_tokens = X[1][0][indexs[j]//5][indexs[j]%5]\n",
    "        print(deeprank.tokenizer.sequences_to_texts([snippet_tokens])[0])\n"
   ]
  },
  {
   "cell_type": "markdown",
   "metadata": {},
   "source": [
    "## Example of application"
   ]
  },
  {
   "cell_type": "code",
   "execution_count": 146,
   "metadata": {},
   "outputs": [],
   "source": [
    "from IPython.display import HTML as html_print\n",
    "\n",
    "def red_percentage_print(s, percentage):\n",
    "    rescale = 100-int(percentage*100)\n",
    "    return \"<text style=background-color:hsl(0,100%,{}%);>{}</text>\".format(rescale, s)\n",
    "\n",
    "def blue_percentage_print(s, percentage):\n",
    "    rescale = 100-int(percentage*100)\n",
    "    return \"<text style=background-color:hsl(220,100%,{}%);>{}</text>\".format(rescale, s)\n",
    "\n",
    "def highlight_snippets(query, document, TOP_SNIPPETS = 5, TOP_QUERY = 5):\n",
    "    query_id = \"_manual\"\n",
    "    document = {\"original\": document,\n",
    "                \"title\": \"_\",\n",
    "                \"id\": \"_\"}\n",
    "    \n",
    "    _data = {\"query\": query, \"documents\": [document]}\n",
    "    data = {query_id: _data}\n",
    "    \n",
    "    X, docs, query_id, query = next(deeprank.inference_generator(inference_data=data, train=False, **deeprank_config))\n",
    "    \n",
    "    attn = get_attn(X)\n",
    "    snippet_attention = np.squeeze(np.array(attn[:-1]))\n",
    "    query_attention = np.array(attn[-1])\n",
    "    global_attention = snippet_attention * query_attention\n",
    "\n",
    "    global_attention = global_attention.ravel()\n",
    "\n",
    "    #top 5 snippet index\n",
    "    snippet_indexs = global_attention.argsort()[-TOP_SNIPPETS:][::-1]\n",
    "    snippet_attention_normalized = global_attention[snippet_indexs]/sum(global_attention[snippet_indexs])\n",
    "    \n",
    "    query_list_string = [deeprank.tokenizer.index_word[x] for x in X[0][0] if x != 0]\n",
    "    \n",
    "    query_attention = query_attention.ravel()\n",
    "    TOP_QUERY = min(len(query_list_string),TOP_QUERY)\n",
    "    top_5_q_terms = query_attention.argsort()[-TOP_QUERY:][::-1]\n",
    "    highlight_terms = query_attention[top_5_q_terms]/sum(query_attention[top_5_q_terms])\n",
    "\n",
    "    \n",
    "    for count,index in enumerate(top_5_q_terms):\n",
    "        if index>=len(query_list_string):\n",
    "            continue\n",
    "            \n",
    "        query_list_string[index] = red_percentage_print(query_list_string[index],highlight_terms[count])\n",
    "\n",
    "    doc_tokens = deeprank.tokenizer.texts_to_sequences([document[\"original\"]])[0]\n",
    "    doc_list_string = [deeprank.tokenizer.index_word[x]+\" \" for x in doc_tokens if x != 0]\n",
    "\n",
    "    snippet_position = X[2][0].ravel()\n",
    "\n",
    "    for count,index in enumerate(snippet_indexs):\n",
    "\n",
    "        index = snippet_position[index]\n",
    "        if index==-1:\n",
    "            continue\n",
    "        low_index = max(0,index-7)\n",
    "        high_index = max(0,index+7)\n",
    "\n",
    "        doc_list_string[low_index:high_index] = list(map(lambda x:blue_percentage_print(x, snippet_attention_normalized[count]), doc_list_string[low_index:high_index]))\n",
    "\n",
    "\n",
    "    return query_list_string, doc_list_string"
   ]
  },
  {
   "cell_type": "code",
   "execution_count": 147,
   "metadata": {},
   "outputs": [
    {
     "data": {
      "text/html": [
       "<h3>Tokenized query</h3><p>measured <text style=background-color:hsl(0,100%,74%);>nome</text> <text style=background-color:hsl(0,100%,57%);>seq</text> <text style=background-color:hsl(0,100%,82%);>methodology</text></p><h3>Tokenized document</h3><p>came identification of chromatin accessibility from nucleosome occupancy and methylome sequencing motivation chromatin accessibility plays a key role in epigenetic regulation of gene activation and silencing open chromatin regions allow regulatory elements such as transcription factors and polymerases to bind for gene expression while closed chromatin regions prevent the activity of transcriptional machinery recently methyltransferase accessibility protocol for individual templates bisulfite genome sequencing mapit bgs <text style=background-color:hsl(220,100%,77%);>and </text><text style=background-color:hsl(220,100%,77%);>nucleosome </text><text style=background-color:hsl(220,100%,77%);>occupancy </text><text style=background-color:hsl(220,100%,77%);>and </text><text style=background-color:hsl(220,100%,77%);>methylome </text><text style=background-color:hsl(220,100%,77%);>sequencing </text><text style=background-color:hsl(220,100%,77%);>nome </text><text style=background-color:hsl(220,100%,77%);>seq </text><text style=background-color:hsl(220,100%,77%);>have </text><text style=background-color:hsl(220,100%,77%);>been </text><text style=background-color:hsl(220,100%,77%);>developed </text><text style=background-color:hsl(220,100%,77%);>for </text><text style=background-color:hsl(220,100%,77%);>simultaneously </text><text style=background-color:hsl(220,100%,77%);>profiling </text>chromatin accessibility and dna methylation on single molecules therefore there is a great demand in developing computational methods to <text style=background-color:hsl(220,100%,86%);>identify </text><text style=background-color:hsl(220,100%,86%);><text style=background-color:hsl(220,100%,76%);>chromatin </text></text><text style=background-color:hsl(220,100%,86%);><text style=background-color:hsl(220,100%,76%);>accessibility </text></text><text style=background-color:hsl(220,100%,86%);><text style=background-color:hsl(220,100%,76%);>from </text></text><text style=background-color:hsl(220,100%,86%);><text style=background-color:hsl(220,100%,76%);>mapit </text></text><text style=background-color:hsl(220,100%,86%);><text style=background-color:hsl(220,100%,76%);>bgs </text></text><text style=background-color:hsl(220,100%,86%);><text style=background-color:hsl(220,100%,76%);>and </text></text><text style=background-color:hsl(220,100%,86%);><text style=background-color:hsl(220,100%,76%);>nome </text></text><text style=background-color:hsl(220,100%,86%);><text style=background-color:hsl(220,100%,76%);>seq </text></text><text style=background-color:hsl(220,100%,86%);><text style=background-color:hsl(220,100%,76%);>results </text></text><text style=background-color:hsl(220,100%,86%);><text style=background-color:hsl(220,100%,76%);>in </text></text><text style=background-color:hsl(220,100%,86%);><text style=background-color:hsl(220,100%,76%);>this </text></text><text style=background-color:hsl(220,100%,86%);><text style=background-color:hsl(220,100%,76%);>article </text></text><text style=background-color:hsl(220,100%,86%);><text style=background-color:hsl(220,100%,76%);>we </text></text><text style=background-color:hsl(220,100%,76%);>present </text>came chromatin accessibility and methylation a seed extension <text style=background-color:hsl(220,100%,86%);>based </text><text style=background-color:hsl(220,100%,86%);><text style=background-color:hsl(220,100%,77%);>approach </text></text><text style=background-color:hsl(220,100%,86%);><text style=background-color:hsl(220,100%,77%);>that </text></text><text style=background-color:hsl(220,100%,86%);><text style=background-color:hsl(220,100%,77%);>identifies </text></text><text style=background-color:hsl(220,100%,86%);><text style=background-color:hsl(220,100%,77%);>chromatin </text></text><text style=background-color:hsl(220,100%,86%);><text style=background-color:hsl(220,100%,77%);>accessibility </text></text><text style=background-color:hsl(220,100%,86%);><text style=background-color:hsl(220,100%,77%);>from </text></text><text style=background-color:hsl(220,100%,86%);><text style=background-color:hsl(220,100%,77%);>nome </text></text><text style=background-color:hsl(220,100%,86%);><text style=background-color:hsl(220,100%,77%);>seq </text></text><text style=background-color:hsl(220,100%,86%);><text style=background-color:hsl(220,100%,77%);>the </text></text><text style=background-color:hsl(220,100%,86%);><text style=background-color:hsl(220,100%,77%);>efficiency </text></text><text style=background-color:hsl(220,100%,86%);><text style=background-color:hsl(220,100%,77%);>and </text></text><text style=background-color:hsl(220,100%,86%);><text style=background-color:hsl(220,100%,77%);>effectiveness </text></text><text style=background-color:hsl(220,100%,86%);><text style=background-color:hsl(220,100%,77%);>of </text></text><text style=background-color:hsl(220,100%,77%);>came </text>were demonstrated through comparisons with other existing techniques on both simulated and real data and the results show that our method not only can precisely identify chromatin accessibility but also outperforms other methods availability and implementation came is implemented in java and the program is freely available online at http sourceforge net projects came contacts jechoi gru edu or khryu dblab chungbuk ac kr supplementary information supplementary data are available at bioinformatics online </p>"
      ],
      "text/plain": [
       "<IPython.core.display.HTML object>"
      ]
     },
     "execution_count": 147,
     "metadata": {},
     "output_type": "execute_result"
    }
   ],
   "source": [
    "\n",
    "query_list_string, doc_list_string = highlight_snippets(query, positive_document[\"original\"])\n",
    "\n",
    "html_print(\"<h3>Tokenized query</h3><p>\"+\" \".join(query_list_string)+\"</p><h3>Tokenized document</h3><p>\"+\"\".join(doc_list_string)+\"</p>\")"
   ]
  },
  {
   "cell_type": "markdown",
   "metadata": {},
   "source": [
    "#### The previous cell uses html in order to highlight the snippet. The following image correspond to the correct render of the cell with the html tags. (this image is just a precausion to give a visulization even if the render fails)\n",
    "\n",
    "\n",
    "![title](output.PNG)"
   ]
  },
  {
   "cell_type": "code",
   "execution_count": null,
   "metadata": {},
   "outputs": [],
   "source": []
  }
 ],
 "metadata": {
  "kernelspec": {
   "display_name": "Python 3",
   "language": "python",
   "name": "python3"
  },
  "language_info": {
   "codemirror_mode": {
    "name": "ipython",
    "version": 3
   },
   "file_extension": ".py",
   "mimetype": "text/x-python",
   "name": "python",
   "nbconvert_exporter": "python",
   "pygments_lexer": "ipython3",
   "version": "3.5.2"
  }
 },
 "nbformat": 4,
 "nbformat_minor": 2
}
