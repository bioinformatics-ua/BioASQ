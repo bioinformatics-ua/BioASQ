{
 "cells": [
  {
   "cell_type": "code",
   "execution_count": 1,
   "metadata": {},
   "outputs": [
    {
     "name": "stdout",
     "output_type": "stream",
     "text": [
      "import\n"
     ]
    }
   ],
   "source": [
    "import json\n",
    "from os.path import join\n",
    "import os\n",
    "os.chdir(\"/home/tiagoalmeida/bioASQ-taskb/\")\n",
    "\n",
    "import sys\n",
    "import pickle\n",
    "import gc\n",
    "import numpy as np\n",
    "import time\n",
    "\n",
    "##add keras to the modules\n",
    "module_path = os.path.abspath(os.path.join('pubmed_data'))\n",
    "if module_path not in sys.path:\n",
    "    sys.path.append(module_path)\n",
    "    \n",
    "from pubmed_data import pubmed_helper as ph\n",
    "\n",
    "from models.generic_model import ModelAPI, f_recall, f_map\n",
    "\n"
   ]
  },
  {
   "cell_type": "markdown",
   "metadata": {},
   "source": [
    "### Load training and test data"
   ]
  },
  {
   "cell_type": "code",
   "execution_count": 2,
   "metadata": {},
   "outputs": [
    {
     "name": "stdout",
     "output_type": "stream",
     "text": [
      "Load /backup/saved_models/pmid_index_mapping.p\n"
     ]
    }
   ],
   "source": [
    "bioASQ_data_path = \"/backup/BioASQ-training7b/\"\n",
    "bioASQ_data_train = json.load(open(os.path.join(bioASQ_data_path,\"7b_train_split.json\")))\n",
    "bioASQ_data_test = json.load(open(os.path.join(bioASQ_data_path,\"7b_test_split.json\")))\n",
    "\n",
    "#Manual add entry to the training data because they dont have any relevant document\n",
    "bioASQ_data_train[1819][\"documents\"] = [\"none\"]\n",
    "bioASQ_data_train[1836][\"documents\"] = [\"none\"]\n",
    "\n",
    "#goldstandard\n",
    "bioASQ_test_expectation = list(map(lambda x:x[\"documents\"],bioASQ_data_test))\n",
    "\n",
    "#load pmid_index mapping\n",
    "pmid_index_mapping = ph.pmid_index_mapping()"
   ]
  },
  {
   "cell_type": "markdown",
   "metadata": {},
   "source": [
    "# Index of tests\n",
    "\n",
    " - [Baseline BM25](#bm25)\n",
    " - [AWE](#awe)\n",
    " - [AWE-TFIDF](#awe_tfidf)\n",
    " - [DSSM](#dssm_tribag_same_q_doc)\n",
    " - [DEEP RANK](#deep_rank)"
   ]
  },
  {
   "cell_type": "markdown",
   "metadata": {},
   "source": [
    "<a id='bm25'></a>"
   ]
  },
  {
   "cell_type": "markdown",
   "metadata": {},
   "source": [
    "### Manual check to the bm25 results since they are saved in memory"
   ]
  },
  {
   "cell_type": "code",
   "execution_count": 4,
   "metadata": {},
   "outputs": [
    {
     "name": "stdout",
     "output_type": "stream",
     "text": [
      "Test files: ['results_test_0.p', 'results_test_1.p']\n"
     ]
    }
   ],
   "source": [
    "### load the train set!\n",
    "LOAD_TRAIN = False\n",
    "\n",
    "path=\"/backup/results/bm25\"\n",
    "files = sorted(filter(lambda x: \"test\" in x and \"phase\" not in x,os.listdir(path)))\n",
    "print(\"Test files:\",files)\n",
    "bm25_test_results = []\n",
    "for file in files:\n",
    "    with open(os.path.join(path,file),\"rb\") as f:\n",
    "        bm25_test_results.extend(pickle.load(f))\n",
    "if LOAD_TRAIN:\n",
    "    files = sorted(filter(lambda x: \"train\" in x,os.listdir(path)))\n",
    "    print(\"Train files:\",files)\n",
    "    bm25_train_results = []\n",
    "    for file in files:\n",
    "        with open(os.path.join(path,file),\"rb\") as f:\n",
    "            for r in pickle.load(f):\n",
    "                bm25_train_results.append(r[:5000])\n"
   ]
  },
  {
   "cell_type": "code",
   "execution_count": 5,
   "metadata": {},
   "outputs": [
    {
     "name": "stdout",
     "output_type": "stream",
     "text": [
      "TEST set, len predictions 549 len expecations 549\n",
      "Recall@1000: 0.8323096260300467\n",
      "Recall@2500: 0.8746784560651255\n",
      "Recall@5000: 0.908476240984081\n",
      "MAP: 0.48321889652778066\n",
      "MAP bioASQ: 0.15353167375025284\n"
     ]
    }
   ],
   "source": [
    "print(\"TEST set, len predictions\",len(bm25_test_results),\"len expecations\",len(bioASQ_data_test))\n",
    "\n",
    "expectations = list(map(lambda x:x[\"documents\"],bioASQ_data_test))\n",
    "\n",
    "print(\"Recall@1000:\",f_recall(bm25_test_results,expectations,at=1000))\n",
    "print(\"Recall@2500:\",f_recall(bm25_test_results,expectations,at=2500))\n",
    "print(\"Recall@5000:\",f_recall(bm25_test_results,expectations,at=5000))\n",
    "print(\"MAP:\",f_map(bm25_test_results,expectations))\n",
    "print(\"MAP bioASQ:\",f_map(bm25_test_results,expectations,bioASQ=True))\n",
    "#print(\"MAP with fill the rest:\",f_map(bm25_test_results,expectations,fill_rest=True))"
   ]
  },
  {
   "cell_type": "code",
   "execution_count": 13,
   "metadata": {},
   "outputs": [
    {
     "name": "stdout",
     "output_type": "stream",
     "text": [
      "TRAIN set, len predictions 2198 len expecations 549\n",
      "Recall: 0.9151476322586187\n",
      "MAP: 0.48115157297880273\n",
      "MAP bioASQ: 0.15416704579921153\n"
     ]
    }
   ],
   "source": [
    "print(\"TRAIN set, len predictions\",len(bm25_train_results),\"len expecations\",len(bioASQ_data_train))\n",
    "\n",
    "expectations = list(map(lambda x:x[\"documents\"],bioASQ_data_train))\n",
    "\n",
    "print(\"Recall:\",f_recall(bm25_train_results,expectations,at=5000))\n",
    "print(\"MAP:\",f_map(bm25_train_results,expectations))\n",
    "print(\"MAP bioASQ:\",f_map(bm25_train_results,expectations,bioASQ=True))"
   ]
  },
  {
   "cell_type": "markdown",
   "metadata": {},
   "source": [
    "<a id='awe'></a>\n",
    "## Evaluate AWE"
   ]
  },
  {
   "cell_type": "code",
   "execution_count": 3,
   "metadata": {},
   "outputs": [
    {
     "name": "stdout",
     "output_type": "stream",
     "text": [
      "Load regex_less_700k_freq_tokenizer.p\n"
     ]
    }
   ],
   "source": [
    "from models.generic_model import AWE\n",
    "\n",
    "#MODE = \"regex_full_tokens\"\n",
    "MODE = \"regex_less_700k_freq\"\n",
    "\n",
    "#Load\n",
    "tk = ph.load_tokenizer(MODE)\n",
    "model = AWE.load(MODE+\"_title_abs\")\n",
    "\n",
    "model.num_docs = 18824355"
   ]
  },
  {
   "cell_type": "code",
   "execution_count": 4,
   "metadata": {},
   "outputs": [],
   "source": [
    "#Test data\n",
    "bioASQ_test_queries_tokenized = tk.texts_to_sequences(map(lambda x:x[\"body\"],bioASQ_data_test))\n",
    "bioASQ_test_expectation = list(map(lambda x:x[\"documents\"],bioASQ_data_test))"
   ]
  },
  {
   "cell_type": "code",
   "execution_count": 1,
   "metadata": {
    "scrolled": true
   },
   "outputs": [
    {
     "ename": "NameError",
     "evalue": "name 'model' is not defined",
     "output_type": "error",
     "traceback": [
      "\u001b[0;31m---------------------------------------------------------------------------\u001b[0m",
      "\u001b[0;31mNameError\u001b[0m                                 Traceback (most recent call last)",
      "\u001b[0;32m<ipython-input-1-9b1def9b6257>\u001b[0m in \u001b[0;36m<module>\u001b[0;34m()\u001b[0m\n\u001b[1;32m      1\u001b[0m \u001b[0;32mimport\u001b[0m \u001b[0mtime\u001b[0m\u001b[0;34m\u001b[0m\u001b[0m\n\u001b[1;32m      2\u001b[0m \u001b[0;34m\u001b[0m\u001b[0m\n\u001b[0;32m----> 3\u001b[0;31m \u001b[0mmodel\u001b[0m\u001b[0;34m.\u001b[0m\u001b[0mtop_k\u001b[0m\u001b[0;34m=\u001b[0m\u001b[0;36m10000\u001b[0m\u001b[0;34m\u001b[0m\u001b[0m\n\u001b[0m\u001b[1;32m      4\u001b[0m \u001b[0mstart_time\u001b[0m \u001b[0;34m=\u001b[0m \u001b[0mtime\u001b[0m\u001b[0;34m.\u001b[0m\u001b[0mtime\u001b[0m\u001b[0;34m(\u001b[0m\u001b[0;34m)\u001b[0m\u001b[0;34m\u001b[0m\u001b[0m\n\u001b[1;32m      5\u001b[0m \u001b[0mmodel\u001b[0m\u001b[0;34m.\u001b[0m\u001b[0mmetrics\u001b[0m \u001b[0;34m=\u001b[0m \u001b[0;34m[\u001b[0m\u001b[0mf_recall\u001b[0m\u001b[0;34m]\u001b[0m\u001b[0;34m\u001b[0m\u001b[0m\n",
      "\u001b[0;31mNameError\u001b[0m: name 'model' is not defined"
     ]
    }
   ],
   "source": [
    "import time\n",
    "\n",
    "model.top_k=10000\n",
    "start_time = time.time()\n",
    "model.metrics = [f_recall]\n",
    "_predictions = model.evaluate(batch_size=50,\n",
    "               expectations=bioASQ_test_expectation,\n",
    "               queries=bioASQ_test_queries_tokenized,\n",
    "               index_pmid_mapping = pmid_index_mapping.inverse,\n",
    "                at=[1000,2500,5000])\n",
    "\n",
    "print(\"Overall time\", time.time()-start_time)\n",
    "\n",
    "print(_predictions)"
   ]
  },
  {
   "cell_type": "markdown",
   "metadata": {},
   "source": [
    "<a id='awe_tfidf'></a>\n",
    "## Evaluate AWE TFIDF"
   ]
  },
  {
   "cell_type": "code",
   "execution_count": 3,
   "metadata": {},
   "outputs": [
    {
     "name": "stdout",
     "output_type": "stream",
     "text": [
      "Load regex_less_700k_freq_tokenizer.p\n"
     ]
    }
   ],
   "source": [
    "from models.generic_model import AWE_TFIDF\n",
    "\n",
    "\n",
    "#MODE = \"regex_full_tokens\"\n",
    "MODE = \"regex_less_700k_freq\"\n",
    "\n",
    "#Load\n",
    "tk = ph.load_tokenizer(MODE)\n",
    "model = AWE_TFIDF.load(MODE+\"_title_abs\")\n",
    "\n",
    "model.num_docs = 18824355"
   ]
  },
  {
   "cell_type": "code",
   "execution_count": 4,
   "metadata": {},
   "outputs": [],
   "source": [
    "#Test data\n",
    "\n",
    "bioASQ_test_queries_tokenized = tk.texts_to_sequences(map(lambda x:x[\"body\"],bioASQ_data_test))\n",
    "bioASQ_test_expectation = list(map(lambda x:x[\"documents\"],bioASQ_data_test))"
   ]
  },
  {
   "cell_type": "code",
   "execution_count": 5,
   "metadata": {},
   "outputs": [
    {
     "name": "stdout",
     "output_type": "stream",
     "text": [
      "DEBUG: doc_awe_emb shape (18824355, 200)\n",
      "DEBUG: queries_awe_emb transpose shape (200, 50)\n",
      "DEBUG: doc_norm shape (18824355, 1)\n",
      "DEBUG: queries_norm shape (1, 50)\n",
      "DEBUG: norm shape (18824355, 50)\n",
      "DEBUG: dot_product shape (18824355, 50)\n",
      "predict the top 10000\n",
      "Sorting time: 38.72075438499451\n",
      "DEBUG: doc_awe_emb shape (18824355, 200)\n",
      "DEBUG: queries_awe_emb transpose shape (200, 50)\n",
      "DEBUG: doc_norm shape (18824355, 1)\n",
      "DEBUG: queries_norm shape (1, 50)\n",
      "DEBUG: norm shape (18824355, 50)\n",
      "DEBUG: dot_product shape (18824355, 50)\n",
      "predict the top 10000\n",
      "Sorting time: 38.33282494544983\n",
      "DEBUG: doc_awe_emb shape (18824355, 200)\n",
      "DEBUG: queries_awe_emb transpose shape (200, 50)\n",
      "DEBUG: doc_norm shape (18824355, 1)\n",
      "DEBUG: queries_norm shape (1, 50)\n",
      "DEBUG: norm shape (18824355, 50)\n",
      "DEBUG: dot_product shape (18824355, 50)\n",
      "predict the top 10000\n",
      "Sorting time: 39.107759952545166\n",
      "DEBUG: doc_awe_emb shape (18824355, 200)\n",
      "DEBUG: queries_awe_emb transpose shape (200, 50)\n",
      "DEBUG: doc_norm shape (18824355, 1)\n",
      "DEBUG: queries_norm shape (1, 50)\n",
      "DEBUG: norm shape (18824355, 50)\n",
      "DEBUG: dot_product shape (18824355, 50)\n",
      "predict the top 10000\n",
      "Sorting time: 38.39297962188721\n",
      "DEBUG: doc_awe_emb shape (18824355, 200)\n",
      "DEBUG: queries_awe_emb transpose shape (200, 50)\n",
      "DEBUG: doc_norm shape (18824355, 1)\n",
      "DEBUG: queries_norm shape (1, 50)\n",
      "DEBUG: norm shape (18824355, 50)\n",
      "DEBUG: dot_product shape (18824355, 50)\n",
      "predict the top 10000\n",
      "Sorting time: 38.17383432388306\n",
      "DEBUG: doc_awe_emb shape (18824355, 200)\n",
      "DEBUG: queries_awe_emb transpose shape (200, 50)\n",
      "DEBUG: doc_norm shape (18824355, 1)\n",
      "DEBUG: queries_norm shape (1, 50)\n",
      "DEBUG: norm shape (18824355, 50)\n",
      "DEBUG: dot_product shape (18824355, 50)\n",
      "predict the top 10000\n",
      "Sorting time: 38.611674547195435\n",
      "DEBUG: doc_awe_emb shape (18824355, 200)\n",
      "DEBUG: queries_awe_emb transpose shape (200, 50)\n",
      "DEBUG: doc_norm shape (18824355, 1)\n",
      "DEBUG: queries_norm shape (1, 50)\n",
      "DEBUG: norm shape (18824355, 50)\n",
      "DEBUG: dot_product shape (18824355, 50)\n",
      "predict the top 10000\n",
      "Sorting time: 38.423444509506226\n",
      "DEBUG: doc_awe_emb shape (18824355, 200)\n",
      "DEBUG: queries_awe_emb transpose shape (200, 50)\n",
      "DEBUG: doc_norm shape (18824355, 1)\n",
      "DEBUG: queries_norm shape (1, 50)\n",
      "DEBUG: norm shape (18824355, 50)\n",
      "DEBUG: dot_product shape (18824355, 50)\n",
      "predict the top 10000\n",
      "Sorting time: 38.62668538093567\n",
      "DEBUG: doc_awe_emb shape (18824355, 200)\n",
      "DEBUG: queries_awe_emb transpose shape (200, 50)\n",
      "DEBUG: doc_norm shape (18824355, 1)\n",
      "DEBUG: queries_norm shape (1, 50)\n",
      "DEBUG: norm shape (18824355, 50)\n",
      "DEBUG: dot_product shape (18824355, 50)\n",
      "predict the top 10000\n",
      "Sorting time: 38.230191230773926\n",
      "DEBUG: doc_awe_emb shape (18824355, 200)\n",
      "DEBUG: queries_awe_emb transpose shape (200, 99)\n",
      "DEBUG: doc_norm shape (18824355, 1)\n",
      "DEBUG: queries_norm shape (1, 99)\n",
      "DEBUG: norm shape (18824355, 99)\n",
      "DEBUG: dot_product shape (18824355, 99)\n",
      "predict the top 10000\n",
      "Sorting time: 78.15863060951233\n",
      "N 1000 f_recall 0.42359242654430795\n",
      "N 2500 f_recall 0.5290817848394851\n",
      "N 5000 f_recall 0.6053890628383582\n",
      "Overall time 795.5808305740356\n"
     ]
    }
   ],
   "source": [
    "import time\n",
    "\n",
    "model.top_k=10000\n",
    "start_time = time.time()\n",
    "model.metrics = [f_recall]\n",
    "_predictions = model.evaluate(batch_size=50,\n",
    "               expectations=bioASQ_test_expectation,\n",
    "               queries=bioASQ_test_queries_tokenized,\n",
    "               index_pmid_mapping = pmid_index_mapping.inverse,\n",
    "                at=[1000,2500,5000])\n",
    "\n",
    "print(\"Overall time\", time.time()-start_time)\n"
   ]
  },
  {
   "cell_type": "markdown",
   "metadata": {},
   "source": [
    "## Test average weight embedding"
   ]
  },
  {
   "cell_type": "code",
   "execution_count": 3,
   "metadata": {},
   "outputs": [
    {
     "name": "stdout",
     "output_type": "stream",
     "text": [
      "Load regex_less_700k_freq_tokenizer.p\n"
     ]
    }
   ],
   "source": [
    "from models.generic_model import AWE, AWE_TFIDF\n",
    "\n",
    "#MODE = \"regex_full_tokens\"\n",
    "MODE = \"regex_less_700k_freq\"\n",
    "\n",
    "#Load\n",
    "tk = ph.load_tokenizer(MODE)\n",
    "model = AWE_TFIDF.load(MODE+\"_title_abs\")\n",
    "\n",
    "model.num_docs = 18824355"
   ]
  },
  {
   "cell_type": "code",
   "execution_count": 4,
   "metadata": {},
   "outputs": [
    {
     "name": "stdout",
     "output_type": "stream",
     "text": [
      "Load /backup/saved_models/pmid_index_mapping.p\n"
     ]
    }
   ],
   "source": [
    "\n",
    "\n",
    "bioASQ_test_queries_tokenized = tk.texts_to_sequences(map(lambda x:x[\"body\"],bioASQ_data_test))\n",
    "bioASQ_test_expectation = list(map(lambda x:x[\"documents\"],bioASQ_data_test))\n",
    "\n"
   ]
  },
  {
   "cell_type": "code",
   "execution_count": 5,
   "metadata": {},
   "outputs": [
    {
     "name": "stdout",
     "output_type": "stream",
     "text": [
      "Invalid query 0\n",
      "Invalid query 1\n",
      "DEBUG: doc_awe_emb shape (18824355, 200)\n",
      "DEBUG: queries_awe_emb transpose shape (200, 2)\n",
      "DEBUG: doc_norm shape (18824355, 1)\n",
      "DEBUG: queries_norm shape (1, 2)\n",
      "DEBUG: norm shape (18824355, 2)\n",
      "DEBUG: dot_product shape (18824355, 2)\n"
     ]
    }
   ],
   "source": [
    "predictions = model.predict(bioASQ_test_queries_tokenized[:2]).T"
   ]
  },
  {
   "cell_type": "code",
   "execution_count": 5,
   "metadata": {},
   "outputs": [
    {
     "name": "stdout",
     "output_type": "stream",
     "text": [
      "DEBUG: doc_awe_emb shape (18824355, 200)\n",
      "DEBUG: queries_awe_emb transpose shape (200, 32)\n",
      "DEBUG: doc_norm shape (18824355, 1)\n",
      "DEBUG: queries_norm shape (1, 32)\n",
      "DEBUG: norm shape (18824355, 32)\n",
      "DEBUG: dot_product shape (18824355, 32)\n",
      "DEBUG: doc_awe_emb shape (18824355, 200)\n",
      "DEBUG: queries_awe_emb transpose shape (200, 32)\n",
      "DEBUG: doc_norm shape (18824355, 1)\n",
      "DEBUG: queries_norm shape (1, 32)\n",
      "DEBUG: norm shape (18824355, 32)\n",
      "DEBUG: dot_product shape (18824355, 32)\n",
      "DEBUG: doc_awe_emb shape (18824355, 200)\n",
      "DEBUG: queries_awe_emb transpose shape (200, 32)\n",
      "DEBUG: doc_norm shape (18824355, 1)\n",
      "DEBUG: queries_norm shape (1, 32)\n",
      "DEBUG: norm shape (18824355, 32)\n",
      "DEBUG: dot_product shape (18824355, 32)\n",
      "DEBUG: doc_awe_emb shape (18824355, 200)\n",
      "DEBUG: queries_awe_emb transpose shape (200, 32)\n",
      "DEBUG: doc_norm shape (18824355, 1)\n",
      "DEBUG: queries_norm shape (1, 32)\n",
      "DEBUG: norm shape (18824355, 32)\n",
      "DEBUG: dot_product shape (18824355, 32)\n",
      "DEBUG: doc_awe_emb shape (18824355, 200)\n",
      "DEBUG: queries_awe_emb transpose shape (200, 32)\n",
      "DEBUG: doc_norm shape (18824355, 1)\n",
      "DEBUG: queries_norm shape (1, 32)\n",
      "DEBUG: norm shape (18824355, 32)\n",
      "DEBUG: dot_product shape (18824355, 32)\n",
      "DEBUG: doc_awe_emb shape (18824355, 200)\n",
      "DEBUG: queries_awe_emb transpose shape (200, 32)\n",
      "DEBUG: doc_norm shape (18824355, 1)\n",
      "DEBUG: queries_norm shape (1, 32)\n",
      "DEBUG: norm shape (18824355, 32)\n",
      "DEBUG: dot_product shape (18824355, 32)\n",
      "DEBUG: doc_awe_emb shape (18824355, 200)\n",
      "DEBUG: queries_awe_emb transpose shape (200, 32)\n",
      "DEBUG: doc_norm shape (18824355, 1)\n",
      "DEBUG: queries_norm shape (1, 32)\n",
      "DEBUG: norm shape (18824355, 32)\n",
      "DEBUG: dot_product shape (18824355, 32)\n",
      "DEBUG: doc_awe_emb shape (18824355, 200)\n",
      "DEBUG: queries_awe_emb transpose shape (200, 32)\n",
      "DEBUG: doc_norm shape (18824355, 1)\n",
      "DEBUG: queries_norm shape (1, 32)\n",
      "DEBUG: norm shape (18824355, 32)\n",
      "DEBUG: dot_product shape (18824355, 32)\n",
      "DEBUG: doc_awe_emb shape (18824355, 200)\n",
      "DEBUG: queries_awe_emb transpose shape (200, 32)\n",
      "DEBUG: doc_norm shape (18824355, 1)\n",
      "DEBUG: queries_norm shape (1, 32)\n",
      "DEBUG: norm shape (18824355, 32)\n",
      "DEBUG: dot_product shape (18824355, 32)\n",
      "DEBUG: doc_awe_emb shape (18824355, 200)\n",
      "DEBUG: queries_awe_emb transpose shape (200, 32)\n",
      "DEBUG: doc_norm shape (18824355, 1)\n",
      "DEBUG: queries_norm shape (1, 32)\n",
      "DEBUG: norm shape (18824355, 32)\n",
      "DEBUG: dot_product shape (18824355, 32)\n",
      "DEBUG: doc_awe_emb shape (18824355, 200)\n",
      "DEBUG: queries_awe_emb transpose shape (200, 32)\n",
      "DEBUG: doc_norm shape (18824355, 1)\n",
      "DEBUG: queries_norm shape (1, 32)\n",
      "DEBUG: norm shape (18824355, 32)\n",
      "DEBUG: dot_product shape (18824355, 32)\n",
      "DEBUG: doc_awe_emb shape (18824355, 200)\n",
      "DEBUG: queries_awe_emb transpose shape (200, 32)\n",
      "DEBUG: doc_norm shape (18824355, 1)\n",
      "DEBUG: queries_norm shape (1, 32)\n",
      "DEBUG: norm shape (18824355, 32)\n",
      "DEBUG: dot_product shape (18824355, 32)\n",
      "DEBUG: doc_awe_emb shape (18824355, 200)\n",
      "DEBUG: queries_awe_emb transpose shape (200, 32)\n",
      "DEBUG: doc_norm shape (18824355, 1)\n",
      "DEBUG: queries_norm shape (1, 32)\n",
      "DEBUG: norm shape (18824355, 32)\n",
      "DEBUG: dot_product shape (18824355, 32)\n",
      "DEBUG: doc_awe_emb shape (18824355, 200)\n",
      "DEBUG: queries_awe_emb transpose shape (200, 32)\n",
      "DEBUG: doc_norm shape (18824355, 1)\n",
      "DEBUG: queries_norm shape (1, 32)\n",
      "DEBUG: norm shape (18824355, 32)\n",
      "DEBUG: dot_product shape (18824355, 32)\n",
      "DEBUG: doc_awe_emb shape (18824355, 200)\n",
      "DEBUG: queries_awe_emb transpose shape (200, 32)\n",
      "DEBUG: doc_norm shape (18824355, 1)\n",
      "DEBUG: queries_norm shape (1, 32)\n",
      "DEBUG: norm shape (18824355, 32)\n",
      "DEBUG: dot_product shape (18824355, 32)\n",
      "DEBUG: doc_awe_emb shape (18824355, 200)\n",
      "DEBUG: queries_awe_emb transpose shape (200, 32)\n",
      "DEBUG: doc_norm shape (18824355, 1)\n",
      "DEBUG: queries_norm shape (1, 32)\n",
      "DEBUG: norm shape (18824355, 32)\n",
      "DEBUG: dot_product shape (18824355, 32)\n",
      "DEBUG: doc_awe_emb shape (18824355, 200)\n",
      "DEBUG: queries_awe_emb transpose shape (200, 37)\n",
      "DEBUG: doc_norm shape (18824355, 1)\n",
      "DEBUG: queries_norm shape (1, 37)\n",
      "DEBUG: norm shape (18824355, 37)\n",
      "DEBUG: dot_product shape (18824355, 37)\n"
     ]
    },
    {
     "data": {
      "text/plain": [
       "[('f_map', 0.0376222280047417), ('f_recall', 0.42359242654430795)]"
      ]
     },
     "execution_count": 5,
     "metadata": {},
     "output_type": "execute_result"
    }
   ],
   "source": [
    "model.evaluate(batch_size=32,\n",
    "               expectations=bioASQ_test_expectation,\n",
    "               queries=bioASQ_test_queries_tokenized,\n",
    "               index_pmid_mapping = pmid_index_mapping.inverse)"
   ]
  },
  {
   "cell_type": "markdown",
   "metadata": {},
   "source": [
    "<a id='dssm_tribag_same_q_doc'></a>"
   ]
  },
  {
   "cell_type": "markdown",
   "metadata": {},
   "source": [
    "## TEST DSSM"
   ]
  },
  {
   "cell_type": "code",
   "execution_count": 3,
   "metadata": {},
   "outputs": [
    {
     "name": "stdout",
     "output_type": "stream",
     "text": [
      "Load hashtrick_full_tokens_tokenizer.p\n"
     ]
    }
   ],
   "source": [
    "from models.fast_neural_retrieval.dssm_model import DSSM, TRIGRAM_VOC\n",
    "\n",
    "\n",
    "\n",
    "bioASQ_test_queries_body = list(map(lambda x:x[\"body\"],bioASQ_data_test))\n",
    "bioASQ_test_expectation = list(map(lambda x:x[\"documents\"],bioASQ_data_test))\n"
   ]
  },
  {
   "cell_type": "code",
   "execution_count": 4,
   "metadata": {},
   "outputs": [],
   "source": [
    "dssm = DSSM.load(\"trigram_same_q_d_4neg\")"
   ]
  },
  {
   "cell_type": "code",
   "execution_count": 5,
   "metadata": {},
   "outputs": [
    {
     "name": "stdout",
     "output_type": "stream",
     "text": [
      "50/50 [==============================] - 0s 1ms/step\n",
      "DEBUG: doc_awe_emb shape (18824355, 128)\n",
      "DEBUG: queries_awe_emb transpose shape (128, 50)\n",
      "DEBUG: doc_norm shape (18824355, 1)\n",
      "DEBUG: queries_norm shape (1, 50)\n",
      "DEBUG: norm shape (18824355, 50)\n",
      "DEBUG: dot_product shape (18824355, 50)\n",
      "predict the top 10000\n",
      "Sorting time: 30.766916036605835\n",
      "50/50 [==============================] - 0s 502us/step\n",
      "DEBUG: doc_awe_emb shape (18824355, 128)\n",
      "DEBUG: queries_awe_emb transpose shape (128, 50)\n",
      "DEBUG: doc_norm shape (18824355, 1)\n",
      "DEBUG: queries_norm shape (1, 50)\n",
      "DEBUG: norm shape (18824355, 50)\n",
      "DEBUG: dot_product shape (18824355, 50)\n",
      "predict the top 10000\n",
      "Sorting time: 30.83276891708374\n",
      "50/50 [==============================] - 0s 493us/step\n",
      "DEBUG: doc_awe_emb shape (18824355, 128)\n",
      "DEBUG: queries_awe_emb transpose shape (128, 50)\n",
      "DEBUG: doc_norm shape (18824355, 1)\n",
      "DEBUG: queries_norm shape (1, 50)\n",
      "DEBUG: norm shape (18824355, 50)\n",
      "DEBUG: dot_product shape (18824355, 50)\n",
      "predict the top 10000\n",
      "Sorting time: 30.3895525932312\n",
      "50/50 [==============================] - 0s 497us/step\n",
      "DEBUG: doc_awe_emb shape (18824355, 128)\n",
      "DEBUG: queries_awe_emb transpose shape (128, 50)\n",
      "DEBUG: doc_norm shape (18824355, 1)\n",
      "DEBUG: queries_norm shape (1, 50)\n",
      "DEBUG: norm shape (18824355, 50)\n",
      "DEBUG: dot_product shape (18824355, 50)\n",
      "predict the top 10000\n",
      "Sorting time: 30.929925441741943\n",
      "50/50 [==============================] - 0s 488us/step\n",
      "DEBUG: doc_awe_emb shape (18824355, 128)\n",
      "DEBUG: queries_awe_emb transpose shape (128, 50)\n",
      "DEBUG: doc_norm shape (18824355, 1)\n",
      "DEBUG: queries_norm shape (1, 50)\n",
      "DEBUG: norm shape (18824355, 50)\n",
      "DEBUG: dot_product shape (18824355, 50)\n",
      "predict the top 10000\n",
      "Sorting time: 30.343278169631958\n",
      "50/50 [==============================] - 0s 511us/step\n",
      "DEBUG: doc_awe_emb shape (18824355, 128)\n",
      "DEBUG: queries_awe_emb transpose shape (128, 50)\n",
      "DEBUG: doc_norm shape (18824355, 1)\n",
      "DEBUG: queries_norm shape (1, 50)\n",
      "DEBUG: norm shape (18824355, 50)\n",
      "DEBUG: dot_product shape (18824355, 50)\n",
      "predict the top 10000\n",
      "Sorting time: 30.66677165031433\n",
      "50/50 [==============================] - 0s 493us/step\n",
      "DEBUG: doc_awe_emb shape (18824355, 128)\n",
      "DEBUG: queries_awe_emb transpose shape (128, 50)\n",
      "DEBUG: doc_norm shape (18824355, 1)\n",
      "DEBUG: queries_norm shape (1, 50)\n",
      "DEBUG: norm shape (18824355, 50)\n",
      "DEBUG: dot_product shape (18824355, 50)\n",
      "predict the top 10000\n",
      "Sorting time: 31.42197585105896\n",
      "50/50 [==============================] - 0s 512us/step\n",
      "DEBUG: doc_awe_emb shape (18824355, 128)\n",
      "DEBUG: queries_awe_emb transpose shape (128, 50)\n",
      "DEBUG: doc_norm shape (18824355, 1)\n",
      "DEBUG: queries_norm shape (1, 50)\n",
      "DEBUG: norm shape (18824355, 50)\n",
      "DEBUG: dot_product shape (18824355, 50)\n",
      "predict the top 10000\n",
      "Sorting time: 30.2920241355896\n",
      "50/50 [==============================] - 0s 512us/step\n",
      "DEBUG: doc_awe_emb shape (18824355, 128)\n",
      "DEBUG: queries_awe_emb transpose shape (128, 50)\n",
      "DEBUG: doc_norm shape (18824355, 1)\n",
      "DEBUG: queries_norm shape (1, 50)\n",
      "DEBUG: norm shape (18824355, 50)\n",
      "DEBUG: dot_product shape (18824355, 50)\n",
      "predict the top 10000\n",
      "Sorting time: 30.8430917263031\n",
      "99/99 [==============================] - 0s 588us/step\n",
      "DEBUG: doc_awe_emb shape (18824355, 128)\n",
      "DEBUG: queries_awe_emb transpose shape (128, 99)\n",
      "DEBUG: doc_norm shape (18824355, 1)\n",
      "DEBUG: queries_norm shape (1, 99)\n",
      "DEBUG: norm shape (18824355, 99)\n",
      "DEBUG: dot_product shape (18824355, 99)\n",
      "predict the top 10000\n",
      "Sorting time: 62.316996574401855\n",
      "N 1000 f_map 0.01439485934021453\n",
      "N 1000 f_recall 0.10675979152590381\n",
      "N 2500 f_map 0.01439485934021453\n",
      "N 2500 f_recall 0.10675979152590381\n",
      "N 5000 f_map 0.01439485934021453\n",
      "N 5000 f_recall 0.10675979152590381\n",
      "Overall time 513.9057242870331\n"
     ]
    },
    {
     "ename": "AttributeError",
     "evalue": "'list' object has no attribute 'shape'",
     "output_type": "error",
     "traceback": [
      "\u001b[0;31m---------------------------------------------------------------------------\u001b[0m",
      "\u001b[0;31mAttributeError\u001b[0m                            Traceback (most recent call last)",
      "\u001b[0;32m<ipython-input-5-999491df1f3e>\u001b[0m in \u001b[0;36m<module>\u001b[0;34m()\u001b[0m\n\u001b[1;32m     14\u001b[0m \u001b[0mprint\u001b[0m\u001b[0;34m(\u001b[0m\u001b[0;34m\"Overall time\"\u001b[0m\u001b[0;34m,\u001b[0m \u001b[0mtime\u001b[0m\u001b[0;34m.\u001b[0m\u001b[0mtime\u001b[0m\u001b[0;34m(\u001b[0m\u001b[0;34m)\u001b[0m\u001b[0;34m-\u001b[0m\u001b[0mstart_time\u001b[0m\u001b[0;34m)\u001b[0m\u001b[0;34m\u001b[0m\u001b[0m\n\u001b[1;32m     15\u001b[0m \u001b[0;34m\u001b[0m\u001b[0m\n\u001b[0;32m---> 16\u001b[0;31m \u001b[0mprint\u001b[0m\u001b[0;34m(\u001b[0m\u001b[0m_predictitons\u001b[0m\u001b[0;34m.\u001b[0m\u001b[0mshape\u001b[0m\u001b[0;34m)\u001b[0m\u001b[0;34m\u001b[0m\u001b[0m\n\u001b[0m",
      "\u001b[0;31mAttributeError\u001b[0m: 'list' object has no attribute 'shape'"
     ]
    }
   ],
   "source": [
    "import time\n",
    "N=[1000,2500,5000]\n",
    "\n",
    "\n",
    "dssm.top_k=10000\n",
    "start_time = time.time()\n",
    "\n",
    "_predictitons=dssm.evaluate( batch_size=50,\n",
    "               expectations=bioASQ_test_expectation,\n",
    "               queries=bioASQ_test_queries_body,\n",
    "               index_pmid_mapping = pmid_index_mapping.inverse,\n",
    "               at = N)\n",
    "\n",
    "print(\"Overall time\", time.time()-start_time)\n",
    "\n"
   ]
  },
  {
   "cell_type": "code",
   "execution_count": 5,
   "metadata": {},
   "outputs": [
    {
     "data": {
      "text/plain": [
       "'How could iPSCs be used for the treatment of diabetes?'"
      ]
     },
     "execution_count": 5,
     "metadata": {},
     "output_type": "execute_result"
    }
   ],
   "source": []
  },
  {
   "cell_type": "code",
   "execution_count": 5,
   "metadata": {},
   "outputs": [
    {
     "ename": "ValueError",
     "evalue": "Error when checking model input: the list of Numpy arrays that you are passing to your model is not the size the model expected. Expected to see 2 array(s), but instead got the following list of 1 arrays: [array([[0, 1, 1, ..., 0, 0, 0],\n       [0, 1, 1, ..., 0, 0, 0],\n       [0, 1, 1, ..., 0, 0, 0],\n       ...,\n       [0, 1, 1, ..., 0, 0, 0],\n       [0, 1, 1, ..., 0, 0, 0],\n       [0, 1, 1, ..., 0, 0,...",
     "output_type": "error",
     "traceback": [
      "\u001b[0;31m---------------------------------------------------------------------------\u001b[0m",
      "\u001b[0;31mValueError\u001b[0m                                Traceback (most recent call last)",
      "\u001b[0;32m<ipython-input-5-4c0fcafb9181>\u001b[0m in \u001b[0;36m<module>\u001b[0;34m()\u001b[0m\n\u001b[0;32m----> 1\u001b[0;31m \u001b[0mdssm\u001b[0m\u001b[0;34m.\u001b[0m\u001b[0mpredict\u001b[0m\u001b[0;34m(\u001b[0m\u001b[0mbioASQ_test_queries_body\u001b[0m\u001b[0;34m)\u001b[0m\u001b[0;34m\u001b[0m\u001b[0m\n\u001b[0m",
      "\u001b[0;32m~/bioASQ-taskb/models/generic_model.py\u001b[0m in \u001b[0;36mpredict\u001b[0;34m(self, data, **kargs)\u001b[0m\n\u001b[1;32m    101\u001b[0m         \u001b[0;32mif\u001b[0m \u001b[0;32mnot\u001b[0m \u001b[0mself\u001b[0m\u001b[0;34m.\u001b[0m\u001b[0mtrained\u001b[0m\u001b[0;34m:\u001b[0m\u001b[0;34m\u001b[0m\u001b[0m\n\u001b[1;32m    102\u001b[0m             \u001b[0;32mraise\u001b[0m \u001b[0mRuntimeError\u001b[0m\u001b[0;34m(\u001b[0m\u001b[0;34m\"The models most be trained before the inference\"\u001b[0m\u001b[0;34m)\u001b[0m\u001b[0;34m\u001b[0m\u001b[0m\n\u001b[0;32m--> 103\u001b[0;31m         \u001b[0;32mreturn\u001b[0m \u001b[0mself\u001b[0m\u001b[0;34m.\u001b[0m\u001b[0m_predict_process\u001b[0m\u001b[0;34m(\u001b[0m\u001b[0mdata\u001b[0m\u001b[0;34m,\u001b[0m \u001b[0;34m**\u001b[0m\u001b[0mkargs\u001b[0m\u001b[0;34m)\u001b[0m\u001b[0;34m\u001b[0m\u001b[0m\n\u001b[0m\u001b[1;32m    104\u001b[0m \u001b[0;34m\u001b[0m\u001b[0m\n\u001b[1;32m    105\u001b[0m     \u001b[0;32mdef\u001b[0m \u001b[0m_predict_process\u001b[0m\u001b[0;34m(\u001b[0m\u001b[0mself\u001b[0m\u001b[0;34m,\u001b[0m \u001b[0mdata\u001b[0m\u001b[0;34m,\u001b[0m \u001b[0;34m**\u001b[0m\u001b[0mkargs\u001b[0m\u001b[0;34m)\u001b[0m\u001b[0;34m:\u001b[0m\u001b[0;34m\u001b[0m\u001b[0m\n",
      "\u001b[0;32m~/bioASQ-taskb/models/fast_neural_retrieval/dssm_model.py\u001b[0m in \u001b[0;36m_predict_process\u001b[0;34m(self, queries)\u001b[0m\n\u001b[1;32m    380\u001b[0m         queries_representation = self.query_sub_model.predict_generator(generator=iter(queries_generatior),\n\u001b[1;32m    381\u001b[0m                                                                         \u001b[0msteps\u001b[0m\u001b[0;34m=\u001b[0m\u001b[0mlen\u001b[0m\u001b[0;34m(\u001b[0m\u001b[0mqueries_generatior\u001b[0m\u001b[0;34m)\u001b[0m\u001b[0;34m,\u001b[0m\u001b[0;34m\u001b[0m\u001b[0m\n\u001b[0;32m--> 382\u001b[0;31m                                                                         verbose=1)\n\u001b[0m\u001b[1;32m    383\u001b[0m \u001b[0;34m\u001b[0m\u001b[0m\n\u001b[1;32m    384\u001b[0m         \u001b[0;32mreturn\u001b[0m \u001b[0m_post_predict\u001b[0m\u001b[0;34m(\u001b[0m\u001b[0m_sim_cos\u001b[0m\u001b[0;34m(\u001b[0m\u001b[0mself\u001b[0m\u001b[0;34m.\u001b[0m\u001b[0mcollection_representation\u001b[0m\u001b[0;34m,\u001b[0m \u001b[0mself\u001b[0m\u001b[0;34m.\u001b[0m\u001b[0mcollection_representation_norm\u001b[0m\u001b[0;34m,\u001b[0m \u001b[0mqueries_representation\u001b[0m\u001b[0;34m)\u001b[0m\u001b[0;34m)\u001b[0m\u001b[0;34m\u001b[0m\u001b[0m\n",
      "\u001b[0;32m/usr/local/lib/python3.5/dist-packages/tensorflow/python/keras/engine/training.py\u001b[0m in \u001b[0;36mpredict_generator\u001b[0;34m(self, generator, steps, max_queue_size, workers, use_multiprocessing, verbose)\u001b[0m\n\u001b[1;32m   1873\u001b[0m         \u001b[0mworkers\u001b[0m\u001b[0;34m=\u001b[0m\u001b[0mworkers\u001b[0m\u001b[0;34m,\u001b[0m\u001b[0;34m\u001b[0m\u001b[0m\n\u001b[1;32m   1874\u001b[0m         \u001b[0muse_multiprocessing\u001b[0m\u001b[0;34m=\u001b[0m\u001b[0muse_multiprocessing\u001b[0m\u001b[0;34m,\u001b[0m\u001b[0;34m\u001b[0m\u001b[0m\n\u001b[0;32m-> 1875\u001b[0;31m         verbose=verbose)\n\u001b[0m",
      "\u001b[0;32m/usr/local/lib/python3.5/dist-packages/tensorflow/python/keras/engine/training_generator.py\u001b[0m in \u001b[0;36mpredict_generator\u001b[0;34m(model, generator, steps, max_queue_size, workers, use_multiprocessing, verbose)\u001b[0m\n\u001b[1;32m    422\u001b[0m         \u001b[0mx\u001b[0m \u001b[0;34m=\u001b[0m \u001b[0mgenerator_output\u001b[0m\u001b[0;34m\u001b[0m\u001b[0m\n\u001b[1;32m    423\u001b[0m \u001b[0;34m\u001b[0m\u001b[0m\n\u001b[0;32m--> 424\u001b[0;31m       \u001b[0mouts\u001b[0m \u001b[0;34m=\u001b[0m \u001b[0mmodel\u001b[0m\u001b[0;34m.\u001b[0m\u001b[0mpredict_on_batch\u001b[0m\u001b[0;34m(\u001b[0m\u001b[0mx\u001b[0m\u001b[0;34m)\u001b[0m\u001b[0;34m\u001b[0m\u001b[0m\n\u001b[0m\u001b[1;32m    425\u001b[0m       \u001b[0;32mif\u001b[0m \u001b[0;32mnot\u001b[0m \u001b[0misinstance\u001b[0m\u001b[0;34m(\u001b[0m\u001b[0mouts\u001b[0m\u001b[0;34m,\u001b[0m \u001b[0mlist\u001b[0m\u001b[0;34m)\u001b[0m\u001b[0;34m:\u001b[0m\u001b[0;34m\u001b[0m\u001b[0m\n\u001b[1;32m    426\u001b[0m         \u001b[0mouts\u001b[0m \u001b[0;34m=\u001b[0m \u001b[0;34m[\u001b[0m\u001b[0mouts\u001b[0m\u001b[0;34m]\u001b[0m\u001b[0;34m\u001b[0m\u001b[0m\n",
      "\u001b[0;32m/usr/local/lib/python3.5/dist-packages/tensorflow/python/keras/engine/training.py\u001b[0m in \u001b[0;36mpredict_on_batch\u001b[0;34m(self, x)\u001b[0m\n\u001b[1;32m   1615\u001b[0m     \"\"\"\n\u001b[1;32m   1616\u001b[0m     \u001b[0;31m# Validate and standardize user data.\u001b[0m\u001b[0;34m\u001b[0m\u001b[0;34m\u001b[0m\u001b[0m\n\u001b[0;32m-> 1617\u001b[0;31m     \u001b[0minputs\u001b[0m\u001b[0;34m,\u001b[0m \u001b[0m_\u001b[0m\u001b[0;34m,\u001b[0m \u001b[0m_\u001b[0m \u001b[0;34m=\u001b[0m \u001b[0mself\u001b[0m\u001b[0;34m.\u001b[0m\u001b[0m_standardize_user_data\u001b[0m\u001b[0;34m(\u001b[0m\u001b[0mx\u001b[0m\u001b[0;34m)\u001b[0m\u001b[0;34m\u001b[0m\u001b[0m\n\u001b[0m\u001b[1;32m   1618\u001b[0m     \u001b[0;32mif\u001b[0m \u001b[0mcontext\u001b[0m\u001b[0;34m.\u001b[0m\u001b[0mexecuting_eagerly\u001b[0m\u001b[0;34m(\u001b[0m\u001b[0;34m)\u001b[0m\u001b[0;34m:\u001b[0m\u001b[0;34m\u001b[0m\u001b[0m\n\u001b[1;32m   1619\u001b[0m       \u001b[0;32mif\u001b[0m \u001b[0;32mnot\u001b[0m \u001b[0misinstance\u001b[0m\u001b[0;34m(\u001b[0m\u001b[0minputs\u001b[0m\u001b[0;34m,\u001b[0m \u001b[0miterator_ops\u001b[0m\u001b[0;34m.\u001b[0m\u001b[0mEagerIterator\u001b[0m\u001b[0;34m)\u001b[0m\u001b[0;34m:\u001b[0m\u001b[0;34m\u001b[0m\u001b[0m\n",
      "\u001b[0;32m/usr/local/lib/python3.5/dist-packages/tensorflow/python/keras/engine/training.py\u001b[0m in \u001b[0;36m_standardize_user_data\u001b[0;34m(self, x, y, sample_weight, class_weight, batch_size, check_steps, steps_name, steps, validation_split)\u001b[0m\n\u001b[1;32m    866\u001b[0m         \u001b[0mfeed_input_shapes\u001b[0m\u001b[0;34m,\u001b[0m\u001b[0;34m\u001b[0m\u001b[0m\n\u001b[1;32m    867\u001b[0m         \u001b[0mcheck_batch_axis\u001b[0m\u001b[0;34m=\u001b[0m\u001b[0;32mFalse\u001b[0m\u001b[0;34m,\u001b[0m  \u001b[0;31m# Don't enforce the batch size.\u001b[0m\u001b[0;34m\u001b[0m\u001b[0m\n\u001b[0;32m--> 868\u001b[0;31m         exception_prefix='input')\n\u001b[0m\u001b[1;32m    869\u001b[0m \u001b[0;34m\u001b[0m\u001b[0m\n\u001b[1;32m    870\u001b[0m     \u001b[0;32mif\u001b[0m \u001b[0my\u001b[0m \u001b[0;32mis\u001b[0m \u001b[0;32mnot\u001b[0m \u001b[0;32mNone\u001b[0m\u001b[0;34m:\u001b[0m\u001b[0;34m\u001b[0m\u001b[0m\n",
      "\u001b[0;32m/usr/local/lib/python3.5/dist-packages/tensorflow/python/keras/engine/training_utils.py\u001b[0m in \u001b[0;36mstandardize_input_data\u001b[0;34m(data, names, shapes, check_batch_axis, exception_prefix)\u001b[0m\n\u001b[1;32m    150\u001b[0m                        \u001b[0;34m'Expected to see '\u001b[0m \u001b[0;34m+\u001b[0m \u001b[0mstr\u001b[0m\u001b[0;34m(\u001b[0m\u001b[0mlen\u001b[0m\u001b[0;34m(\u001b[0m\u001b[0mnames\u001b[0m\u001b[0;34m)\u001b[0m\u001b[0;34m)\u001b[0m \u001b[0;34m+\u001b[0m \u001b[0;34m' array(s), '\u001b[0m\u001b[0;34m\u001b[0m\u001b[0m\n\u001b[1;32m    151\u001b[0m                        \u001b[0;34m'but instead got the following list of '\u001b[0m \u001b[0;34m+\u001b[0m\u001b[0;34m\u001b[0m\u001b[0m\n\u001b[0;32m--> 152\u001b[0;31m                        str(len(data)) + ' arrays: ' + str(data)[:200] + '...')\n\u001b[0m\u001b[1;32m    153\u001b[0m     \u001b[0;32melif\u001b[0m \u001b[0mlen\u001b[0m\u001b[0;34m(\u001b[0m\u001b[0mnames\u001b[0m\u001b[0;34m)\u001b[0m \u001b[0;34m>\u001b[0m \u001b[0;36m1\u001b[0m\u001b[0;34m:\u001b[0m\u001b[0;34m\u001b[0m\u001b[0m\n\u001b[1;32m    154\u001b[0m       raise ValueError(\n",
      "\u001b[0;31mValueError\u001b[0m: Error when checking model input: the list of Numpy arrays that you are passing to your model is not the size the model expected. Expected to see 2 array(s), but instead got the following list of 1 arrays: [array([[0, 1, 1, ..., 0, 0, 0],\n       [0, 1, 1, ..., 0, 0, 0],\n       [0, 1, 1, ..., 0, 0, 0],\n       ...,\n       [0, 1, 1, ..., 0, 0, 0],\n       [0, 1, 1, ..., 0, 0, 0],\n       [0, 1, 1, ..., 0, 0,..."
     ]
    }
   ],
   "source": [
    "dssm.predict(bioASQ_test_queries_body)"
   ]
  },
  {
   "cell_type": "code",
   "execution_count": 218,
   "metadata": {},
   "outputs": [],
   "source": [
    "\n",
    "p = np.argpartition(-r, 100000, axis=0)[:100000,:]"
   ]
  },
  {
   "cell_type": "code",
   "execution_count": 219,
   "metadata": {},
   "outputs": [
    {
     "data": {
      "text/plain": [
       "array([[17337430,  2217453, 17670079, 18488415, 17005652],\n",
       "       [ 5295701,  4896649, 12274923, 13727632, 16476832],\n",
       "       [ 4645437,  1808511, 18251732,  1264568,  8247162],\n",
       "       ...,\n",
       "       [17154372,  2022710,  8500257,    56147,   560190],\n",
       "       [14087007,   425006, 17832560,  2478349, 12638176],\n",
       "       [12132492,  9274190,  2454101,  3105630,  2062167]])"
      ]
     },
     "execution_count": 219,
     "metadata": {},
     "output_type": "execute_result"
    }
   ],
   "source": [
    "p"
   ]
  },
  {
   "cell_type": "code",
   "execution_count": 220,
   "metadata": {},
   "outputs": [],
   "source": [
    "reshape = r[p, np.arange(p.shape[1])]\n",
    "\n",
    "argsort = np.argsort(-reshape,axis=0)\n",
    "#reshape = -np.sort(-reshape, axis=0)\n",
    "\n",
    "p[argsort, np.arange(argsort.shape[1])]"
   ]
  },
  {
   "cell_type": "code",
   "execution_count": 203,
   "metadata": {},
   "outputs": [
    {
     "data": {
      "text/plain": [
       "array([[33922, 59367, 22099, 51320, 46795],\n",
       "       [ 4597, 61952, 13826, 17136, 14484],\n",
       "       [27039, 55488, 12731, 57748, 10858],\n",
       "       ...,\n",
       "       [99998, 99997, 99998, 99998, 99997],\n",
       "       [99994, 99998, 99996, 99997, 99998],\n",
       "       [99995, 99999, 99999, 99999, 99999]])"
      ]
     },
     "execution_count": 203,
     "metadata": {},
     "output_type": "execute_result"
    }
   ],
   "source": [
    "argsort"
   ]
  },
  {
   "cell_type": "code",
   "execution_count": 209,
   "metadata": {},
   "outputs": [
    {
     "data": {
      "text/plain": [
       "array([[11040725, 13593453, 17970655, 15846496, 15332412],\n",
       "       [  329620,  4942267,  7327770, 10084591,  3975174],\n",
       "       [18723874,   618373,  3086913, 11621512, 14568144],\n",
       "       ...,\n",
       "       [14087007,  2022710, 17832560,  2478349,   560190],\n",
       "       [13976516,   425006,  9152679,    56147, 12638176],\n",
       "       [ 8177325,  9274190,  2454101,  3105630,  2062167]])"
      ]
     },
     "execution_count": 209,
     "metadata": {},
     "output_type": "execute_result"
    }
   ],
   "source": [
    "p[argsort, np.arange(argsort.shape[1])]"
   ]
  },
  {
   "cell_type": "code",
   "execution_count": 215,
   "metadata": {},
   "outputs": [
    {
     "data": {
      "text/plain": [
       "0.9444565105724636"
      ]
     },
     "execution_count": 215,
     "metadata": {},
     "output_type": "execute_result"
    }
   ],
   "source": [
    "r[8177325,0]"
   ]
  },
  {
   "cell_type": "code",
   "execution_count": 217,
   "metadata": {},
   "outputs": [
    {
     "data": {
      "text/plain": [
       "array([[0.88081825, 0.87613495, 0.87151676, 0.89276173, 0.81761281],\n",
       "       [0.90585468, 0.90718728, 0.89120494, 0.90733109, 0.85100793],\n",
       "       [0.91669974, 0.89598432, 0.91167512, 0.91110668, 0.83358249],\n",
       "       ...,\n",
       "       [0.91819576, 0.90993734, 0.92661172, 0.89442718, 0.85032848],\n",
       "       [0.91305674, 0.90290071, 0.90147887, 0.8897185 , 0.84382922],\n",
       "       [0.92485938, 0.90326949, 0.92039408, 0.91274687, 0.84756293]])"
      ]
     },
     "execution_count": 217,
     "metadata": {},
     "output_type": "execute_result"
    }
   ],
   "source": [
    "r"
   ]
  },
  {
   "cell_type": "code",
   "execution_count": 162,
   "metadata": {},
   "outputs": [
    {
     "data": {
      "text/plain": [
       "array([[4, 2, 9],\n",
       "       [1, 5, 3]])"
      ]
     },
     "execution_count": 162,
     "metadata": {},
     "output_type": "execute_result"
    }
   ],
   "source": [
    "a = np.array([[1,2,3], [4,5,6], [7,8,9]])\n",
    "a[idx, np.arange(idx.shape[1])]\n"
   ]
  },
  {
   "cell_type": "code",
   "execution_count": 159,
   "metadata": {},
   "outputs": [],
   "source": [
    "idx = np.array([[1,0],[0,1],[2,0]])\n",
    "idx = idx.T"
   ]
  },
  {
   "cell_type": "code",
   "execution_count": 163,
   "metadata": {},
   "outputs": [
    {
     "data": {
      "text/plain": [
       "array([[1, 2, 3],\n",
       "       [4, 5, 6],\n",
       "       [7, 8, 9]])"
      ]
     },
     "execution_count": 163,
     "metadata": {},
     "output_type": "execute_result"
    }
   ],
   "source": [
    "a"
   ]
  },
  {
   "cell_type": "code",
   "execution_count": 160,
   "metadata": {},
   "outputs": [
    {
     "data": {
      "text/plain": [
       "array([[1, 0, 2],\n",
       "       [0, 1, 0]])"
      ]
     },
     "execution_count": 160,
     "metadata": {},
     "output_type": "execute_result"
    }
   ],
   "source": [
    "idx"
   ]
  },
  {
   "cell_type": "code",
   "execution_count": 158,
   "metadata": {},
   "outputs": [
    {
     "data": {
      "text/plain": [
       "array([1, 4, 7])"
      ]
     },
     "execution_count": 158,
     "metadata": {},
     "output_type": "execute_result"
    }
   ],
   "source": [
    "a[:,0]"
   ]
  },
  {
   "cell_type": "code",
   "execution_count": 3,
   "metadata": {},
   "outputs": [
    {
     "name": "stdout",
     "output_type": "stream",
     "text": [
      "__________________________________________________________________________________________________\n",
      "Layer (type)                    Output Shape         Param #     Connected to                     \n",
      "==================================================================================================\n",
      "dssm_query_input (InputLayer)   (None, 48482)        0                                            \n",
      "__________________________________________________________________________________________________\n",
      "dssm_pos_doc_input (InputLayer) (None, 48482)        0                                            \n",
      "__________________________________________________________________________________________________\n",
      "dssm_neg_doc_input_0 (InputLaye (None, 48482)        0                                            \n",
      "__________________________________________________________________________________________________\n",
      "dssm_neg_doc_input_1 (InputLaye (None, 48482)        0                                            \n",
      "__________________________________________________________________________________________________\n",
      "dssm_neg_doc_input_2 (InputLaye (None, 48482)        0                                            \n",
      "__________________________________________________________________________________________________\n",
      "dssm_neg_doc_input_3 (InputLaye (None, 48482)        0                                            \n",
      "__________________________________________________________________________________________________\n",
      "siamese_model (Model)           (None, 1)            14673728    dssm_query_input[0][0]           \n",
      "                                                                 dssm_pos_doc_input[0][0]         \n",
      "                                                                 dssm_query_input[0][0]           \n",
      "                                                                 dssm_neg_doc_input_0[0][0]       \n",
      "                                                                 dssm_query_input[0][0]           \n",
      "                                                                 dssm_neg_doc_input_1[0][0]       \n",
      "                                                                 dssm_query_input[0][0]           \n",
      "                                                                 dssm_neg_doc_input_2[0][0]       \n",
      "                                                                 dssm_query_input[0][0]           \n",
      "                                                                 dssm_neg_doc_input_3[0][0]       \n",
      "__________________________________________________________________________________________________\n",
      "concatenate (Concatenate)       (None, 5)            0           siamese_model[1][0]              \n",
      "                                                                 siamese_model[2][0]              \n",
      "                                                                 siamese_model[3][0]              \n",
      "                                                                 siamese_model[4][0]              \n",
      "                                                                 siamese_model[5][0]              \n",
      "__________________________________________________________________________________________________\n",
      "activation (Activation)         (None, 5)            0           concatenate[0][0]                \n",
      "==================================================================================================\n",
      "Total params: 14,673,728\n",
      "Trainable params: 14,673,728\n",
      "Non-trainable params: 0\n",
      "__________________________________________________________________________________________________\n"
     ]
    }
   ],
   "source": [
    "d.summary()"
   ]
  },
  {
   "cell_type": "code",
   "execution_count": 4,
   "metadata": {},
   "outputs": [
    {
     "ename": "AttributeError",
     "evalue": "'DSSM_Projection' object has no attribute 'summary'",
     "output_type": "error",
     "traceback": [
      "\u001b[0;31m---------------------------------------------------------------------------\u001b[0m",
      "\u001b[0;31mAttributeError\u001b[0m                            Traceback (most recent call last)",
      "\u001b[0;32m<ipython-input-4-39fdc0fda547>\u001b[0m in \u001b[0;36m<module>\u001b[0;34m()\u001b[0m\n\u001b[0;32m----> 1\u001b[0;31m \u001b[0md\u001b[0m\u001b[0;34m.\u001b[0m\u001b[0mget_layer\u001b[0m\u001b[0;34m(\u001b[0m\u001b[0;34m\"siamese_model\"\u001b[0m\u001b[0;34m)\u001b[0m\u001b[0;34m.\u001b[0m\u001b[0mget_layer\u001b[0m\u001b[0;34m(\u001b[0m\u001b[0;34m\"projection\"\u001b[0m\u001b[0;34m)\u001b[0m\u001b[0;34m.\u001b[0m\u001b[0msummary\u001b[0m\u001b[0;34m(\u001b[0m\u001b[0;34m)\u001b[0m\u001b[0;34m\u001b[0m\u001b[0m\n\u001b[0m",
      "\u001b[0;31mAttributeError\u001b[0m: 'DSSM_Projection' object has no attribute 'summary'"
     ]
    }
   ],
   "source": [
    "d.get_layer(\"siamese_model\").get_layer(\"projection\").summary()"
   ]
  },
  {
   "cell_type": "code",
   "execution_count": 5,
   "metadata": {},
   "outputs": [
    {
     "name": "stdout",
     "output_type": "stream",
     "text": [
      "__________________________________________________________________________________________________\n",
      "Layer (type)                    Output Shape         Param #     Connected to                     \n",
      "==================================================================================================\n",
      "dssm_query_input (InputLayer)   (None, 48482)        0                                            \n",
      "__________________________________________________________________________________________________\n",
      "dssm_pos_doc_input (InputLayer) (None, 48482)        0                                            \n",
      "__________________________________________________________________________________________________\n",
      "dssm_neg_doc_input_0 (InputLaye (None, 48482)        0                                            \n",
      "__________________________________________________________________________________________________\n",
      "dssm_neg_doc_input_1 (InputLaye (None, 48482)        0                                            \n",
      "__________________________________________________________________________________________________\n",
      "dssm_neg_doc_input_2 (InputLaye (None, 48482)        0                                            \n",
      "__________________________________________________________________________________________________\n",
      "dssm_neg_doc_input_3 (InputLaye (None, 48482)        0                                            \n",
      "__________________________________________________________________________________________________\n",
      "siamese_model (Model)           (None, 1)            0           dssm_query_input[0][0]           \n",
      "                                                                 dssm_pos_doc_input[0][0]         \n",
      "                                                                 dssm_query_input[0][0]           \n",
      "                                                                 dssm_neg_doc_input_0[0][0]       \n",
      "                                                                 dssm_query_input[0][0]           \n",
      "                                                                 dssm_neg_doc_input_1[0][0]       \n",
      "                                                                 dssm_query_input[0][0]           \n",
      "                                                                 dssm_neg_doc_input_2[0][0]       \n",
      "                                                                 dssm_query_input[0][0]           \n",
      "                                                                 dssm_neg_doc_input_3[0][0]       \n",
      "__________________________________________________________________________________________________\n",
      "concatenate (Concatenate)       (None, 5)            0           siamese_model[1][0]              \n",
      "                                                                 siamese_model[2][0]              \n",
      "                                                                 siamese_model[3][0]              \n",
      "                                                                 siamese_model[4][0]              \n",
      "                                                                 siamese_model[5][0]              \n",
      "__________________________________________________________________________________________________\n",
      "activation (Activation)         (None, 5)            0           concatenate[0][0]                \n",
      "==================================================================================================\n",
      "Total params: 0\n",
      "Trainable params: 0\n",
      "Non-trainable params: 0\n",
      "__________________________________________________________________________________________________\n"
     ]
    }
   ],
   "source": [
    "#d = load_model(\"/backup/saved_models/same_q_d_model_dssm_model.h5\")\n",
    "d.summary()"
   ]
  },
  {
   "cell_type": "code",
   "execution_count": 8,
   "metadata": {},
   "outputs": [],
   "source": [
    "from models.fast_neural_retrieval.dssm_model import dssm_projectiom_model\n",
    "from tensorflow.keras.layers import Input"
   ]
  },
  {
   "cell_type": "code",
   "execution_count": 11,
   "metadata": {},
   "outputs": [],
   "source": [
    "f = dssm_projectiom_model(\"cenas\")"
   ]
  },
  {
   "cell_type": "code",
   "execution_count": 9,
   "metadata": {},
   "outputs": [],
   "source": [
    "i = Input(shape=(None,48482))"
   ]
  },
  {
   "cell_type": "code",
   "execution_count": 13,
   "metadata": {},
   "outputs": [
    {
     "ename": "TypeError",
     "evalue": "build_model() missing 1 required positional argument: 'self'",
     "output_type": "error",
     "traceback": [
      "\u001b[0;31m---------------------------------------------------------------------------\u001b[0m",
      "\u001b[0;31mTypeError\u001b[0m                                 Traceback (most recent call last)",
      "\u001b[0;32m<ipython-input-13-bd0f6e445589>\u001b[0m in \u001b[0;36m<module>\u001b[0;34m()\u001b[0m\n\u001b[0;32m----> 1\u001b[0;31m \u001b[0mf\u001b[0m\u001b[0;34m(\u001b[0m\u001b[0minputs\u001b[0m\u001b[0;34m=\u001b[0m\u001b[0mi\u001b[0m\u001b[0;34m)\u001b[0m\u001b[0;34m\u001b[0m\u001b[0m\n\u001b[0m",
      "\u001b[0;31mTypeError\u001b[0m: build_model() missing 1 required positional argument: 'self'"
     ]
    }
   ],
   "source": [
    "f(inputs=i)"
   ]
  },
  {
   "cell_type": "markdown",
   "metadata": {},
   "source": [
    "<a id='bm25_deep_rank'></a>\n",
    "\n",
    "## BM25 data to deep RANK"
   ]
  },
  {
   "cell_type": "code",
   "execution_count": 6,
   "metadata": {},
   "outputs": [
    {
     "name": "stdout",
     "output_type": "stream",
     "text": [
      "Open /backup/results/fast_method_relevant_results/train_data_deep_models_v2.tar.gz\n"
     ]
    },
    {
     "ename": "KeyboardInterrupt",
     "evalue": "",
     "output_type": "error",
     "traceback": [
      "\u001b[0;31m---------------------------------------------------------------------------\u001b[0m",
      "\u001b[0;31mKeyboardInterrupt\u001b[0m                         Traceback (most recent call last)",
      "\u001b[0;32m/usr/local/lib/python3.5/dist-packages/IPython/core/interactiveshell.py\u001b[0m in \u001b[0;36mrun_code\u001b[0;34m(self, code_obj, result)\u001b[0m\n\u001b[1;32m   2962\u001b[0m                 \u001b[0;31m#rprint('Running code', repr(code_obj)) # dbg\u001b[0m\u001b[0;34m\u001b[0m\u001b[0;34m\u001b[0m\u001b[0m\n\u001b[0;32m-> 2963\u001b[0;31m                 \u001b[0mexec\u001b[0m\u001b[0;34m(\u001b[0m\u001b[0mcode_obj\u001b[0m\u001b[0;34m,\u001b[0m \u001b[0mself\u001b[0m\u001b[0;34m.\u001b[0m\u001b[0muser_global_ns\u001b[0m\u001b[0;34m,\u001b[0m \u001b[0mself\u001b[0m\u001b[0;34m.\u001b[0m\u001b[0muser_ns\u001b[0m\u001b[0;34m)\u001b[0m\u001b[0;34m\u001b[0m\u001b[0m\n\u001b[0m\u001b[1;32m   2964\u001b[0m             \u001b[0;32mfinally\u001b[0m\u001b[0;34m:\u001b[0m\u001b[0;34m\u001b[0m\u001b[0m\n",
      "\u001b[0;32m<ipython-input-6-850e57e0b39d>\u001b[0m in \u001b[0;36m<module>\u001b[0;34m()\u001b[0m\n\u001b[1;32m      9\u001b[0m \u001b[0mf\u001b[0m \u001b[0;34m=\u001b[0m \u001b[0mtar\u001b[0m\u001b[0;34m.\u001b[0m\u001b[0mextractfile\u001b[0m\u001b[0;34m(\u001b[0m\u001b[0mm\u001b[0m\u001b[0;34m)\u001b[0m\u001b[0;34m\u001b[0m\u001b[0m\n\u001b[0;32m---> 10\u001b[0;31m \u001b[0mtest_articles_collection\u001b[0m \u001b[0;34m=\u001b[0m \u001b[0mpickle\u001b[0m\u001b[0;34m.\u001b[0m\u001b[0mload\u001b[0m\u001b[0;34m(\u001b[0m\u001b[0mf\u001b[0m\u001b[0;34m)\u001b[0m\u001b[0;34m\u001b[0m\u001b[0m\n\u001b[0m\u001b[1;32m     11\u001b[0m \u001b[0;34m\u001b[0m\u001b[0m\n",
      "\u001b[0;32m/usr/lib/python3.5/tarfile.py\u001b[0m in \u001b[0;36mreadinto\u001b[0;34m(self, b)\u001b[0m\n\u001b[1;32m    696\u001b[0m \u001b[0;34m\u001b[0m\u001b[0m\n\u001b[0;32m--> 697\u001b[0;31m     \u001b[0;32mdef\u001b[0m \u001b[0mreadinto\u001b[0m\u001b[0;34m(\u001b[0m\u001b[0mself\u001b[0m\u001b[0;34m,\u001b[0m \u001b[0mb\u001b[0m\u001b[0;34m)\u001b[0m\u001b[0;34m:\u001b[0m\u001b[0;34m\u001b[0m\u001b[0m\n\u001b[0m\u001b[1;32m    698\u001b[0m         \u001b[0mbuf\u001b[0m \u001b[0;34m=\u001b[0m \u001b[0mself\u001b[0m\u001b[0;34m.\u001b[0m\u001b[0mread\u001b[0m\u001b[0;34m(\u001b[0m\u001b[0mlen\u001b[0m\u001b[0;34m(\u001b[0m\u001b[0mb\u001b[0m\u001b[0;34m)\u001b[0m\u001b[0;34m)\u001b[0m\u001b[0;34m\u001b[0m\u001b[0m\n",
      "\u001b[0;31mKeyboardInterrupt\u001b[0m: ",
      "\nDuring handling of the above exception, another exception occurred:\n",
      "\u001b[0;31mKeyboardInterrupt\u001b[0m                         Traceback (most recent call last)",
      "\u001b[0;31mKeyboardInterrupt\u001b[0m: "
     ]
    }
   ],
   "source": [
    "import tarfile\n",
    "\n",
    "path_dl_test = \"/backup/results/fast_method_relevant_results/train_data_deep_models_v2.tar.gz\"\n",
    "\n",
    "tar = tarfile.open(path_dl_test)\n",
    "#open\n",
    "print(\"Open\",path_dl_test)\n",
    "m = tar.getmembers()[0]\n",
    "f = tar.extractfile(m)\n",
    "test_articles_collection = pickle.load(f)\n",
    "\n",
    "f.close()"
   ]
  },
  {
   "cell_type": "code",
   "execution_count": null,
   "metadata": {},
   "outputs": [],
   "source": [
    "path_file=\"/backup/results/deep_rank/deep_rank_v2_train_data.p\"\n",
    "\n",
    "with open(path_file,\"rb\") as f:\n",
    "    deep_rank_test_query_results = pickle.load(f)\n",
    "\n",
    "bio_docs = dict(map(lambda x:(x[\"id\"],{\"bm25_result\":x[\"documents\"],\"goldstandard\":x[\"positive_pmid\"]}),test_articles_collection[\"bioasq_data\"]))    \n",
    "\n",
    "id_to_remove = []\n",
    "for k,v in deep_rank_test_query_results.items():\n",
    "    \n",
    "    if len(v[\"goldstandard\"]) == 0:\n",
    "        id_to_remove.append(k)\n",
    "        continue\n",
    "    \n",
    "    bio_docs[k][\"goldstandard\"] = v[\"goldstandard\"]\n",
    "\n",
    "for k in id_to_remove:\n",
    "    del bio_docs[k]\n",
    "    \n",
    "bio_docs = list(bio_docs.values())\n",
    "\n",
    "print(\"TEST set, len \",len(bio_docs))\n",
    "\n",
    "expectations = list(map(lambda x:x[\"goldstandard\"],bio_docs))\n",
    "predictions = list(map(lambda x:x[\"bm25_result\"],bio_docs))\n",
    "\n",
    "print(\"Recall:\",f_recall(predictions,expectations,at=1000))\n",
    "print(\"MAP:\",f_map(predictions,expectations, use_len=True))\n",
    "print(\"MAP @50:\",f_map(predictions,expectations, bioASQ=True, at=50))\n",
    "print(\"MAP @100:\",f_map(predictions,expectations, bioASQ=True, at=100))\n",
    "print(\"MAP @200:\",f_map(predictions,expectations, bioASQ=True, at=200))\n",
    "print(\"MAP @300:\",f_map(predictions,expectations, bioASQ=True, at=300))\n",
    "print(\"MAP bioASQ:\",f_map(predictions,expectations,bioASQ=True))"
   ]
  },
  {
   "cell_type": "code",
   "execution_count": null,
   "metadata": {},
   "outputs": [],
   "source": []
  },
  {
   "cell_type": "markdown",
   "metadata": {},
   "source": [
    "<a id='deep_rank'></a>\n",
    "\n",
    "## DEEP RANK"
   ]
  },
  {
   "cell_type": "code",
   "execution_count": null,
   "metadata": {},
   "outputs": [],
   "source": []
  },
  {
   "cell_type": "code",
   "execution_count": 26,
   "metadata": {},
   "outputs": [],
   "source": [
    "path_file=\"/backup/results/deep_rank/deep_rank_v2_17_1_test_data.p\"\n",
    "\n",
    "with open(path_file,\"rb\") as f:\n",
    "    deep_rank_test_query_results = pickle.load(f)"
   ]
  },
  {
   "cell_type": "code",
   "execution_count": 27,
   "metadata": {},
   "outputs": [
    {
     "name": "stdout",
     "output_type": "stream",
     "text": [
      "TEST set, len  489\n",
      "MAP @10 bioASQ: 0.16640820268120873\n",
      "MAP @25: 0.2418029506259341\n",
      "MAP @50: 0.2794877296558311\n",
      "MAP @100: 0.3006927072390499\n",
      "MAP @200: 0.3106717405497745\n",
      "MAP @300: 0.31393638528831924\n",
      "MAP: 0.2903386468781293\n"
     ]
    }
   ],
   "source": [
    "id_to_remove = []\n",
    "for k,v in deep_rank_test_query_results.items():\n",
    "    if len(v[\"goldstandard\"]) == 0:\n",
    "        id_to_remove.append(k)\n",
    "        \n",
    "for k in id_to_remove:\n",
    "    del deep_rank_test_query_results[k]\n",
    "\n",
    "deep_rank_test_query_results = list(deep_rank_test_query_results.values())\n",
    "\n",
    "print(\"TEST set, len \",len(deep_rank_test_query_results))\n",
    "\n",
    "expectations = list(map(lambda x:x[\"goldstandard\"],deep_rank_test_query_results))\n",
    "predictions = list(map(lambda x:x[\"result\"],deep_rank_test_query_results))\n",
    "\n",
    "#print(\"Recall:\",f_recall(predictions,expectations,at=1000))\n",
    "print(\"MAP @10 bioASQ:\",f_map(predictions,expectations,bioASQ=True))\n",
    "print(\"MAP @25:\",f_map(predictions,expectations, bioASQ=True, at=25))\n",
    "print(\"MAP @50:\",f_map(predictions,expectations, bioASQ=True, at=50))\n",
    "print(\"MAP @100:\",f_map(predictions,expectations, bioASQ=True, at=100))\n",
    "print(\"MAP @200:\",f_map(predictions,expectations, bioASQ=True, at=200))\n",
    "print(\"MAP @300:\",f_map(predictions,expectations, bioASQ=True, at=300))\n",
    "\n",
    "print(\"MAP:\",f_map(predictions,expectations, use_len=True))"
   ]
  },
  {
   "cell_type": "code",
   "execution_count": 28,
   "metadata": {},
   "outputs": [],
   "source": [
    "path_file=\"/backup/results/deep_rank/deep_rank_v2_train_data.p\"\n",
    "\n",
    "with open(path_file,\"rb\") as f:\n",
    "    deep_rank_train_set = pickle.load(f)"
   ]
  },
  {
   "cell_type": "code",
   "execution_count": 36,
   "metadata": {},
   "outputs": [
    {
     "name": "stdout",
     "output_type": "stream",
     "text": [
      "TRAIN set, len predictions 2137 len expecations 2198\n",
      "TRAIN set, len predictions 2198 len expecations 2198\n",
      "Recall: 0.8503975538109899\n",
      "MAP: 0.513108553800485\n",
      "MAP @100: 0.4198523252766251\n",
      "MAP bioASQ: 0.17122533833066206\n"
     ]
    }
   ],
   "source": [
    "\n",
    "print(\"TRAIN set, len predictions\",len(deep_rank_train_set),\"len expecations\",len(bioASQ_data_train))\n",
    "expectations = []\n",
    "deep_rank_train_results = []\n",
    "tested_id = []\n",
    "\n",
    "#deep_rank_train_set = list(map(lambda x:x[\"result\"],bioASQ_data_train))\n",
    "expectations = list(map(lambda x:x[\"documents\"],bioASQ_data_train))\n",
    "\n",
    "for i,bioasq_query in enumerate(bioASQ_data_train):\n",
    "    if bioasq_query[\"id\"] in deep_rank_train_set:\n",
    "        tested_id.append(bioasq_query[\"id\"])\n",
    "        deep_rank_train_results.append(deep_rank_train_set[bioasq_query[\"id\"]][\"result\"])\n",
    "    else:\n",
    "        deep_rank_train_results.append(bm25_train_results[i])\n",
    "\n",
    "\n",
    "print(\"TRAIN set, len predictions\",len(deep_rank_train_results),\"len expecations\",len(expectations))\n",
    "\n",
    "print(\"Recall:\",f_recall(deep_rank_train_results,expectations,at=5000))\n",
    "print(\"MAP:\",f_map(deep_rank_train_results,expectations))\n",
    "print(\"MAP @100:\",f_map(deep_rank_train_results,expectations, at=100))\n",
    "print(\"MAP bioASQ:\",f_map(deep_rank_train_results,expectations,bioASQ=True))"
   ]
  },
  {
   "cell_type": "code",
   "execution_count": null,
   "metadata": {},
   "outputs": [],
   "source": []
  }
 ],
 "metadata": {
  "kernelspec": {
   "display_name": "Python 3",
   "language": "python",
   "name": "python3"
  },
  "language_info": {
   "codemirror_mode": {
    "name": "ipython",
    "version": 3
   },
   "file_extension": ".py",
   "mimetype": "text/x-python",
   "name": "python",
   "nbconvert_exporter": "python",
   "pygments_lexer": "ipython3",
   "version": "3.5.2"
  }
 },
 "nbformat": 4,
 "nbformat_minor": 2
}
