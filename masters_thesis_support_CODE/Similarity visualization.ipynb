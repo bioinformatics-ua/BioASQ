{
 "cells": [
  {
   "cell_type": "code",
   "execution_count": 1,
   "metadata": {},
   "outputs": [
    {
     "name": "stdout",
     "output_type": "stream",
     "text": [
      "import\n"
     ]
    }
   ],
   "source": [
    "import json\n",
    "from os.path import join\n",
    "import os\n",
    "os.chdir(\"/home/tiagoalmeida/bioASQ-taskb/\")\n",
    "\n",
    "import sys\n",
    "import pickle\n",
    "import gc\n",
    "import numpy as np\n",
    "import time\n",
    "\n",
    "##add keras to the modules\n",
    "module_path = os.path.abspath(os.path.join('pubmed_data'))\n",
    "if module_path not in sys.path:\n",
    "    sys.path.append(module_path)\n",
    "    \n",
    "from pubmed_data import pubmed_helper as ph\n",
    "\n",
    "from models.generic_model import ModelAPI, f_recall, f_map"
   ]
  },
  {
   "cell_type": "code",
   "execution_count": 2,
   "metadata": {},
   "outputs": [],
   "source": [
    "bioASQ_data_path = \"/backup/BioASQ-training7b/\"\n",
    "bioASQ_data_train = json.load(open(os.path.join(bioASQ_data_path,\"7b_train_split.json\")))\n",
    "bioASQ_data_test = json.load(open(os.path.join(bioASQ_data_path,\"7b_test_split.json\")))\n",
    "\n",
    "#goldstandard\n",
    "bioASQ_test_expectation = list(map(lambda x:x[\"documents\"],bioASQ_data_test))"
   ]
  },
  {
   "cell_type": "code",
   "execution_count": 48,
   "metadata": {},
   "outputs": [
    {
     "name": "stdout",
     "output_type": "stream",
     "text": [
      "Load regex_less_700k_freq_tokenizer.p\n"
     ]
    }
   ],
   "source": [
    "from models.generic_model import AWE,AWE_TFIDF\n",
    "\n",
    "#MODE = \"regex_full_tokens\"\n",
    "MODE = \"regex_less_700k_freq\"\n",
    "\n",
    "#Load\n",
    "tk = ph.load_tokenizer(MODE)\n",
    "model = AWE.load(MODE+\"_title_abs\")\n",
    "\n",
    "model.num_docs = 18824355"
   ]
  },
  {
   "cell_type": "code",
   "execution_count": 4,
   "metadata": {},
   "outputs": [],
   "source": [
    "#Test data\n",
    "bioASQ_test_queries_tokenized = tk.texts_to_sequences(map(lambda x:x[\"body\"],bioASQ_data_test))\n",
    "bioASQ_test_expectation = list(map(lambda x:x[\"documents\"],bioASQ_data_test))"
   ]
  },
  {
   "cell_type": "code",
   "execution_count": 5,
   "metadata": {},
   "outputs": [
    {
     "name": "stdout",
     "output_type": "stream",
     "text": [
      "Load /backup/saved_models/pmid_index_mapping.p\n"
     ]
    }
   ],
   "source": [
    "pmid_index_mapping = ph.pmid_index_mapping()\n",
    "\n",
    "model.top_k=10000\n"
   ]
  },
  {
   "cell_type": "code",
   "execution_count": 49,
   "metadata": {},
   "outputs": [
    {
     "name": "stdout",
     "output_type": "stream",
     "text": [
      "DEBUG: doc_awe_emb shape (18824355, 200)\n",
      "DEBUG: queries_awe_emb transpose shape (200, 25)\n",
      "DEBUG: doc_norm shape (18824355, 1)\n",
      "DEBUG: queries_norm shape (1, 25)\n",
      "DEBUG: norm shape (18824355, 25)\n",
      "DEBUG: dot_product shape (18824355, 25)\n",
      "predict the top 2500\n",
      "Sorting time: 32.591822147369385\n"
     ]
    }
   ],
   "source": [
    "query_max_index = 25\n",
    "\n",
    "#print(bioASQ_data_test[query_index][\"body\"])\n",
    "\n",
    "query = bioASQ_test_queries_tokenized[:query_max_index]\n",
    "\n",
    "predict = model.predict(query)[:1000,:]\n",
    "\n",
    "#flat_relevant_doc_index = [( pmid_index_mapping[y] for y in x ) for x in bioASQ_test_expectation[:query_index]]\n",
    "\n",
    "#flat_relevant_doc_index = set(map (lambda x: pmid_index_mapping[x],bioASQ_test_expectation[:query_index]))"
   ]
  },
  {
   "cell_type": "code",
   "execution_count": 52,
   "metadata": {},
   "outputs": [],
   "source": [
    "predicted_embeddings_docs = []\n",
    "embeddings_docs_rel = []\n",
    "\n",
    "for i in range(query_max_index):\n",
    "    query_emb = sum(map(lambda x: model.embedding[x] ,query[i]))/len(query[i])\n",
    "    query_emb = query_emb/np.linalg.norm(query_emb)\n",
    "    #query \n",
    "    #queries_emb.append(np.zeros(200)+0.00001)\n",
    "    \n",
    "    #documents\n",
    "    predicted_embeddings_docs.extend([ model.doc_awe[doc_id]/np.linalg.norm(model.doc_awe[doc_id])-query_emb for doc_id in predict[:,i]])\n",
    "    \n",
    "    #pos_doc\n",
    "    #relevant_doc_index = list(map (lambda x: pmid_index_mapping[x],bioASQ_test_expectation[i]))\n",
    "    embeddings_docs_rel.extend([ model.doc_awe[doc_id]/np.linalg.norm(model.doc_awe[doc_id])-query_emb for doc_id in predict[:,i] if pmid_index_mapping.inverse[doc_id] in set(bioASQ_test_expectation[i])])\n"
   ]
  },
  {
   "cell_type": "code",
   "execution_count": 44,
   "metadata": {},
   "outputs": [],
   "source": []
  },
  {
   "cell_type": "code",
   "execution_count": 11,
   "metadata": {},
   "outputs": [],
   "source": [
    "from sklearn.decomposition import PCA\n",
    "\n",
    "from matplotlib.pyplot import figure\n",
    "import matplotlib.pyplot as plt\n",
    "%matplotlib inline\n"
   ]
  },
  {
   "cell_type": "code",
   "execution_count": 77,
   "metadata": {},
   "outputs": [
    {
     "name": "stdout",
     "output_type": "stream",
     "text": [
      "[0.09630828 0.06484486]\n"
     ]
    }
   ],
   "source": []
  },
  {
   "cell_type": "code",
   "execution_count": null,
   "metadata": {},
   "outputs": [],
   "source": []
  },
  {
   "cell_type": "code",
   "execution_count": 53,
   "metadata": {},
   "outputs": [
    {
     "ename": "ValueError",
     "evalue": "Expected 2D array, got 1D array instead:\narray=[].\nReshape your data either using array.reshape(-1, 1) if your data has a single feature or array.reshape(1, -1) if it contains a single sample.",
     "output_type": "error",
     "traceback": [
      "\u001b[0;31m---------------------------------------------------------------------------\u001b[0m",
      "\u001b[0;31mValueError\u001b[0m                                Traceback (most recent call last)",
      "\u001b[0;32m<ipython-input-53-8e055e9fd462>\u001b[0m in \u001b[0;36m<module>\u001b[0;34m()\u001b[0m\n\u001b[1;32m      4\u001b[0m \u001b[0;34m\u001b[0m\u001b[0m\n\u001b[1;32m      5\u001b[0m \u001b[0mpredicted_embeddings_2d\u001b[0m \u001b[0;34m=\u001b[0m \u001b[0mpca\u001b[0m\u001b[0;34m.\u001b[0m\u001b[0mtransform\u001b[0m\u001b[0;34m(\u001b[0m\u001b[0mpredicted_embeddings_docs\u001b[0m\u001b[0;34m)\u001b[0m\u001b[0;34m\u001b[0m\u001b[0m\n\u001b[0;32m----> 6\u001b[0;31m \u001b[0membeddings_docs_rel_2d\u001b[0m \u001b[0;34m=\u001b[0m \u001b[0mpca\u001b[0m\u001b[0;34m.\u001b[0m\u001b[0mtransform\u001b[0m\u001b[0;34m(\u001b[0m\u001b[0membeddings_docs_rel\u001b[0m\u001b[0;34m)\u001b[0m\u001b[0;34m\u001b[0m\u001b[0m\n\u001b[0m\u001b[1;32m      7\u001b[0m \u001b[0mqueries_emb_2d\u001b[0m \u001b[0;34m=\u001b[0m \u001b[0mnp\u001b[0m\u001b[0;34m.\u001b[0m\u001b[0mzeros\u001b[0m\u001b[0;34m(\u001b[0m\u001b[0membeddings_docs_rel_2d\u001b[0m\u001b[0;34m.\u001b[0m\u001b[0mshape\u001b[0m\u001b[0;34m)\u001b[0m\u001b[0;34m\u001b[0m\u001b[0m\n\u001b[1;32m      8\u001b[0m \u001b[0mprint\u001b[0m\u001b[0;34m(\u001b[0m\u001b[0mpca\u001b[0m\u001b[0;34m.\u001b[0m\u001b[0mexplained_variance_ratio_\u001b[0m\u001b[0;34m)\u001b[0m\u001b[0;34m\u001b[0m\u001b[0m\n",
      "\u001b[0;32m/usr/local/lib/python3.5/dist-packages/sklearn/decomposition/base.py\u001b[0m in \u001b[0;36mtransform\u001b[0;34m(self, X)\u001b[0m\n\u001b[1;32m    126\u001b[0m         \u001b[0mcheck_is_fitted\u001b[0m\u001b[0;34m(\u001b[0m\u001b[0mself\u001b[0m\u001b[0;34m,\u001b[0m \u001b[0;34m[\u001b[0m\u001b[0;34m'mean_'\u001b[0m\u001b[0;34m,\u001b[0m \u001b[0;34m'components_'\u001b[0m\u001b[0;34m]\u001b[0m\u001b[0;34m,\u001b[0m \u001b[0mall_or_any\u001b[0m\u001b[0;34m=\u001b[0m\u001b[0mall\u001b[0m\u001b[0;34m)\u001b[0m\u001b[0;34m\u001b[0m\u001b[0m\n\u001b[1;32m    127\u001b[0m \u001b[0;34m\u001b[0m\u001b[0m\n\u001b[0;32m--> 128\u001b[0;31m         \u001b[0mX\u001b[0m \u001b[0;34m=\u001b[0m \u001b[0mcheck_array\u001b[0m\u001b[0;34m(\u001b[0m\u001b[0mX\u001b[0m\u001b[0;34m)\u001b[0m\u001b[0;34m\u001b[0m\u001b[0m\n\u001b[0m\u001b[1;32m    129\u001b[0m         \u001b[0;32mif\u001b[0m \u001b[0mself\u001b[0m\u001b[0;34m.\u001b[0m\u001b[0mmean_\u001b[0m \u001b[0;32mis\u001b[0m \u001b[0;32mnot\u001b[0m \u001b[0;32mNone\u001b[0m\u001b[0;34m:\u001b[0m\u001b[0;34m\u001b[0m\u001b[0m\n\u001b[1;32m    130\u001b[0m             \u001b[0mX\u001b[0m \u001b[0;34m=\u001b[0m \u001b[0mX\u001b[0m \u001b[0;34m-\u001b[0m \u001b[0mself\u001b[0m\u001b[0;34m.\u001b[0m\u001b[0mmean_\u001b[0m\u001b[0;34m\u001b[0m\u001b[0m\n",
      "\u001b[0;32m/usr/local/lib/python3.5/dist-packages/sklearn/utils/validation.py\u001b[0m in \u001b[0;36mcheck_array\u001b[0;34m(array, accept_sparse, dtype, order, copy, force_all_finite, ensure_2d, allow_nd, ensure_min_samples, ensure_min_features, warn_on_dtype, estimator)\u001b[0m\n\u001b[1;32m    439\u001b[0m                     \u001b[0;34m\"Reshape your data either using array.reshape(-1, 1) if \"\u001b[0m\u001b[0;34m\u001b[0m\u001b[0m\n\u001b[1;32m    440\u001b[0m                     \u001b[0;34m\"your data has a single feature or array.reshape(1, -1) \"\u001b[0m\u001b[0;34m\u001b[0m\u001b[0m\n\u001b[0;32m--> 441\u001b[0;31m                     \"if it contains a single sample.\".format(array))\n\u001b[0m\u001b[1;32m    442\u001b[0m             \u001b[0marray\u001b[0m \u001b[0;34m=\u001b[0m \u001b[0mnp\u001b[0m\u001b[0;34m.\u001b[0m\u001b[0matleast_2d\u001b[0m\u001b[0;34m(\u001b[0m\u001b[0marray\u001b[0m\u001b[0;34m)\u001b[0m\u001b[0;34m\u001b[0m\u001b[0m\n\u001b[1;32m    443\u001b[0m             \u001b[0;31m# To ensure that array flags are maintained\u001b[0m\u001b[0;34m\u001b[0m\u001b[0;34m\u001b[0m\u001b[0m\n",
      "\u001b[0;31mValueError\u001b[0m: Expected 2D array, got 1D array instead:\narray=[].\nReshape your data either using array.reshape(-1, 1) if your data has a single feature or array.reshape(1, -1) if it contains a single sample."
     ]
    }
   ],
   "source": [
    "pca = PCA(n_components=2)\n",
    "\n",
    "pca.fit(embeddings_docs_rel+predicted_embeddings_docs)\n",
    "\n",
    "predicted_embeddings_2d = pca.transform(predicted_embeddings_docs)\n",
    "embeddings_docs_rel_2d = pca.transform(embeddings_docs_rel)\n",
    "queries_emb_2d = np.zeros(embeddings_docs_rel_2d.shape)\n",
    "print(pca.explained_variance_ratio_)"
   ]
  },
  {
   "cell_type": "code",
   "execution_count": 45,
   "metadata": {},
   "outputs": [],
   "source": [
    "awe_predicted_embeddings_2d = predicted_embeddings_2d\n",
    "awe_queries_emb_2d = queries_emb_2d\n",
    "awe_embeddings_docs_rel_2d = embeddings_docs_rel_2d\n",
    "#[0.15223861 0.12097761]\n"
   ]
  },
  {
   "cell_type": "code",
   "execution_count": null,
   "metadata": {},
   "outputs": [],
   "source": [
    "awe_700k_predicted_embeddings_2d = predicted_embeddings_2d\n",
    "awe_700k_queries_emb_2d = queries_emb_2d\n",
    "awe_700k_embeddings_docs_rel_2d = embeddings_docs_rel_2d\n",
    "#[0.08892894 0.06206012]\n"
   ]
  },
  {
   "cell_type": "code",
   "execution_count": null,
   "metadata": {},
   "outputs": [],
   "source": [
    "\n",
    "\n",
    "figure(num=None, figsize=(12, 6), dpi=80, facecolor='w', edgecolor='k')\n",
    "\n",
    "plt.subplot(1, 2, 1)\n",
    "\n",
    "pred_x, pred_y = zip(*awe_predicted_embeddings_2d)\n",
    "query_x, query_y = zip(*awe_queries_emb_2d)\n",
    "true_x, true_y = zip(*awe_embeddings_docs_rel_2d)\n",
    "\n",
    "plt.scatter(pred_x,pred_y,s=1, alpha =0.7)\n",
    "plt.scatter(true_x,true_y,s=5)\n",
    "plt.scatter(query_x,query_y,s=10,c=\"red\")\n",
    "#plt.xlim(-0.4, 0.4)\n",
    "#plt.ylim(-0.4, 0.4)\n",
    "\n",
    "plt.subplot(1, 2, 2)\n",
    "\n",
    "pred_x, pred_y = zip(*awe_700k_predicted_embeddings_2d)\n",
    "query_x, query_y = zip(*awe_700k_queries_emb_2d)\n",
    "true_x, true_y = zip(*awe_700k_embeddings_docs_rel_2d)\n",
    "\n",
    "plt.scatter(pred_x,pred_y,s=1, alpha =0.7)\n",
    "plt.scatter(true_x,true_y,s=5)\n",
    "plt.scatter(query_x,query_y,s=10,c=\"red\")\n",
    "#plt.xlim(-0.4, 0.4)\n",
    "#plt.ylim(-0.4, 0.4)"
   ]
  },
  {
   "cell_type": "code",
   "execution_count": null,
   "metadata": {},
   "outputs": [],
   "source": []
  },
  {
   "cell_type": "code",
   "execution_count": null,
   "metadata": {},
   "outputs": [],
   "source": []
  }
 ],
 "metadata": {
  "kernelspec": {
   "display_name": "Python 3",
   "language": "python",
   "name": "python3"
  },
  "language_info": {
   "codemirror_mode": {
    "name": "ipython",
    "version": 3
   },
   "file_extension": ".py",
   "mimetype": "text/x-python",
   "name": "python",
   "nbconvert_exporter": "python",
   "pygments_lexer": "ipython3",
   "version": "3.5.2"
  }
 },
 "nbformat": 4,
 "nbformat_minor": 2
}
