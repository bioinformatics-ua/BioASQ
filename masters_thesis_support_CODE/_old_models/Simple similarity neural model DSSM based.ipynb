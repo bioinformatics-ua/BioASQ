{
 "cells": [
  {
   "cell_type": "code",
   "execution_count": 1,
   "metadata": {},
   "outputs": [
    {
     "name": "stderr",
     "output_type": "stream",
     "text": [
      "/usr/lib/python3.5/importlib/_bootstrap.py:222: RuntimeWarning: numpy.dtype size changed, may indicate binary incompatibility. Expected 96, got 88\n",
      "  return f(*args, **kwds)\n",
      "/usr/lib/python3.5/importlib/_bootstrap.py:222: RuntimeWarning: numpy.dtype size changed, may indicate binary incompatibility. Expected 96, got 88\n",
      "  return f(*args, **kwds)\n",
      "/usr/lib/python3.5/importlib/_bootstrap.py:222: RuntimeWarning: numpy.dtype size changed, may indicate binary incompatibility. Expected 96, got 88\n",
      "  return f(*args, **kwds)\n"
     ]
    }
   ],
   "source": [
    "import numpy as np\n",
    "import json\n",
    "import os\n",
    "import gc\n",
    "from collections import defaultdict\n",
    "from gensim.models.keyedvectors import KeyedVectors\n",
    "from gensim.parsing import remove_stopwords\n",
    "\n",
    "from tensorflow.keras.preprocessing.text import Tokenizer\n",
    "from tensorflow.keras.preprocessing.sequence import pad_sequences\n",
    "from tensorflow.keras.layers import Embedding, LSTM, Dense, Flatten, Dot, Input,Activation\n",
    "from tensorflow.keras import Model\n",
    "from tensorflow.keras.optimizers import Adam,RMSprop,SGD\n",
    "from tensorflow.keras.callbacks import ModelCheckpoint, TensorBoard,TerminateOnNaN,Callback\n",
    "from tensorflow.keras.models import load_model\n",
    "from tensorflow.keras.utils import get_custom_objects\n",
    "\n",
    "\n",
    "import tensorflow.keras.backend as K\n",
    "import pickle\n",
    "\n",
    "from nltk.tokenize import word_tokenize\n",
    "\n",
    "import matplotlib.pyplot as plt\n",
    "%matplotlib inline\n"
   ]
  },
  {
   "cell_type": "markdown",
   "metadata": {},
   "source": [
    "## DATASET"
   ]
  },
  {
   "cell_type": "code",
   "execution_count": 2,
   "metadata": {},
   "outputs": [
    {
     "name": "stdout",
     "output_type": "stream",
     "text": [
      "Num documents 1400 Num queries 225\n"
     ]
    }
   ],
   "source": [
    "docs = [(doc[\"id\"],(doc[\"title\"]+doc[\"body\"])) for doc in json.load(open(os.path.join(\"..\",\"similarity\",\"crag_doc.json\"),\"r\"))]\n",
    "queries = [(query[\"query number\"],query[\"query\"]) for query in json.load(open(os.path.join(\"..\",\"similarity\",\"crag_queries.json\"),\"r\"))][:-1]\n",
    "relevance = json.load(open(os.path.join(\"..\",\"similarity\",\"crag_relevance.json\"),\"r\"))\n",
    "\n",
    "STOP_WORDS = True\n",
    "\n",
    "if STOP_WORDS:\n",
    "    docs = { k:word_tokenize(remove_stopwords(v)) for k,v in docs}\n",
    "    queries = { k:word_tokenize(remove_stopwords(v)) for k,v in queries}\n",
    "else:\n",
    "    docs = { k:word_tokenize(v) for k,v in docs}\n",
    "    queries = { k:word_tokenize(v) for k,v in queries}\n",
    "\n",
    "query_relevance = defaultdict(list)\n",
    "[query_relevance[line[\"query_num\"]].append((line[\"id\"],line[\"position\"])) for line in relevance]\n",
    "query_relevance = [(k,list(map(lambda t:int(t[0]),sorted(v, key=lambda x:-x[1])))) for k,v in query_relevance.items()]\n",
    "query_relevance = { int(k):v for k,v in query_relevance}\n",
    "\n",
    "\n",
    "\n",
    "#remove stop words\n",
    "#docs = { k:remove_stopwords(v) for k,v in docs}\n",
    "#queries = { k:remove_stopwords(v) for k,v in queries}\n",
    "\n",
    "print(\"Num documents\",len(docs),\"Num queries\",len(queries))\n",
    "\n",
    "def stats_on_text(texts):\n",
    "    texts_lengths = [len(text) for text in texts]\n",
    "    print(\"avg length of the corpus\",np.mean(texts_lengths),\"std\",np.std(texts_lengths))\n",
    "    print(\"max length of the corpus\",np.max(texts_lengths),\"min\",np.min(texts_lengths))\n",
    "    #histogram\n",
    "    plt.hist(texts_lengths, bins=50)\n"
   ]
  },
  {
   "cell_type": "code",
   "execution_count": 3,
   "metadata": {},
   "outputs": [
    {
     "name": "stdout",
     "output_type": "stream",
     "text": [
      "avg length of the corpus 108.19599427753934 std 53.609195568263864\n",
      "max length of the corpus 404 min 22\n"
     ]
    },
    {
     "data": {
      "image/png": "[encoded data removed]",
      "text/plain": [
       "<Figure size 432x288 with 1 Axes>"
      ]
     },
     "metadata": {},
     "output_type": "display_data"
    }
   ],
   "source": [
    "\n",
    "MIN_DOC_WORDS = 10\n",
    "\n",
    "#remove the document dont cotains any words\n",
    "empty_docs = { k for k,v in filter(lambda x:len(x[1])<MIN_DOC_WORDS, docs.items()) }\n",
    "\n",
    "#remove docs\n",
    "for k in empty_docs:\n",
    "    del docs[k]\n",
    "\n",
    "#remove empty docs from groundthruth \n",
    "if len(empty_docs)>0:\n",
    "    for k in query_relevance.keys():\n",
    "        _temp = set(query_relevance[k])\n",
    "        if len(_temp&empty_docs)>0:\n",
    "            query_relevance[k] = list(_temp-empty_docs)\n",
    "     \n",
    "#verification\n",
    "#print(any([len(set(rel)&empty_docs)>0 for k,rel in query_relevance.items()]))\n",
    "\n",
    "all_doc_ids = set(docs.keys())\n",
    "\n",
    "stats_on_text(docs.values())"
   ]
  },
  {
   "cell_type": "code",
   "execution_count": 4,
   "metadata": {},
   "outputs": [
    {
     "name": "stdout",
     "output_type": "stream",
     "text": [
      "avg length of the corpus 10.95111111111111 std 4.208173117595606\n",
      "max length of the corpus 26 min 5\n"
     ]
    },
    {
     "data": {
      "image/png": "[encoded data removed]",
      "text/plain": [
       "<Figure size 432x288 with 1 Axes>"
      ]
     },
     "metadata": {},
     "output_type": "display_data"
    }
   ],
   "source": [
    "stats_on_text(queries.values())"
   ]
  },
  {
   "cell_type": "markdown",
   "metadata": {},
   "source": [
    "## LOAD EMBEDDINGS"
   ]
  },
  {
   "cell_type": "code",
   "execution_count": 5,
   "metadata": {},
   "outputs": [
    {
     "name": "stdout",
     "output_type": "stream",
     "text": [
      "(6796, 200)\n"
     ]
    }
   ],
   "source": [
    "PATH_EMBEDDINGS = os.path.join(\"..\",\"similarity\",\"CRAG_OUT_FROM_BIG_FILE_NLTK_TOKENIZER.bin\")\n",
    "\n",
    "model = KeyedVectors.load_word2vec_format(PATH_EMBEDDINGS, binary=True)\n",
    "\n",
    "print(model.vectors.shape)"
   ]
  },
  {
   "cell_type": "markdown",
   "metadata": {},
   "source": [
    "## Words dont cover by the embeddings"
   ]
  },
  {
   "cell_type": "code",
   "execution_count": 6,
   "metadata": {},
   "outputs": [
    {
     "name": "stdout",
     "output_type": "stream",
     "text": [
      "Dataset vocabulary: 10081\n",
      "Embeddings vocabulary: 6796\n",
      "Valid vocabulary: 6658\n"
     ]
    }
   ],
   "source": [
    "dataset_words = set()\n",
    "\n",
    "for q in queries.values():\n",
    "    dataset_words |= set(q)\n",
    "    \n",
    "for doc in docs.values():\n",
    "    dataset_words |= set(doc)\n",
    "    \n",
    "valid_vocabulary = list(dataset_words&set(model.index2word))\n",
    "\n",
    "print(\"Dataset vocabulary:\",len(dataset_words))\n",
    "print(\"Embeddings vocabulary:\",len(model.index2word))\n",
    "print(\"Valid vocabulary:\", len(valid_vocabulary))\n"
   ]
  },
  {
   "cell_type": "markdown",
   "metadata": {},
   "source": [
    "## Prepare the data"
   ]
  },
  {
   "cell_type": "code",
   "execution_count": 7,
   "metadata": {},
   "outputs": [],
   "source": [
    "MAX_DOC_LENGTH = 150\n",
    "MAX_QUERY_LENGTH = 20\n",
    "#Prepere keras tokenizer\n",
    "\n",
    "word_index = {token : idx + 1 for idx, token in enumerate(model.index2word)}\n",
    "word_index[\"<PAD>\"] = 0\n",
    "\n",
    "reverse_word_index = {idx : token  for token, idx in word_index.items()}\n",
    "\n",
    "def sequences_to_texts(texts):\n",
    "    return [' '.join([reverse_word_index.get(i, '?') for i in text]) for text in texts]\n",
    "\n",
    "keras_tokenizer = Tokenizer(num_words=len(word_index))\n",
    "keras_tokenizer.fit_on_texts([])# just to create word_index var in the Tokenizer object\n",
    "keras_tokenizer.word_index = word_index\n",
    "keras_tokenizer.sequences_to_texts = sequences_to_texts #hacking the Tokenizer object\n",
    "\n",
    "with open('tokenizer.pickle', 'wb') as handle:\n",
    "    pickle.dump(keras_tokenizer, handle, protocol=pickle.HIGHEST_PROTOCOL)\n",
    "\n",
    "#TODO tokenize and padding the data\n",
    "docs_tokenized_padded = {k:(pad_sequences(keras_tokenizer.texts_to_sequences([v]),value=word_index[\"<PAD>\"],padding='pre',maxlen=MAX_DOC_LENGTH)[0]) for k,v in docs.items()}\n",
    "queries_tokenized_padded = {k:(pad_sequences(keras_tokenizer.texts_to_sequences([v]),value=word_index[\"<PAD>\"],padding='pre',maxlen=MAX_QUERY_LENGTH)[0]) for k,v in queries.items()}\n",
    "\n",
    "#pad to a fixed length\n",
    "#docs_tokenized_padded = pad_sequences(docs_tokenized,value=word_index[\"<PAD>\"],padding='pre',maxlen=MAX_LENGTH)\n",
    "#queries_tokenized_padded = pad_sequences(queries_tokenized,value=word_index[\"<PAD>\"],padding='pre',maxlen=MAX_QUERY_LENGTH)\n",
    "\n",
    "def sample_training_data(num_query_batch=5, num_pos_docs=5,num_neg_docs=5):\n",
    "    \n",
    "    query_index = np.random.randint(len(query_relevance), size=num_query_batch)+1\n",
    "\n",
    "    X_query_input = []\n",
    "    X_document_input = []\n",
    "    Y_similarity = []\n",
    "    \n",
    "    for q_i in query_index:\n",
    "        \n",
    "        #get relevant documents\n",
    "        doc_rel = set(query_relevance[q_i])\n",
    "        doc_rel_select = np.random.choice(list(doc_rel), (num_pos_docs if num_pos_docs<=len(doc_rel) else len(doc_rel))) #usar diferentes prob para mais relevantes?\n",
    "        \n",
    "        #negative samples\n",
    "        doc_neg = all_doc_ids - doc_rel\n",
    "        doc_neg_select = np.random.choice(list(doc_neg), (num_neg_docs if num_neg_docs<=len(doc_neg) else len(doc_neg)))\n",
    "        \n",
    "        #ENSURE THIS!!!\n",
    "        assert not (doc_rel_select in doc_neg_select)\n",
    "        \n",
    "        for e in doc_rel_select:\n",
    "            X_query_input.append(queries_tokenized_padded[q_i])\n",
    "            X_document_input.append(docs_tokenized_padded[e])\n",
    "            Y_similarity.append(1)\n",
    "        \n",
    "        for e in doc_neg_select:\n",
    "            X_query_input.append(queries_tokenized_padded[q_i])\n",
    "            X_document_input.append(docs_tokenized_padded[e])\n",
    "            Y_similarity.append(0)\n",
    "            \n",
    "    return X_query_input,X_document_input,Y_similarity\n",
    "\n",
    "\n",
    "#Create data generator\n",
    "\n",
    "def generator(train_query_index, num_query_batch=5, num_pos_docs=5,num_neg_docs=5):\n",
    "    \n",
    "    while True:\n",
    "        #query_index = np.random.choice(list(train_query_index),num_query_batch)\n",
    "\n",
    "        #batch slit\n",
    "        for i in range(0,len(train_query_index),num_query_batch):\n",
    "        \n",
    "        \n",
    "            X_query_input = []\n",
    "            X_document_input = []\n",
    "            Y_similarity = []\n",
    "\n",
    "            for q_i in train_query_index[i:i+num_query_batch]:\n",
    "\n",
    "                #get relevant documents\n",
    "                doc_rel = set(query_relevance[q_i])\n",
    "                doc_rel_select = np.random.choice(list(doc_rel), (num_pos_docs if num_pos_docs<=len(doc_rel) else len(doc_rel))) #usar diferentes prob para mais relevantes?\n",
    "\n",
    "                #negative samples\n",
    "                doc_neg = all_doc_ids - doc_rel\n",
    "                doc_neg_select = np.random.choice(list(doc_neg), (num_neg_docs if num_neg_docs<=len(doc_neg) else len(doc_neg)))\n",
    "\n",
    "                #ENSURE THIS!!!\n",
    "                assert not (doc_rel_select in doc_neg_select)\n",
    "\n",
    "                for e in doc_rel_select:\n",
    "                    X_query_input.append(queries_tokenized_padded[q_i])\n",
    "                    X_document_input.append(docs_tokenized_padded[e])\n",
    "                    Y_similarity.append(1)\n",
    "\n",
    "                for e in doc_neg_select:\n",
    "                    X_query_input.append(queries_tokenized_padded[q_i])\n",
    "                    X_document_input.append(docs_tokenized_padded[e])\n",
    "                    Y_similarity.append(0)\n",
    "\n",
    "            yield [np.array(X_document_input),np.array(X_query_input)],np.array(Y_similarity)\n",
    "\n",
    "def generator_allpos(train_query_index, num_query_batch=5, num_neg_docs=None):\n",
    "    \n",
    "    while True:\n",
    "        #query_index = np.random.choice(list(train_query_index),num_query_batch)\n",
    "\n",
    "        #batch slit\n",
    "        for i in range(0,len(train_query_index),num_query_batch):\n",
    "        \n",
    "        \n",
    "            X_query_input = []\n",
    "            X_document_input = []\n",
    "            Y_similarity = []\n",
    "\n",
    "            for q_i in train_query_index[i:i+num_query_batch]:\n",
    "\n",
    "                #get relevant documents\n",
    "                doc_rel_select = set(query_relevance[q_i])\n",
    "                \n",
    "                #negative samples\n",
    "                doc_neg = all_doc_ids - doc_rel_select\n",
    "                if num_neg_docs is not None:\n",
    "                    doc_neg_select = np.random.choice(list(doc_neg), (num_neg_docs if num_neg_docs<=len(doc_neg) else len(doc_neg)))\n",
    "                else:\n",
    "                    doc_neg_select = np.random.choice(list(doc_neg), (len(doc_rel_select) if len(doc_rel_select)<=len(doc_neg) else len(doc_neg)))\n",
    "                #ENSURE THIS!!!\n",
    "                assert not (doc_rel_select in doc_neg_select)\n",
    "\n",
    "                for e in doc_rel_select:\n",
    "                    X_query_input.append(queries_tokenized_padded[q_i])\n",
    "                    X_document_input.append(docs_tokenized_padded[e])\n",
    "                    Y_similarity.append(1)\n",
    "\n",
    "                for e in doc_neg_select:\n",
    "                    X_query_input.append(queries_tokenized_padded[q_i])\n",
    "                    X_document_input.append(docs_tokenized_padded[e])\n",
    "                    Y_similarity.append(0)\n",
    "\n",
    "            yield [np.array(X_document_input),np.array(X_query_input)],np.array(Y_similarity)"
   ]
  },
  {
   "cell_type": "code",
   "execution_count": 8,
   "metadata": {},
   "outputs": [],
   "source": [
    "_d = { k:keras_tokenizer.texts_to_sequences([v])[0] for k,v in docs.items()}\n",
    "_q = { k:keras_tokenizer.texts_to_sequences([v])[0] for k,v in queries.items()}"
   ]
  },
  {
   "cell_type": "code",
   "execution_count": 9,
   "metadata": {},
   "outputs": [
    {
     "name": "stdout",
     "output_type": "stream",
     "text": [
      "avg length of the corpus 87.9005722460658 std 43.553472795168226\n",
      "max length of the corpus 332 min 19\n"
     ]
    },
    {
     "data": {
      "image/png": "[encoded data removed]",
      "text/plain": [
       "<Figure size 432x288 with 1 Axes>"
      ]
     },
     "metadata": {},
     "output_type": "display_data"
    }
   ],
   "source": [
    "stats_on_text(_d.values())"
   ]
  },
  {
   "cell_type": "code",
   "execution_count": 10,
   "metadata": {},
   "outputs": [
    {
     "name": "stdout",
     "output_type": "stream",
     "text": [
      "avg length of the corpus 9.097777777777777 std 3.6623300954986377\n",
      "max length of the corpus 21 min 2\n"
     ]
    },
    {
     "data": {
      "image/png": "[encoded data removed]",
      "text/plain": [
       "<Figure size 432x288 with 1 Axes>"
      ]
     },
     "metadata": {},
     "output_type": "display_data"
    }
   ],
   "source": [
    "stats_on_text(_q.values())"
   ]
  },
  {
   "cell_type": "markdown",
   "metadata": {},
   "source": [
    "## Define simple Similarity model with LSTM"
   ]
  },
  {
   "cell_type": "code",
   "execution_count": 11,
   "metadata": {},
   "outputs": [
    {
     "name": "stdout",
     "output_type": "stream",
     "text": [
      "_________________________________________________________________\n",
      "Layer (type)                 Output Shape              Param #   \n",
      "=================================================================\n",
      "document_model_words_input ( (None, 150)               0         \n",
      "_________________________________________________________________\n",
      "doc_embedding_layer (Embeddi (None, 150, 200)          1359400   \n",
      "_________________________________________________________________\n",
      "doc_lstm_1 (LSTM)            (None, 100)               120400    \n",
      "_________________________________________________________________\n",
      "doc_dense (Dense)            (None, 100)               10100     \n",
      "=================================================================\n",
      "Total params: 1,489,900\n",
      "Trainable params: 130,500\n",
      "Non-trainable params: 1,359,400\n",
      "_________________________________________________________________\n"
     ]
    }
   ],
   "source": [
    "#TODO USE the same embedding layer but need different input length\n",
    "#clear session\n",
    "K.clear_session()\n",
    "\n",
    "#TODO USE the same embedding layer but need different input length\n",
    "delta = 0.0001\n",
    "embedding_matrix = np.vstack([(np.zeros((1,model.vectors.shape[1]))+delta),model.vectors])\n",
    "\n",
    "#Document dimentional reduction\n",
    "doc_model_input = Input(shape=[MAX_DOC_LENGTH], name = \"document_model_words_input\")\n",
    "doc_embedding = Embedding( input_dim=embedding_matrix.shape[0],\n",
    "                           output_dim=embedding_matrix.shape[1], \n",
    "                           input_length=MAX_DOC_LENGTH,\n",
    "                           weights=[embedding_matrix], \n",
    "                           trainable=False,\n",
    "                           name=\"doc_embedding_layer\")(doc_model_input)\n",
    "doc_lstm1 = LSTM(100,name=\"doc_lstm_1\",activation=\"selu\")(doc_embedding)\n",
    "doc_dense = Dense(100, activation='tanh', name='doc_dense')(doc_lstm1)\n",
    "\n",
    "doc_model = Model(inputs=[doc_model_input],outputs=[doc_dense], name=\"doc_projection_model\")\n",
    "doc_model.summary()\n",
    "\n",
    "#Query dimentional reduction\n",
    "\n",
    "\n",
    "\n"
   ]
  },
  {
   "cell_type": "code",
   "execution_count": 12,
   "metadata": {},
   "outputs": [
    {
     "name": "stdout",
     "output_type": "stream",
     "text": [
      "_________________________________________________________________\n",
      "Layer (type)                 Output Shape              Param #   \n",
      "=================================================================\n",
      "query_model_words_input (Inp (None, 20)                0         \n",
      "_________________________________________________________________\n",
      "query_embedding_layer (Embed (None, 20, 200)           1359400   \n",
      "_________________________________________________________________\n",
      "query_lstm_1 (LSTM)          (None, 100)               120400    \n",
      "_________________________________________________________________\n",
      "query_dense (Dense)          (None, 100)               10100     \n",
      "=================================================================\n",
      "Total params: 1,489,900\n",
      "Trainable params: 130,500\n",
      "Non-trainable params: 1,359,400\n",
      "_________________________________________________________________\n"
     ]
    }
   ],
   "source": [
    "query_model_input = Input(shape=[MAX_QUERY_LENGTH], name = \"query_model_words_input\")\n",
    "query_embedding = Embedding(input_dim=embedding_matrix.shape[0],\n",
    "                           output_dim=embedding_matrix.shape[1], \n",
    "                           input_length=MAX_QUERY_LENGTH,\n",
    "                           weights=[embedding_matrix], \n",
    "                           trainable=False,\n",
    "                           name=\"query_embedding_layer\")(query_model_input)\n",
    "query_lstm1 = LSTM(100,name=\"query_lstm_1\",activation=\"selu\")(query_embedding)\n",
    "query_dense = Dense(100, activation='tanh', name='query_dense')(query_lstm1)\n",
    "query_model = Model(inputs=[query_model_input],outputs=[query_dense], name=\"query_projection_model\")\n",
    "query_model.summary()"
   ]
  },
  {
   "cell_type": "code",
   "execution_count": 13,
   "metadata": {},
   "outputs": [
    {
     "name": "stdout",
     "output_type": "stream",
     "text": [
      "__________________________________________________________________________________________________\n",
      "Layer (type)                    Output Shape         Param #     Connected to                     \n",
      "==================================================================================================\n",
      "document_words_input (InputLaye (None, 150)          0                                            \n",
      "__________________________________________________________________________________________________\n",
      "query_words_input (InputLayer)  (None, 20)           0                                            \n",
      "__________________________________________________________________________________________________\n",
      "doc_projection_model (Model)    (None, 100)          1489900     document_words_input[0][0]       \n",
      "__________________________________________________________________________________________________\n",
      "query_projection_model (Model)  (None, 100)          1489900     query_words_input[0][0]          \n",
      "__________________________________________________________________________________________________\n",
      "dot (Dot)                       (None, 1)            0           doc_projection_model[1][0]       \n",
      "                                                                 query_projection_model[1][0]     \n",
      "__________________________________________________________________________________________________\n",
      "activation (Activation)         (None, 1)            0           dot[0][0]                        \n",
      "==================================================================================================\n",
      "Total params: 2,979,800\n",
      "Trainable params: 261,000\n",
      "Non-trainable params: 2,718,800\n",
      "__________________________________________________________________________________________________\n"
     ]
    }
   ],
   "source": [
    "\n",
    "\n",
    "def custom_activation(x):\n",
    "    return K.sigmoid(x*10-3)\n",
    "\n",
    "#get_custom_objects().update({'custom_activation': Activation(custom_activation)})\n",
    "\n",
    "doc_input = Input(shape=[MAX_DOC_LENGTH], name = \"document_words_input\")\n",
    "query_input = Input(shape=[MAX_QUERY_LENGTH], name = \"query_words_input\")\n",
    "doc_model_output = doc_model(doc_input)\n",
    "query_model_output = query_model(query_input)\n",
    "similarity = Dot(axes=1,normalize=True)([doc_model_output,query_model_output])\n",
    "sig_activation = Activation(\"sigmoid\")(similarity)\n",
    "#sig_activation = Activation(custom_activation)(similarity)\n",
    "#sig_sim = Dense(1,activation='sigmoid',name=\"sigmoid_convert\")(similarity)\n",
    "\n",
    "similarity_model = Model(inputs=[doc_input,query_input],outputs=[sig_activation], name=\"doc_query_sim\")\n",
    "\n",
    "similarity_model.summary()\n",
    "\n",
    "similarity_model.compile(loss='binary_crossentropy', optimizer=Adam(), metrics=['accuracy'])\n",
    "LOAD = False\n",
    "if LOAD:\n",
    "    similarity_model = load_model(\"best_similarity_model_generator_allpos_400_no_dropout_adam\")"
   ]
  },
  {
   "cell_type": "markdown",
   "metadata": {},
   "source": [
    "## Prepare training "
   ]
  },
  {
   "cell_type": "code",
   "execution_count": 14,
   "metadata": {},
   "outputs": [
    {
     "name": "stdout",
     "output_type": "stream",
     "text": [
      "Num test samples: 45\n"
     ]
    }
   ],
   "source": [
    "\n",
    "#select 25 questions from query_relevance, TRAIN TEST SPLIT\n",
    "def select_split_data(test_percentage):\n",
    "    \n",
    "    test_size = int(len(query_relevance)*test_percentage)\n",
    "    print(\"Num test samples:\",test_size)\n",
    "    \n",
    "    query_id= set(query_relevance.keys()) \n",
    "    query_test_id = set(np.random.choice(list(query_relevance.keys()),size=test_size))\n",
    "    query_train_id = query_id-query_test_id\n",
    "    \n",
    "    #stupid verification because np.random.chois IS STUPID but i dont have time to do it properly\n",
    "    if (len(query_train_id)+len(query_test_id)) != len(query_id): #try until random do a good job\n",
    "        print(\"try again\")\n",
    "        return select_split_data(test_size)\n",
    "    \n",
    "    return list(query_train_id),list(query_test_id)\n",
    "\n",
    "\n",
    "NUM_TEST_PERCENTAGE = .2\n",
    "BATCH_SIZE = 5\n",
    "query_train_id, query_test_id = select_split_data(NUM_TEST_PERCENTAGE)\n",
    "\n",
    "class ComputeTestSet(Callback):\n",
    "    \n",
    "    def on_epoch_end(self,epoch, logs={}):\n",
    "        \n",
    "        loss,acc = self.model.evaluate_generator(generator=generator_allpos(query_test_id, BATCH_SIZE),\n",
    "                                   steps=len(query_train_id)//BATCH_SIZE)\n",
    "\n",
    "        logs[\"test_loss\"] = loss\n",
    "        logs[\"test_acc\"] = acc\n",
    "        \n",
    "        print(\" - test_loss: {0:.4f} - test_acc: {1:.4f}\".format(loss,acc))"
   ]
  },
  {
   "cell_type": "code",
   "execution_count": 17,
   "metadata": {},
   "outputs": [
    {
     "name": "stdout",
     "output_type": "stream",
     "text": [
      "[128, 1, 130, 3, 7, 11, 140, 12, 142, 143, 144, 145, 21, 27, 156, 29, 163, 38, 41, 42, 171, 172, 178, 59, 68, 69, 74, 203, 202, 79, 83, 215, 218, 223, 100, 102, 107, 113, 114, 117]\n"
     ]
    }
   ],
   "source": [
    "print(query_test_id)"
   ]
  },
  {
   "cell_type": "markdown",
   "metadata": {},
   "source": [
    "## Training"
   ]
  },
  {
   "cell_type": "code",
   "execution_count": 16,
   "metadata": {},
   "outputs": [
    {
     "name": "stdout",
     "output_type": "stream",
     "text": [
      "Epoch 1/200\n",
      "36/37 [============================>.] - ETA: 0s - loss: 0.5059 - acc: 0.8196 - test_loss: 0.6432 - test_acc: 0.6449\n",
      "\n",
      "Epoch 00001: loss improved from inf to 0.51334, saving model to best_similarity_model_generator_allpos_400_no_dropout_adam\n",
      "37/37 [==============================] - 34s 918ms/step - loss: 0.5072 - acc: 0.8187\n",
      "Epoch 2/200\n",
      "36/37 [============================>.] - ETA: 0s - loss: 0.5134 - acc: 0.8158 - test_loss: 0.6441 - test_acc: 0.6449\n",
      "\n",
      "Epoch 00002: loss did not improve from 0.51334\n",
      "37/37 [==============================] - 33s 904ms/step - loss: 0.5144 - acc: 0.8157\n",
      "Epoch 3/200\n",
      "36/37 [============================>.] - ETA: 0s - loss: 0.5042 - acc: 0.8249 - test_loss: 0.6482 - test_acc: 0.6404\n",
      "\n",
      "Epoch 00003: loss improved from 0.51334 to 0.51206, saving model to best_similarity_model_generator_allpos_400_no_dropout_adam\n",
      "37/37 [==============================] - 34s 911ms/step - loss: 0.5063 - acc: 0.8228\n",
      "Epoch 4/200\n",
      "36/37 [============================>.] - ETA: 0s - loss: 0.5105 - acc: 0.8252 - test_loss: 0.6485 - test_acc: 0.6412\n",
      "\n",
      "Epoch 00004: loss did not improve from 0.51206\n",
      "37/37 [==============================] - 34s 919ms/step - loss: 0.5127 - acc: 0.8232\n",
      "Epoch 5/200\n",
      "36/37 [============================>.] - ETA: 0s - loss: 0.5161 - acc: 0.8125 - test_loss: 0.6413 - test_acc: 0.6560\n",
      "\n",
      "Epoch 00005: loss did not improve from 0.51206\n",
      "37/37 [==============================] - 34s 924ms/step - loss: 0.5176 - acc: 0.8114\n",
      "Epoch 6/200\n",
      "36/37 [============================>.] - ETA: 0s - loss: 0.5046 - acc: 0.8260 - test_loss: 0.6381 - test_acc: 0.6456\n",
      "\n",
      "Epoch 00006: loss improved from 0.51206 to 0.51088, saving model to best_similarity_model_generator_allpos_400_no_dropout_adam\n",
      "37/37 [==============================] - 33s 900ms/step - loss: 0.5058 - acc: 0.8254\n",
      "Epoch 7/200\n",
      "36/37 [============================>.] - ETA: 0s - loss: 0.5064 - acc: 0.8169 - test_loss: 0.6427 - test_acc: 0.6356\n",
      "\n",
      "Epoch 00007: loss did not improve from 0.51088\n",
      "37/37 [==============================] - 34s 931ms/step - loss: 0.5078 - acc: 0.8159\n",
      "Epoch 8/200\n",
      "36/37 [============================>.] - ETA: 0s - loss: 0.5071 - acc: 0.8247 - test_loss: 0.6567 - test_acc: 0.6330\n",
      "\n",
      "Epoch 00008: loss did not improve from 0.51088\n",
      "37/37 [==============================] - 34s 918ms/step - loss: 0.5087 - acc: 0.8239\n",
      "Epoch 9/200\n",
      "36/37 [============================>.] - ETA: 0s - loss: 0.5100 - acc: 0.8171 - test_loss: 0.6411 - test_acc: 0.6512\n",
      "\n",
      "Epoch 00009: loss did not improve from 0.51088\n",
      "37/37 [==============================] - 33s 902ms/step - loss: 0.5116 - acc: 0.8155\n",
      "Epoch 10/200\n",
      "36/37 [============================>.] - ETA: 0s - loss: 0.5090 - acc: 0.8196 - test_loss: 0.6486 - test_acc: 0.6378\n",
      "\n",
      "Epoch 00010: loss did not improve from 0.51088\n",
      "37/37 [==============================] - 34s 917ms/step - loss: 0.5104 - acc: 0.8191\n",
      "Epoch 11/200\n",
      "36/37 [============================>.] - ETA: 0s - loss: 0.5128 - acc: 0.8127 - test_loss: 0.6425 - test_acc: 0.6419\n",
      "\n",
      "Epoch 00011: loss did not improve from 0.51088\n",
      "37/37 [==============================] - 34s 909ms/step - loss: 0.5140 - acc: 0.8115\n",
      "Epoch 12/200\n",
      "36/37 [============================>.] - ETA: 0s - loss: 0.5140 - acc: 0.8165 - test_loss: 0.6394 - test_acc: 0.6408\n",
      "\n",
      "Epoch 00012: loss did not improve from 0.51088\n",
      "37/37 [==============================] - 33s 890ms/step - loss: 0.5155 - acc: 0.8159\n",
      "Epoch 13/200\n",
      "36/37 [============================>.] - ETA: 0s - loss: 0.5102 - acc: 0.8130 - test_loss: 0.6493 - test_acc: 0.6348\n",
      "\n",
      "Epoch 00013: loss did not improve from 0.51088\n",
      "37/37 [==============================] - 34s 920ms/step - loss: 0.5121 - acc: 0.8114\n",
      "Epoch 14/200\n",
      "36/37 [============================>.] - ETA: 0s - loss: 0.5058 - acc: 0.8265 - test_loss: 0.6564 - test_acc: 0.6293\n",
      "\n",
      "Epoch 00014: loss did not improve from 0.51088\n",
      "37/37 [==============================] - 34s 908ms/step - loss: 0.5072 - acc: 0.8259\n",
      "Epoch 15/200\n",
      "36/37 [============================>.] - ETA: 0s - loss: 0.5036 - acc: 0.8307 - test_loss: 0.6561 - test_acc: 0.6330\n",
      "\n",
      "Epoch 00015: loss did not improve from 0.51088\n",
      "37/37 [==============================] - 35s 944ms/step - loss: 0.5055 - acc: 0.8294\n",
      "Epoch 16/200\n",
      "36/37 [============================>.] - ETA: 0s - loss: 0.5049 - acc: 0.8284 - test_loss: 0.6384 - test_acc: 0.6556\n",
      "\n",
      "Epoch 00016: loss did not improve from 0.51088\n",
      "37/37 [==============================] - 34s 908ms/step - loss: 0.5068 - acc: 0.8272\n",
      "Epoch 17/200\n",
      "36/37 [============================>.] - ETA: 0s - loss: 0.5041 - acc: 0.8257 - test_loss: 0.6557 - test_acc: 0.6315\n",
      "\n",
      "Epoch 00017: loss did not improve from 0.51088\n",
      "37/37 [==============================] - 34s 916ms/step - loss: 0.5054 - acc: 0.8251\n",
      "Epoch 18/200\n",
      "36/37 [============================>.] - ETA: 0s - loss: 0.5099 - acc: 0.8163 - test_loss: 0.6447 - test_acc: 0.6341\n",
      "\n",
      "Epoch 00018: loss did not improve from 0.51088\n",
      "37/37 [==============================] - 35s 937ms/step - loss: 0.5116 - acc: 0.8155\n",
      "Epoch 19/200\n",
      "36/37 [============================>.] - ETA: 0s - loss: 0.5107 - acc: 0.8165 - test_loss: 0.6421 - test_acc: 0.6556\n",
      "\n",
      "Epoch 00019: loss did not improve from 0.51088\n",
      "37/37 [==============================] - 34s 920ms/step - loss: 0.5121 - acc: 0.8158\n",
      "Epoch 20/200\n",
      "36/37 [============================>.] - ETA: 0s - loss: 0.5113 - acc: 0.8207 - test_loss: 0.6509 - test_acc: 0.6337\n",
      "\n",
      "Epoch 00020: loss did not improve from 0.51088\n",
      "37/37 [==============================] - 34s 909ms/step - loss: 0.5123 - acc: 0.8190\n",
      "Epoch 21/200\n",
      "36/37 [============================>.] - ETA: 0s - loss: 0.5037 - acc: 0.8241 - test_loss: 0.6413 - test_acc: 0.6445\n",
      "\n",
      "Epoch 00021: loss improved from 0.51088 to 0.51087, saving model to best_similarity_model_generator_allpos_400_no_dropout_adam\n",
      "37/37 [==============================] - 34s 921ms/step - loss: 0.5053 - acc: 0.8232\n",
      "Epoch 22/200\n",
      "36/37 [============================>.] - ETA: 0s - loss: 0.5106 - acc: 0.8167 - test_loss: 0.6425 - test_acc: 0.6348\n",
      "\n",
      "Epoch 00022: loss did not improve from 0.51087\n",
      "37/37 [==============================] - 33s 888ms/step - loss: 0.5125 - acc: 0.8152\n",
      "Epoch 23/200\n",
      "36/37 [============================>.] - ETA: 0s - loss: 0.5091 - acc: 0.8258 - test_loss: 0.6426 - test_acc: 0.6404\n",
      "\n",
      "Epoch 00023: loss did not improve from 0.51087\n",
      "37/37 [==============================] - 33s 898ms/step - loss: 0.5110 - acc: 0.8236\n",
      "Epoch 24/200\n",
      "36/37 [============================>.] - ETA: 0s - loss: 0.5092 - acc: 0.8211 - test_loss: 0.6484 - test_acc: 0.6404\n",
      "\n",
      "Epoch 00024: loss did not improve from 0.51087\n",
      "37/37 [==============================] - 35s 938ms/step - loss: 0.5105 - acc: 0.8206\n",
      "Epoch 25/200\n",
      "36/37 [============================>.] - ETA: 0s - loss: 0.5082 - acc: 0.8225 - test_loss: 0.6413 - test_acc: 0.6367\n",
      "\n",
      "Epoch 00025: loss did not improve from 0.51087\n",
      "37/37 [==============================] - 34s 922ms/step - loss: 0.5114 - acc: 0.8187\n",
      "Epoch 26/200\n",
      "36/37 [============================>.] - ETA: 0s - loss: 0.5123 - acc: 0.8120 - test_loss: 0.6466 - test_acc: 0.6270\n",
      "\n",
      "Epoch 00026: loss did not improve from 0.51087\n",
      "37/37 [==============================] - 34s 927ms/step - loss: 0.5140 - acc: 0.8094\n",
      "Epoch 27/200\n",
      "36/37 [============================>.] - ETA: 0s - loss: 0.5145 - acc: 0.8095 - test_loss: 0.6461 - test_acc: 0.6308\n",
      "\n",
      "Epoch 00027: loss did not improve from 0.51087\n",
      "37/37 [==============================] - 33s 881ms/step - loss: 0.5161 - acc: 0.8083\n",
      "Epoch 28/200\n",
      "36/37 [============================>.] - ETA: 0s - loss: 0.5061 - acc: 0.8258 - test_loss: 0.6568 - test_acc: 0.6252\n",
      "\n",
      "Epoch 00028: loss did not improve from 0.51087\n",
      "37/37 [==============================] - 35s 936ms/step - loss: 0.5091 - acc: 0.8229\n",
      "Epoch 29/200\n",
      "36/37 [============================>.] - ETA: 0s - loss: 0.5082 - acc: 0.8165 - test_loss: 0.6546 - test_acc: 0.6319\n",
      "\n",
      "Epoch 00029: loss did not improve from 0.51087\n",
      "37/37 [==============================] - 34s 910ms/step - loss: 0.5099 - acc: 0.8160\n",
      "Epoch 30/200\n",
      "36/37 [============================>.] - ETA: 0s - loss: 0.5099 - acc: 0.8176 - test_loss: 0.6570 - test_acc: 0.6178\n",
      "\n",
      "Epoch 00030: loss did not improve from 0.51087\n",
      "37/37 [==============================] - 34s 912ms/step - loss: 0.5117 - acc: 0.8158\n"
     ]
    },
    {
     "name": "stdout",
     "output_type": "stream",
     "text": [
      "Epoch 31/200\n",
      "36/37 [============================>.] - ETA: 0s - loss: 0.5059 - acc: 0.8222 - test_loss: 0.6414 - test_acc: 0.6389\n",
      "\n",
      "Epoch 00031: loss did not improve from 0.51087\n",
      "37/37 [==============================] - 34s 921ms/step - loss: 0.5081 - acc: 0.8198\n",
      "Epoch 32/200\n",
      "36/37 [============================>.] - ETA: 0s - loss: 0.5084 - acc: 0.8225 - test_loss: 0.6549 - test_acc: 0.6222\n",
      "\n",
      "Epoch 00032: loss did not improve from 0.51087\n",
      "37/37 [==============================] - 36s 972ms/step - loss: 0.5098 - acc: 0.8210\n",
      "Epoch 33/200\n",
      "36/37 [============================>.] - ETA: 0s - loss: 0.5045 - acc: 0.8281 - test_loss: 0.6412 - test_acc: 0.6478\n",
      "\n",
      "Epoch 00033: loss improved from 0.51087 to 0.50990, saving model to best_similarity_model_generator_allpos_400_no_dropout_adam\n",
      "37/37 [==============================] - 33s 903ms/step - loss: 0.5061 - acc: 0.8266\n",
      "Epoch 34/200\n",
      "36/37 [============================>.] - ETA: 0s - loss: 0.5055 - acc: 0.8267 - test_loss: 0.6443 - test_acc: 0.6542\n",
      "\n",
      "Epoch 00034: loss did not improve from 0.50990\n",
      "37/37 [==============================] - 32s 876ms/step - loss: 0.5067 - acc: 0.8255\n",
      "Epoch 35/200\n",
      "36/37 [============================>.] - ETA: 0s - loss: 0.5049 - acc: 0.8270 - test_loss: 0.6478 - test_acc: 0.6326\n",
      "\n",
      "Epoch 00035: loss did not improve from 0.50990\n",
      "37/37 [==============================] - 36s 961ms/step - loss: 0.5064 - acc: 0.8250\n",
      "Epoch 36/200\n",
      "36/37 [============================>.] - ETA: 0s - loss: 0.4988 - acc: 0.8391 - test_loss: 0.6511 - test_acc: 0.6256\n",
      "\n",
      "Epoch 00036: loss improved from 0.50990 to 0.50613, saving model to best_similarity_model_generator_allpos_400_no_dropout_adam\n",
      "37/37 [==============================] - 20s 530ms/step - loss: 0.5005 - acc: 0.8379\n",
      "Epoch 37/200\n",
      "36/37 [============================>.] - ETA: 0s - loss: 0.4972 - acc: 0.8297 - test_loss: 0.6449 - test_acc: 0.6386\n",
      "\n",
      "Epoch 00037: loss improved from 0.50613 to 0.50601, saving model to best_similarity_model_generator_allpos_400_no_dropout_adam\n",
      "37/37 [==============================] - 8s 224ms/step - loss: 0.4995 - acc: 0.8274\n",
      "Epoch 38/200\n",
      "36/37 [============================>.] - ETA: 0s - loss: 0.5019 - acc: 0.8297 - test_loss: 0.6496 - test_acc: 0.6319\n",
      "\n",
      "Epoch 00038: loss did not improve from 0.50601\n",
      "37/37 [==============================] - 8s 223ms/step - loss: 0.5035 - acc: 0.8282\n",
      "Epoch 39/200\n",
      "36/37 [============================>.] - ETA: 0s - loss: 0.5145 - acc: 0.8141 - test_loss: 0.6417 - test_acc: 0.6478\n",
      "\n",
      "Epoch 00039: loss did not improve from 0.50601\n",
      "37/37 [==============================] - 8s 226ms/step - loss: 0.5159 - acc: 0.8127\n",
      "Epoch 40/200\n",
      "36/37 [============================>.] - ETA: 0s - loss: 0.5043 - acc: 0.8242 - test_loss: 0.6494 - test_acc: 0.6419\n",
      "\n",
      "Epoch 00040: loss did not improve from 0.50601\n",
      "37/37 [==============================] - 9s 230ms/step - loss: 0.5064 - acc: 0.8223\n",
      "Epoch 41/200\n",
      "36/37 [============================>.] - ETA: 0s - loss: 0.4995 - acc: 0.8329 - test_loss: 0.6470 - test_acc: 0.6423\n",
      "\n",
      "Epoch 00041: loss did not improve from 0.50601\n",
      "37/37 [==============================] - 10s 263ms/step - loss: 0.5018 - acc: 0.8313\n",
      "Epoch 42/200\n",
      "36/37 [============================>.] - ETA: 0s - loss: 0.5087 - acc: 0.8218 - test_loss: 0.6507 - test_acc: 0.6256\n",
      "\n",
      "Epoch 00042: loss did not improve from 0.50601\n",
      "37/37 [==============================] - 9s 234ms/step - loss: 0.5103 - acc: 0.8207\n",
      "Epoch 43/200\n",
      "36/37 [============================>.] - ETA: 0s - loss: 0.4983 - acc: 0.8448 - test_loss: 0.6469 - test_acc: 0.6356\n",
      "\n",
      "Epoch 00043: loss improved from 0.50601 to 0.50523, saving model to best_similarity_model_generator_allpos_400_no_dropout_adam\n",
      "37/37 [==============================] - 8s 226ms/step - loss: 0.5002 - acc: 0.8430\n",
      "Epoch 44/200\n",
      "36/37 [============================>.] - ETA: 0s - loss: 0.5173 - acc: 0.8164 - test_loss: 0.6518 - test_acc: 0.6259\n",
      "\n",
      "Epoch 00044: loss did not improve from 0.50523\n",
      "37/37 [==============================] - 8s 224ms/step - loss: 0.5185 - acc: 0.8150\n",
      "Epoch 45/200\n",
      "36/37 [============================>.] - ETA: 0s - loss: 0.5081 - acc: 0.8265 - test_loss: 0.6550 - test_acc: 0.6300\n",
      "\n",
      "Epoch 00045: loss did not improve from 0.50523\n",
      "37/37 [==============================] - 8s 227ms/step - loss: 0.5097 - acc: 0.8246\n",
      "Epoch 46/200\n",
      "36/37 [============================>.] - ETA: 0s - loss: 0.5043 - acc: 0.8314 - test_loss: 0.6517 - test_acc: 0.6218\n",
      "\n",
      "Epoch 00046: loss did not improve from 0.50523\n",
      "37/37 [==============================] - 8s 223ms/step - loss: 0.5059 - acc: 0.8295\n",
      "Epoch 47/200\n",
      "36/37 [============================>.] - ETA: 0s - loss: 0.5078 - acc: 0.8221 - test_loss: 0.6459 - test_acc: 0.6360\n",
      "\n",
      "Epoch 00047: loss did not improve from 0.50523\n",
      "37/37 [==============================] - 8s 223ms/step - loss: 0.5099 - acc: 0.8197\n",
      "Epoch 48/200\n",
      "36/37 [============================>.] - ETA: 0s - loss: 0.5067 - acc: 0.8304 - test_loss: 0.6570 - test_acc: 0.6244\n",
      "\n",
      "Epoch 00048: loss did not improve from 0.50523\n",
      "37/37 [==============================] - 8s 223ms/step - loss: 0.5079 - acc: 0.8288\n",
      "Epoch 49/200\n",
      "36/37 [============================>.] - ETA: 0s - loss: 0.5010 - acc: 0.8324 - test_loss: 0.6437 - test_acc: 0.6456\n",
      "\n",
      "Epoch 00049: loss did not improve from 0.50523\n",
      "37/37 [==============================] - 8s 222ms/step - loss: 0.5027 - acc: 0.8310\n",
      "Epoch 50/200\n",
      "36/37 [============================>.] - ETA: 0s - loss: 0.5019 - acc: 0.8336 - test_loss: 0.6460 - test_acc: 0.6293\n",
      "\n",
      "Epoch 00050: loss did not improve from 0.50523\n",
      "37/37 [==============================] - 8s 225ms/step - loss: 0.5044 - acc: 0.8311\n",
      "Epoch 51/200\n",
      "36/37 [============================>.] - ETA: 0s - loss: 0.5104 - acc: 0.8297 - test_loss: 0.6513 - test_acc: 0.6374\n",
      "\n",
      "Epoch 00051: loss did not improve from 0.50523\n",
      "37/37 [==============================] - 8s 223ms/step - loss: 0.5120 - acc: 0.8281\n",
      "Epoch 52/200\n",
      "36/37 [============================>.] - ETA: 0s - loss: 0.5039 - acc: 0.8297 - test_loss: 0.6533 - test_acc: 0.6237\n",
      "\n",
      "Epoch 00052: loss did not improve from 0.50523\n",
      "37/37 [==============================] - 8s 223ms/step - loss: 0.5052 - acc: 0.8288\n",
      "Epoch 53/200\n",
      "36/37 [============================>.] - ETA: 0s - loss: 0.5017 - acc: 0.8369 - test_loss: 0.6568 - test_acc: 0.6207\n",
      "\n",
      "Epoch 00053: loss did not improve from 0.50523\n",
      "37/37 [==============================] - 9s 231ms/step - loss: 0.5030 - acc: 0.8357\n",
      "Epoch 54/200\n",
      "36/37 [============================>.] - ETA: 0s - loss: 0.5065 - acc: 0.8262 - test_loss: 0.6579 - test_acc: 0.6256\n",
      "\n",
      "Epoch 00054: loss did not improve from 0.50523\n",
      "37/37 [==============================] - 9s 230ms/step - loss: 0.5080 - acc: 0.8249\n",
      "Epoch 55/200\n",
      "36/37 [============================>.] - ETA: 0s - loss: 0.5023 - acc: 0.8296 - test_loss: 0.6570 - test_acc: 0.6211\n",
      "\n",
      "Epoch 00055: loss did not improve from 0.50523\n",
      "37/37 [==============================] - 9s 231ms/step - loss: 0.5041 - acc: 0.8280\n",
      "Epoch 56/200\n",
      "36/37 [============================>.] - ETA: 0s - loss: 0.5043 - acc: 0.8331 - test_loss: 0.6458 - test_acc: 0.6289\n",
      "\n",
      "Epoch 00056: loss did not improve from 0.50523\n",
      "37/37 [==============================] - 9s 234ms/step - loss: 0.5066 - acc: 0.8309\n",
      "Epoch 57/200\n",
      "36/37 [============================>.] - ETA: 0s - loss: 0.5051 - acc: 0.8261 - test_loss: 0.6544 - test_acc: 0.6252\n",
      "\n",
      "Epoch 00057: loss did not improve from 0.50523\n",
      "37/37 [==============================] - 9s 230ms/step - loss: 0.5072 - acc: 0.8245\n",
      "Epoch 58/200\n",
      "36/37 [============================>.] - ETA: 0s - loss: 0.5053 - acc: 0.8295 - test_loss: 0.6569 - test_acc: 0.6244\n",
      "\n",
      "Epoch 00058: loss did not improve from 0.50523\n",
      "37/37 [==============================] - 9s 233ms/step - loss: 0.5074 - acc: 0.8276\n",
      "Epoch 59/200\n",
      "36/37 [============================>.] - ETA: 0s - loss: 0.5126 - acc: 0.8189 - test_loss: 0.6467 - test_acc: 0.6374\n",
      "\n",
      "Epoch 00059: loss did not improve from 0.50523\n",
      "37/37 [==============================] - 9s 230ms/step - loss: 0.5140 - acc: 0.8178\n",
      "Epoch 60/200\n",
      "36/37 [============================>.] - ETA: 0s - loss: 0.4979 - acc: 0.8309 - test_loss: 0.6544 - test_acc: 0.6278\n",
      "\n",
      "Epoch 00060: loss did not improve from 0.50523\n",
      "37/37 [==============================] - 9s 248ms/step - loss: 0.4997 - acc: 0.8303\n",
      "Epoch 61/200\n"
     ]
    },
    {
     "name": "stdout",
     "output_type": "stream",
     "text": [
      "36/37 [============================>.] - ETA: 0s - loss: 0.5052 - acc: 0.8315 - test_loss: 0.6575 - test_acc: 0.6140\n",
      "\n",
      "Epoch 00061: loss did not improve from 0.50523\n",
      "37/37 [==============================] - 9s 230ms/step - loss: 0.5071 - acc: 0.8300\n",
      "Epoch 62/200\n",
      "36/37 [============================>.] - ETA: 0s - loss: 0.5156 - acc: 0.8123 - test_loss: 0.6618 - test_acc: 0.6096\n",
      "\n",
      "Epoch 00062: loss did not improve from 0.50523\n",
      "37/37 [==============================] - 22s 586ms/step - loss: 0.5175 - acc: 0.8103\n",
      "Epoch 63/200\n",
      "36/37 [============================>.] - ETA: 0s - loss: 0.5053 - acc: 0.8351 - test_loss: 0.6567 - test_acc: 0.6155\n",
      "\n",
      "Epoch 00063: loss did not improve from 0.50523\n",
      "37/37 [==============================] - 9s 234ms/step - loss: 0.5070 - acc: 0.8339\n",
      "Epoch 64/200\n",
      "36/37 [============================>.] - ETA: 0s - loss: 0.5051 - acc: 0.8252 - test_loss: 0.6533 - test_acc: 0.6274\n",
      "\n",
      "Epoch 00064: loss did not improve from 0.50523\n",
      "37/37 [==============================] - 9s 230ms/step - loss: 0.5062 - acc: 0.8248\n",
      "Epoch 65/200\n",
      "20/37 [===============>..............] - ETA: 2s - loss: 0.5128 - acc: 0.8127"
     ]
    },
    {
     "ename": "KeyboardInterrupt",
     "evalue": "",
     "output_type": "error",
     "traceback": [
      "\u001b[0;31m---------------------------------------------------------------------------\u001b[0m",
      "\u001b[0;31mKeyboardInterrupt\u001b[0m                         Traceback (most recent call last)",
      "\u001b[0;32m<ipython-input-16-a1189671c22b>\u001b[0m in \u001b[0;36m<module>\u001b[0;34m()\u001b[0m\n\u001b[1;32m      9\u001b[0m                                \u001b[0mepochs\u001b[0m\u001b[0;34m=\u001b[0m\u001b[0;36m200\u001b[0m\u001b[0;34m,\u001b[0m\u001b[0;34m\u001b[0m\u001b[0m\n\u001b[1;32m     10\u001b[0m                                \u001b[0mcallbacks\u001b[0m\u001b[0;34m=\u001b[0m\u001b[0mcallbacks\u001b[0m\u001b[0;34m,\u001b[0m\u001b[0;34m\u001b[0m\u001b[0m\n\u001b[0;32m---> 11\u001b[0;31m                                steps_per_epoch=len(query_train_id)//BATCH_SIZE)\n\u001b[0m\u001b[1;32m     12\u001b[0m \u001b[0;34m\u001b[0m\u001b[0m\n\u001b[1;32m     13\u001b[0m \u001b[0;31m#query_model.save(\"query_model_no_dropout.hdf5\")\u001b[0m\u001b[0;34m\u001b[0m\u001b[0;34m\u001b[0m\u001b[0m\n",
      "\u001b[0;32m/usr/local/lib/python3.5/dist-packages/tensorflow/python/keras/engine/training.py\u001b[0m in \u001b[0;36mfit_generator\u001b[0;34m(self, generator, steps_per_epoch, epochs, verbose, callbacks, validation_data, validation_steps, class_weight, max_queue_size, workers, use_multiprocessing, shuffle, initial_epoch)\u001b[0m\n\u001b[1;32m   1759\u001b[0m         \u001b[0muse_multiprocessing\u001b[0m\u001b[0;34m=\u001b[0m\u001b[0muse_multiprocessing\u001b[0m\u001b[0;34m,\u001b[0m\u001b[0;34m\u001b[0m\u001b[0m\n\u001b[1;32m   1760\u001b[0m         \u001b[0mshuffle\u001b[0m\u001b[0;34m=\u001b[0m\u001b[0mshuffle\u001b[0m\u001b[0;34m,\u001b[0m\u001b[0;34m\u001b[0m\u001b[0m\n\u001b[0;32m-> 1761\u001b[0;31m         initial_epoch=initial_epoch)\n\u001b[0m\u001b[1;32m   1762\u001b[0m \u001b[0;34m\u001b[0m\u001b[0m\n\u001b[1;32m   1763\u001b[0m   def evaluate_generator(self,\n",
      "\u001b[0;32m/usr/local/lib/python3.5/dist-packages/tensorflow/python/keras/engine/training_generator.py\u001b[0m in \u001b[0;36mfit_generator\u001b[0;34m(model, generator, steps_per_epoch, epochs, verbose, callbacks, validation_data, validation_steps, class_weight, max_queue_size, workers, use_multiprocessing, shuffle, initial_epoch)\u001b[0m\n\u001b[1;32m    188\u001b[0m \u001b[0;34m\u001b[0m\u001b[0m\n\u001b[1;32m    189\u001b[0m         outs = model.train_on_batch(\n\u001b[0;32m--> 190\u001b[0;31m             x, y, sample_weight=sample_weight, class_weight=class_weight)\n\u001b[0m\u001b[1;32m    191\u001b[0m \u001b[0;34m\u001b[0m\u001b[0m\n\u001b[1;32m    192\u001b[0m         \u001b[0;32mif\u001b[0m \u001b[0;32mnot\u001b[0m \u001b[0misinstance\u001b[0m\u001b[0;34m(\u001b[0m\u001b[0mouts\u001b[0m\u001b[0;34m,\u001b[0m \u001b[0mlist\u001b[0m\u001b[0;34m)\u001b[0m\u001b[0;34m:\u001b[0m\u001b[0;34m\u001b[0m\u001b[0m\n",
      "\u001b[0;32m/usr/local/lib/python3.5/dist-packages/tensorflow/python/keras/engine/training.py\u001b[0m in \u001b[0;36mtrain_on_batch\u001b[0;34m(self, x, y, sample_weight, class_weight)\u001b[0m\n\u001b[1;32m   1535\u001b[0m \u001b[0;34m\u001b[0m\u001b[0m\n\u001b[1;32m   1536\u001b[0m       \u001b[0mself\u001b[0m\u001b[0;34m.\u001b[0m\u001b[0m_make_train_function\u001b[0m\u001b[0;34m(\u001b[0m\u001b[0;34m)\u001b[0m\u001b[0;34m\u001b[0m\u001b[0m\n\u001b[0;32m-> 1537\u001b[0;31m       \u001b[0moutputs\u001b[0m \u001b[0;34m=\u001b[0m \u001b[0mself\u001b[0m\u001b[0;34m.\u001b[0m\u001b[0mtrain_function\u001b[0m\u001b[0;34m(\u001b[0m\u001b[0mins\u001b[0m\u001b[0;34m)\u001b[0m\u001b[0;34m\u001b[0m\u001b[0m\n\u001b[0m\u001b[1;32m   1538\u001b[0m \u001b[0;34m\u001b[0m\u001b[0m\n\u001b[1;32m   1539\u001b[0m     \u001b[0;32mif\u001b[0m \u001b[0mlen\u001b[0m\u001b[0;34m(\u001b[0m\u001b[0moutputs\u001b[0m\u001b[0;34m)\u001b[0m \u001b[0;34m==\u001b[0m \u001b[0;36m1\u001b[0m\u001b[0;34m:\u001b[0m\u001b[0;34m\u001b[0m\u001b[0m\n",
      "\u001b[0;32m/usr/local/lib/python3.5/dist-packages/tensorflow/python/keras/backend.py\u001b[0m in \u001b[0;36m__call__\u001b[0;34m(self, inputs)\u001b[0m\n\u001b[1;32m   2895\u001b[0m       \u001b[0mself\u001b[0m\u001b[0;34m.\u001b[0m\u001b[0m_make_callable\u001b[0m\u001b[0;34m(\u001b[0m\u001b[0mfeed_arrays\u001b[0m\u001b[0;34m,\u001b[0m \u001b[0mfeed_symbols\u001b[0m\u001b[0;34m,\u001b[0m \u001b[0msymbol_vals\u001b[0m\u001b[0;34m,\u001b[0m \u001b[0msession\u001b[0m\u001b[0;34m)\u001b[0m\u001b[0;34m\u001b[0m\u001b[0m\n\u001b[1;32m   2896\u001b[0m \u001b[0;34m\u001b[0m\u001b[0m\n\u001b[0;32m-> 2897\u001b[0;31m     \u001b[0mfetched\u001b[0m \u001b[0;34m=\u001b[0m \u001b[0mself\u001b[0m\u001b[0;34m.\u001b[0m\u001b[0m_callable_fn\u001b[0m\u001b[0;34m(\u001b[0m\u001b[0;34m*\u001b[0m\u001b[0marray_vals\u001b[0m\u001b[0;34m)\u001b[0m\u001b[0;34m\u001b[0m\u001b[0m\n\u001b[0m\u001b[1;32m   2898\u001b[0m     \u001b[0;32mreturn\u001b[0m \u001b[0mfetched\u001b[0m\u001b[0;34m[\u001b[0m\u001b[0;34m:\u001b[0m\u001b[0mlen\u001b[0m\u001b[0;34m(\u001b[0m\u001b[0mself\u001b[0m\u001b[0;34m.\u001b[0m\u001b[0moutputs\u001b[0m\u001b[0;34m)\u001b[0m\u001b[0;34m]\u001b[0m\u001b[0;34m\u001b[0m\u001b[0m\n\u001b[1;32m   2899\u001b[0m \u001b[0;34m\u001b[0m\u001b[0m\n",
      "\u001b[0;32m/usr/local/lib/python3.5/dist-packages/tensorflow/python/client/session.py\u001b[0m in \u001b[0;36m__call__\u001b[0;34m(self, *args)\u001b[0m\n\u001b[1;32m   1449\u001b[0m         \u001b[0;32mif\u001b[0m \u001b[0mself\u001b[0m\u001b[0;34m.\u001b[0m\u001b[0m_session\u001b[0m\u001b[0;34m.\u001b[0m\u001b[0m_created_with_new_api\u001b[0m\u001b[0;34m:\u001b[0m\u001b[0;34m\u001b[0m\u001b[0m\n\u001b[1;32m   1450\u001b[0m           return tf_session.TF_SessionRunCallable(\n\u001b[0;32m-> 1451\u001b[0;31m               self._session._session, self._handle, args, status, None)\n\u001b[0m\u001b[1;32m   1452\u001b[0m         \u001b[0;32melse\u001b[0m\u001b[0;34m:\u001b[0m\u001b[0;34m\u001b[0m\u001b[0m\n\u001b[1;32m   1453\u001b[0m           return tf_session.TF_DeprecatedSessionRunCallable(\n",
      "\u001b[0;31mKeyboardInterrupt\u001b[0m: "
     ]
    }
   ],
   "source": [
    "#callbacks\n",
    "\n",
    "tensorboard = TensorBoard(log_dir=os.path.join(\"../tensorboard/dssm_generator_allpos_no_dropout\"), histogram_freq=0,write_graph=True, write_images=False)\n",
    "check=ModelCheckpoint(\"best_similarity_model_generator_allpos_400_no_dropout_adam\", monitor='loss', save_best_only=True, verbose=1, save_weights_only=False, mode='min')\n",
    "\n",
    "callbacks = [ComputeTestSet(),check,tensorboard,TerminateOnNaN()]\n",
    "\n",
    "similarity_model.fit_generator(generator=generator_allpos(query_train_id, BATCH_SIZE), \n",
    "                               epochs=200,\n",
    "                               callbacks=callbacks,\n",
    "                               steps_per_epoch=len(query_train_id)//BATCH_SIZE)\n",
    "\n",
    "#query_model.save(\"query_model_no_dropout.hdf5\")\n",
    "#doc_model.save(\"doc_model_no_dropout.hdf5\")\n",
    "similarity_model.save(\"similarity_model_generator_allpos_400_no_dropout.hdf5\")\n",
    "#JUMP THIS CODE!!! IS ONLY FOR COMPARATION WITH FIT_GENERATOR\n",
    "if False:\n",
    "    epoach = 500\n",
    "    for _ in range(epoach):\n",
    "        start_t = time.time()\n",
    "        X_query,X_document,Y_similarity = sample_training_data(20, num_pos_docs=1, num_neg_docs=1)\n",
    "        end_sample = time.time()\n",
    "        similarity_model.train_on_batch([X_document,X_query],Y_similarity)\n",
    "        end_train = time.time()\n",
    "\n",
    "        print(\"Last epoach: {0:d} sample time: {1:.2f} train time: {2:.2f}\".format(_,end_sample-start_t,end_train-end_sample))"
   ]
  },
  {
   "cell_type": "code",
   "execution_count": 35,
   "metadata": {},
   "outputs": [
    {
     "name": "stderr",
     "output_type": "stream",
     "text": [
      "/usr/local/lib/python3.5/dist-packages/ipykernel_launcher.py:45: DeprecationWarning: elementwise == comparison failed; this will raise an error in the future.\n"
     ]
    }
   ],
   "source": [
    "X_query,X_document,Y_similarity = sample_training_data(100, num_pos_docs=5,num_neg_docs=5)\n",
    "\n"
   ]
  },
  {
   "cell_type": "code",
   "execution_count": 58,
   "metadata": {},
   "outputs": [
    {
     "name": "stderr",
     "output_type": "stream",
     "text": [
      "/usr/local/lib/python3.5/dist-packages/ipykernel_launcher.py:86: DeprecationWarning: elementwise == comparison failed; this will raise an error in the future.\n"
     ]
    },
    {
     "data": {
      "text/plain": [
       "[0.698618407281877, 0.6664280608115063]"
      ]
     },
     "execution_count": 58,
     "metadata": {},
     "output_type": "execute_result"
    }
   ],
   "source": [
    "similarity_model.evaluate_generator(generator=generator(query_test_id, BATCH_SIZE, num_pos_docs=5, num_neg_docs=5),\n",
    "                                   steps=len(query_train_id)//BATCH_SIZE)\n"
   ]
  },
  {
   "cell_type": "code",
   "execution_count": 59,
   "metadata": {},
   "outputs": [
    {
     "name": "stdout",
     "output_type": "stream",
     "text": [
      "[2, 132, 134, 7, 10, 140, 142, 15, 144, 149, 23, 152, 153, 26, 25, 30, 31, 160, 163, 40, 170, 42, 172, 178, 51, 56, 185, 57, 59, 186, 190, 194, 197, 205, 209, 83, 211, 86, 221, 93, 223, 224, 97, 99, 101, 103, 106, 109, 110, 115, 118, 121, 127]\n"
     ]
    }
   ],
   "source": []
  },
  {
   "cell_type": "code",
   "execution_count": null,
   "metadata": {},
   "outputs": [],
   "source": []
  }
 ],
 "metadata": {
  "kernelspec": {
   "display_name": "Python 3",
   "language": "python",
   "name": "python3"
  },
  "language_info": {
   "codemirror_mode": {
    "name": "ipython",
    "version": 3
   },
   "file_extension": ".py",
   "mimetype": "text/x-python",
   "name": "python",
   "nbconvert_exporter": "python",
   "pygments_lexer": "ipython3",
   "version": "3.5.2"
  }
 },
 "nbformat": 4,
 "nbformat_minor": 2
}
