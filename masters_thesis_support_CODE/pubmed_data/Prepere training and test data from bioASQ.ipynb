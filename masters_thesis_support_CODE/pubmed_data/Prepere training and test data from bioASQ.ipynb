{
 "cells": [
  {
   "cell_type": "code",
   "execution_count": 1,
   "metadata": {},
   "outputs": [],
   "source": [
    "import json\n",
    "\n",
    "import os\n",
    "import sys\n",
    "\n",
    "module_path = os.path.abspath(os.path.join('..'))\n",
    "if module_path not in sys.path:\n",
    "    sys.path.append(module_path)\n",
    "\n",
    "import pubmed_data.pubmed_helper as ph"
   ]
  },
  {
   "cell_type": "code",
   "execution_count": 17,
   "metadata": {},
   "outputs": [],
   "source": [
    "bioASQ_data_path = \"/backup/BioASQ-training7b/training7b_filter.json\"\n",
    "bioASQ_data_full = json.load(open(bioASQ_data_path))\n",
    "if isinstance(bioASQ_data_full,list):\n",
    "    bioASQ_data = bioASQ_data_full\n",
    "else:\n",
    "    bioASQ_data = bioASQ_data_full[\"questions\"]"
   ]
  },
  {
   "cell_type": "code",
   "execution_count": 18,
   "metadata": {},
   "outputs": [],
   "source": [
    "bioASQ_data_documents = list(map(lambda x:{\"id\":x[\"id\"],\"documents\":x[\"documents\"],\"body\":x[\"body\"]},bioASQ_data))\n",
    "    "
   ]
  },
  {
   "cell_type": "code",
   "execution_count": 4,
   "metadata": {},
   "outputs": [],
   "source": [
    "import random\n",
    "\n",
    "random.shuffle(bioASQ_data_documents)\n",
    "\n",
    "test_percentage = 0.2\n",
    "\n",
    "test_index_split = int(len(bioASQ_data_documents)*test_percentage)"
   ]
  },
  {
   "cell_type": "code",
   "execution_count": null,
   "metadata": {},
   "outputs": [],
   "source": [
    "\n",
    "#validation size 549\n",
    "#train size 2498\n",
    "\n"
   ]
  },
  {
   "cell_type": "code",
   "execution_count": 5,
   "metadata": {},
   "outputs": [],
   "source": [
    "json.dump(bioASQ_data_documents[:test_index_split], open(\"/backup/BioASQ-training7b/7b_test_split.json\",\"w\"))\n",
    "json.dump(bioASQ_data_documents[test_index_split:], open(\"/backup/BioASQ-training7b/7b_train_split.json\",\"w\"))"
   ]
  },
  {
   "cell_type": "markdown",
   "metadata": {},
   "source": [
    "### Test set"
   ]
  },
  {
   "cell_type": "code",
   "execution_count": 3,
   "metadata": {},
   "outputs": [
    {
     "ename": "FileNotFoundError",
     "evalue": "[Errno 2] No such file or directory: '/backup/BioASQ_test_set/BioASQ-TaskB-testData/phaseA_5b_01.json'",
     "output_type": "error",
     "traceback": [
      "\u001b[0;31m---------------------------------------------------------------------------\u001b[0m",
      "\u001b[0;31mFileNotFoundError\u001b[0m                         Traceback (most recent call last)",
      "\u001b[0;32m<ipython-input-3-9bb79238310b>\u001b[0m in \u001b[0;36m<module>\u001b[0;34m()\u001b[0m\n\u001b[1;32m      1\u001b[0m \u001b[0mbioASQ_data_path\u001b[0m \u001b[0;34m=\u001b[0m \u001b[0;34m\"/backup/BioASQ_test_set/BioASQ-TaskB-testData/phaseA_5b_01.json\"\u001b[0m\u001b[0;34m\u001b[0m\u001b[0m\n\u001b[0;32m----> 2\u001b[0;31m \u001b[0mbioASQ_data_full\u001b[0m \u001b[0;34m=\u001b[0m \u001b[0mjson\u001b[0m\u001b[0;34m.\u001b[0m\u001b[0mload\u001b[0m\u001b[0;34m(\u001b[0m\u001b[0mopen\u001b[0m\u001b[0;34m(\u001b[0m\u001b[0mbioASQ_data_path\u001b[0m\u001b[0;34m)\u001b[0m\u001b[0;34m)\u001b[0m\u001b[0;34m\u001b[0m\u001b[0m\n\u001b[0m\u001b[1;32m      3\u001b[0m \u001b[0;32mif\u001b[0m \u001b[0misinstance\u001b[0m\u001b[0;34m(\u001b[0m\u001b[0mbioASQ_data_full\u001b[0m\u001b[0;34m,\u001b[0m\u001b[0mlist\u001b[0m\u001b[0;34m)\u001b[0m\u001b[0;34m:\u001b[0m\u001b[0;34m\u001b[0m\u001b[0m\n\u001b[1;32m      4\u001b[0m     \u001b[0mbioASQ_data\u001b[0m \u001b[0;34m=\u001b[0m \u001b[0mbioASQ_data_full\u001b[0m\u001b[0;34m\u001b[0m\u001b[0m\n\u001b[1;32m      5\u001b[0m \u001b[0;32melse\u001b[0m\u001b[0;34m:\u001b[0m\u001b[0;34m\u001b[0m\u001b[0m\n",
      "\u001b[0;31mFileNotFoundError\u001b[0m: [Errno 2] No such file or directory: '/backup/BioASQ_test_set/BioASQ-TaskB-testData/phaseA_5b_01.json'"
     ]
    }
   ],
   "source": [
    "\n",
    "bioASQ_data_path = \"/backup/bioASQ_test_set/BioASQ-TaskB-testData/phaseA_5b_01.json\"\n",
    "bioASQ_data_full = json.load(open(bioASQ_data_path))\n",
    "if isinstance(bioASQ_data_full,list):\n",
    "    bioASQ_data = bioASQ_data_full\n",
    "else:\n",
    "    bioASQ_data = bioASQ_data_full[\"questions\"]\n",
    "    \n",
    "bioASQ_data_documents = list(map(lambda x:{\"id\":x[\"id\"],\"documents\":x[\"documents\"],\"body\":x[\"body\"]},bioASQ_data))\n",
    "    "
   ]
  },
  {
   "cell_type": "code",
   "execution_count": 19,
   "metadata": {},
   "outputs": [
    {
     "data": {
      "text/plain": [
       "2747"
      ]
     },
     "execution_count": 19,
     "metadata": {},
     "output_type": "execute_result"
    }
   ],
   "source": [
    "len(bioASQ_data)"
   ]
  },
  {
   "cell_type": "code",
   "execution_count": null,
   "metadata": {},
   "outputs": [],
   "source": []
  }
 ],
 "metadata": {
  "kernelspec": {
   "display_name": "Python 3",
   "language": "python",
   "name": "python3"
  },
  "language_info": {
   "codemirror_mode": {
    "name": "ipython",
    "version": 3
   },
   "file_extension": ".py",
   "mimetype": "text/x-python",
   "name": "python",
   "nbconvert_exporter": "python",
   "pygments_lexer": "ipython3",
   "version": "3.5.2"
  }
 },
 "nbformat": 4,
 "nbformat_minor": 2
}
