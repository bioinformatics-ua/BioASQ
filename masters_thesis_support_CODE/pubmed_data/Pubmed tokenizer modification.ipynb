{
 "cells": [
  {
   "cell_type": "code",
   "execution_count": 1,
   "metadata": {},
   "outputs": [],
   "source": [
    "import json\n",
    "from os.path import join\n",
    "import os\n",
    "import sys\n",
    "import pickle\n",
    "import gc\n",
    "import numpy as np\n",
    "\n",
    "module_path = os.path.abspath(os.path.join('.','pubmed_data'))\n",
    "if module_path not in sys.path:\n",
    "    sys.path.append(module_path)\n",
    "\n",
    "import pubmed_helper as ph\n"
   ]
  },
  {
   "cell_type": "code",
   "execution_count": 2,
   "metadata": {},
   "outputs": [],
   "source": [
    "bioASQ_data_path = \"/backup/BioASQ-training7b/\"\n",
    "bioASQ_data_test = json.load(open(os.path.join(bioASQ_data_path,\"7b_test_split.json\")))"
   ]
  },
  {
   "cell_type": "code",
   "execution_count": 3,
   "metadata": {},
   "outputs": [
    {
     "name": "stdout",
     "output_type": "stream",
     "text": [
      "Load regex_full_tokens_tokenizer.p\n"
     ]
    }
   ],
   "source": [
    "MODE = \"regex_full_tokens\"\n",
    "\n",
    "full_tk = ph.load_tokenizer(MODE)"
   ]
  },
  {
   "cell_type": "code",
   "execution_count": 4,
   "metadata": {},
   "outputs": [],
   "source": [
    "bioASQ_test_queries_tokenized = full_tk.texts_to_sequences(map(lambda x:x[\"body\"],bioASQ_data_test))\n"
   ]
  },
  {
   "cell_type": "code",
   "execution_count": 5,
   "metadata": {},
   "outputs": [
    {
     "data": {
      "text/plain": [
       "662370"
      ]
     },
     "execution_count": 5,
     "metadata": {},
     "output_type": "execute_result"
    }
   ],
   "source": [
    "min_token_index = min(map(lambda x:max(x),bioASQ_test_queries_tokenized))\n",
    "token = full_tk.index_word[min_token_index]\n",
    "\n",
    "full_tk.word_counts[token]"
   ]
  },
  {
   "cell_type": "code",
   "execution_count": 18,
   "metadata": {},
   "outputs": [],
   "source": [
    "#choose all tokens with less 700k\n",
    "max_count = 700000\n",
    "from keras_new_text import Tokenizer, regex_alfanum_tokenizer\n",
    "\n",
    "tk = Tokenizer(tokenizer=regex_alfanum_tokenizer)\n",
    "tk.document_count = 18824355\n",
    "tk.word_counts = {k:v for k,v in full_tk.word_counts.items() if v<=max_count}\n",
    "\n",
    "wcounts = list(tk.word_counts.items())\n",
    "wcounts.sort(key=lambda x: x[1], reverse=True)\n",
    "# forcing the oov_token to index 1 if it exists\n",
    "if tk.oov_token is None:\n",
    "    sorted_voc = []\n",
    "else:\n",
    "    sorted_voc = [tk.oov_token]\n",
    "sorted_voc.extend(wc[0] for wc in wcounts)\n",
    "\n",
    "# note that index 0 is reserved, never assigned to an existing word\n",
    "tk.word_index = dict(\n",
    "    list(zip(sorted_voc, list(range(1, len(sorted_voc) + 1)))))\n",
    "\n",
    "tk.index_word = dict((c, w) for w, c in tk.word_index.items())\n",
    "\n",
    "full_tk_voc = set(full_tk.word_counts.keys())\n",
    "tk_voc = set(tk.word_counts.keys())\n",
    "diff_voc = full_tk_voc - tk_voc\n",
    "\n",
    "tk.word_docs = { k:v for k,v in full_tk.word_docs.items() if k not in diff_voc}\n",
    "for w, c in list(tk.word_docs.items()):\n",
    "    tk.index_docs[tk.word_index[w]] = c\n"
   ]
  },
  {
   "cell_type": "code",
   "execution_count": 19,
   "metadata": {},
   "outputs": [
    {
     "data": {
      "text/plain": [
       "False"
      ]
     },
     "execution_count": 19,
     "metadata": {},
     "output_type": "execute_result"
    }
   ],
   "source": [
    "#verify\n",
    "bioASQ_test_queries_tokenized_2 = tk.texts_to_sequences(map(lambda x:x[\"body\"],bioASQ_data_test))\n",
    "\n",
    "any([len(x)==0 for x in bioASQ_test_queries_tokenized_2])"
   ]
  },
  {
   "cell_type": "code",
   "execution_count": 17,
   "metadata": {},
   "outputs": [
    {
     "data": {
      "text/plain": [
       "\"Which are the common symptoms of Cushing's syndrome?\""
      ]
     },
     "execution_count": 17,
     "metadata": {},
     "output_type": "execute_result"
    }
   ],
   "source": [
    "bioASQ_data_test[12][\"body\"]"
   ]
  },
  {
   "cell_type": "code",
   "execution_count": 14,
   "metadata": {},
   "outputs": [
    {
     "data": {
      "text/plain": [
       "[1368, 11, 1238942]"
      ]
     },
     "execution_count": 14,
     "metadata": {},
     "output_type": "execute_result"
    }
   ],
   "source": []
  },
  {
   "cell_type": "code",
   "execution_count": 20,
   "metadata": {},
   "outputs": [],
   "source": [
    "with open(\"/backup/pubmed_tokenizers/regex_less_700k_freq_tokenizer.p\",\"wb\") as f:\n",
    "    pickle.dump(tk,f)"
   ]
  },
  {
   "cell_type": "code",
   "execution_count": null,
   "metadata": {},
   "outputs": [],
   "source": []
  }
 ],
 "metadata": {
  "kernelspec": {
   "display_name": "Python 3",
   "language": "python",
   "name": "python3"
  },
  "language_info": {
   "codemirror_mode": {
    "name": "ipython",
    "version": 3
   },
   "file_extension": ".py",
   "mimetype": "text/x-python",
   "name": "python",
   "nbconvert_exporter": "python",
   "pygments_lexer": "ipython3",
   "version": "3.5.2"
  }
 },
 "nbformat": 4,
 "nbformat_minor": 2
}
