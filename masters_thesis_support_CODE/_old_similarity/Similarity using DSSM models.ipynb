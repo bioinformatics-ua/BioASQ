{
 "cells": [
  {
   "cell_type": "code",
   "execution_count": 25,
   "metadata": {},
   "outputs": [],
   "source": [
    "import numpy as np\n",
    "import json\n",
    "import os\n",
    "import gc\n",
    "from collections import defaultdict\n",
    "from gensim.models.keyedvectors import KeyedVectors\n",
    "from gensim.models import TfidfModel\n",
    "from gensim import corpora,similarities,matutils\n",
    "from gensim.parsing.preprocessing import remove_stopwords\n",
    "from nltk.tokenize import word_tokenize\n",
    "\n",
    "from tensorflow.keras.preprocessing.sequence import pad_sequences\n",
    "from tensorflow.keras.models import load_model\n",
    "import tensorflow.keras.backend as K\n",
    "\n",
    "import pickle\n",
    "\n",
    "from sklearn.decomposition import PCA\n",
    "import matplotlib.pyplot as plt\n",
    "%matplotlib inline"
   ]
  },
  {
   "cell_type": "code",
   "execution_count": 26,
   "metadata": {},
   "outputs": [
    {
     "name": "stdout",
     "output_type": "stream",
     "text": [
      "Num documents 1400 Num queries 225\n"
     ]
    }
   ],
   "source": [
    "\n",
    "docs = [(doc[\"id\"],(doc[\"title\"]+doc[\"body\"])) for doc in json.load(open(\"crag_doc.json\",\"r\"))]\n",
    "queries = [(query[\"query number\"],query[\"query\"]) for query in json.load(open(\"crag_queries.json\",\"r\"))][:-1]\n",
    "relevance = json.load(open(\"crag_relevance.json\",\"r\"))\n",
    "\n",
    "\n",
    "STOP_WORDS = True\n",
    "\n",
    "if STOP_WORDS:\n",
    "    docs = { k:word_tokenize(remove_stopwords(v)) for k,v in docs}\n",
    "    queries = { k:word_tokenize(remove_stopwords(v)) for k,v in queries}\n",
    "else:\n",
    "    docs = { k:word_tokenize(v) for k,v in docs}\n",
    "    queries = { k:word_tokenize(v) for k,v in queries}\n",
    "\n",
    "query_relevance = defaultdict(list)\n",
    "[query_relevance[line[\"query_num\"]].append((line[\"id\"],line[\"position\"])) for line in relevance]\n",
    "query_relevance = [(k,list(map(lambda t:int(t[0]),sorted(v, key=lambda x:-x[1])))) for k,v in query_relevance.items()]\n",
    "query_relevance = { int(k):v for k,v in query_relevance}\n",
    "\n",
    "#remove stop words\n",
    "#docs = { k:remove_stopwords(v) for k,v in docs}\n",
    "#queries = { k:remove_stopwords(v) for k,v in queries}\n",
    "\n",
    "print(\"Num documents\",len(docs),\"Num queries\",len(queries))\n"
   ]
  },
  {
   "cell_type": "code",
   "execution_count": 27,
   "metadata": {},
   "outputs": [],
   "source": [
    "def sequences_to_texts(texts):\n",
    "    return [' '.join([reverse_word_index.get(i, '?') for i in text]) for text in texts]\n",
    "\n",
    "## Load Keras tokanizer\n",
    "with open(os.path.join(\"..\",\"models\",\"tokenizer.pickle\"), 'rb') as handle:\n",
    "    keras_tokenizer = pickle.load(handle)"
   ]
  },
  {
   "cell_type": "markdown",
   "metadata": {},
   "source": [
    "## Tokenize and padding the data"
   ]
  },
  {
   "cell_type": "code",
   "execution_count": 28,
   "metadata": {},
   "outputs": [],
   "source": [
    "MAX_DOC_LENGTH = 150\n",
    "MAX_QUERY_LENGTH = 20 \n",
    "\n",
    "#TODO tokenize and padding the data\n",
    "docs_tokenized_padded = {k:(pad_sequences(keras_tokenizer.texts_to_sequences([v]),value=keras_tokenizer.word_index[\"<PAD>\"],padding='pre',maxlen=MAX_DOC_LENGTH)[0]) for k,v in docs.items()}\n",
    "queries_tokenized_padded = {k:(pad_sequences(keras_tokenizer.texts_to_sequences([v]),value=keras_tokenizer.word_index[\"<PAD>\"],padding='pre',maxlen=MAX_QUERY_LENGTH)[0]) for k,v in queries.items()}\n"
   ]
  },
  {
   "cell_type": "markdown",
   "metadata": {},
   "source": [
    "## Load pre trained similarity model"
   ]
  },
  {
   "cell_type": "code",
   "execution_count": 30,
   "metadata": {},
   "outputs": [
    {
     "name": "stdout",
     "output_type": "stream",
     "text": [
      "__________________________________________________________________________________________________\n",
      "Layer (type)                    Output Shape         Param #     Connected to                     \n",
      "==================================================================================================\n",
      "document_words_input (InputLaye (None, 150)          0                                            \n",
      "__________________________________________________________________________________________________\n",
      "query_words_input (InputLayer)  (None, 20)           0                                            \n",
      "__________________________________________________________________________________________________\n",
      "doc_projection_model (Model)    (None, 100)          1489900     document_words_input[0][0]       \n",
      "__________________________________________________________________________________________________\n",
      "query_projection_model (Model)  (None, 100)          1489900     query_words_input[0][0]          \n",
      "__________________________________________________________________________________________________\n",
      "dot (Dot)                       (None, 1)            0           doc_projection_model[1][0]       \n",
      "                                                                 query_projection_model[1][0]     \n",
      "__________________________________________________________________________________________________\n",
      "sigmoid_convert (Dense)         (None, 1)            2           dot[0][0]                        \n",
      "==================================================================================================\n",
      "Total params: 2,979,802\n",
      "Trainable params: 261,002\n",
      "Non-trainable params: 2,718,800\n",
      "__________________________________________________________________________________________________\n"
     ]
    }
   ],
   "source": [
    "from tensorflow.keras.utils import get_custom_objects\n",
    "from tensorflow.keras.layers import Activation\n",
    "def custom_activation(x):\n",
    "    return K.sigmoid(x*10-3)\n",
    "\n",
    "get_custom_objects().update({'custom_activation': Activation(custom_activation)})\n",
    "\n",
    "similarity_model = load_model(os.path.join(\"..\",\"models\",\"similarity_model_no_dropout.hdf5\"))\n",
    "#similarity_model = load_model(os.path.join(\"..\",\"models\",\"best_similarity_model_generator_allpos_400_no_dropout_adam\"))\n",
    "#best_similarity_model_generator_allpos_50NEG_200_no_dropout_adam\n",
    "similarity_model.summary()"
   ]
  },
  {
   "cell_type": "markdown",
   "metadata": {},
   "source": [
    "## Get Document and Query Projections models"
   ]
  },
  {
   "cell_type": "code",
   "execution_count": 31,
   "metadata": {},
   "outputs": [],
   "source": [
    "doc_model = similarity_model.get_layer(\"doc_projection_model\")\n",
    "query_model = similarity_model.get_layer(\"query_projection_model\")"
   ]
  },
  {
   "cell_type": "markdown",
   "metadata": {},
   "source": [
    "## Apply the projection to the documments and queries"
   ]
  },
  {
   "cell_type": "code",
   "execution_count": 38,
   "metadata": {},
   "outputs": [],
   "source": [
    "BATCH_SIZE = 500\n",
    "\n",
    "list_keys = list(docs_tokenized_padded.keys())\n",
    "list_docs = list(docs_tokenized_padded.values())\n",
    "\n",
    "docs_projected = {}\n",
    "\n",
    "for i in range(0,len(list_keys),BATCH_SIZE):\n",
    "    projection = doc_model.predict_on_batch(np.array(list_docs[i:i+BATCH_SIZE]))\n",
    "    norm = np.linalg.norm(projection,axis=1)\n",
    "    norm = norm.reshape((norm.shape[0],1))\n",
    "    projection = projection/norm\n",
    "    for j,k in enumerate(list_keys[i:i+BATCH_SIZE]):\n",
    "        docs_projected[k] = projection[j]\n",
    "\n",
    "doc_emb_matrix = np.vstack(list(docs_projected.values()))\n",
    "doc_emb_norm_matrix = np.linalg.norm(doc_emb_matrix, axis=1) #pre compute l2-norm\n",
    "\n",
    "        \n",
    "BATCH_SIZE = 100\n",
    "list_q_keys = list(queries_tokenized_padded.keys())\n",
    "list_queries = list(queries_tokenized_padded.values())\n",
    "\n",
    "queries_projected = {}\n",
    "\n",
    "for i in range(0,len(list_q_keys),BATCH_SIZE):\n",
    "    projection = query_model.predict_on_batch(np.array(list_queries[i:i+BATCH_SIZE]))\n",
    "    norm = np.linalg.norm(projection,axis=1)\n",
    "    norm = norm.reshape((norm.shape[0],1))\n",
    "    projection = projection/norm\n",
    "    for j,k in enumerate(list_q_keys[i:i+BATCH_SIZE]):\n",
    "        queries_projected[k] = projection[j]\n"
   ]
  },
  {
   "cell_type": "code",
   "execution_count": 39,
   "metadata": {},
   "outputs": [],
   "source": [
    "def _sim_cos_vec(embedding_matrix,norm_matrix,word_vec):\n",
    "    \n",
    "    dot_product = np.dot(embedding_matrix ,word_vec)\n",
    "\n",
    "    norm_word = np.linalg.norm(word_vec)\n",
    "\n",
    "    norm = norm_matrix * norm_word\n",
    "\n",
    "    return dot_product/ norm\n",
    "\n",
    "def get_doc_id(docs_emb,results):\n",
    "    return [ (docs_emb[k][0],v) for k,v in results]\n",
    "\n",
    "def get_top_k_similars(similaraty_function, docs_concat_emb , queries_avg_emb, query_relevance, top_k=50):\n",
    "    \n",
    "    list_recall = []\n",
    "    list_precision = []\n",
    "    for query_id,query_vec in queries_avg_emb:\n",
    "\n",
    "        sims = sorted(enumerate(similaraty_function(query_vec)), key=lambda item: -item[1])\n",
    "\n",
    "        docs_top_k_id = [k for k,v in get_doc_id(docs_concat_emb,sims[:top_k])]\n",
    "        docs_relevant = set(query_relevance[query_id])\n",
    "        \n",
    "        #not needed for recall\n",
    "        order_intersect = [ doc for doc in docs_top_k_id if doc in docs_relevant]\n",
    "        \n",
    "        list_recall.append(len(order_intersect)/len(query_relevance[query_id]))\n",
    "        list_precision.append(len(order_intersect)/top_k)\n",
    "        \n",
    "    return list_recall,list_precision"
   ]
  },
  {
   "cell_type": "code",
   "execution_count": 40,
   "metadata": {},
   "outputs": [
    {
     "name": "stdout",
     "output_type": "stream",
     "text": [
      "Using my implementation of cos sim, RECALL 0.0019363969363969363 PRECISION 0.00035555555555555557\n"
     ]
    }
   ],
   "source": [
    "TOP_K=50\n",
    "\n",
    "recall,precision = get_top_k_similars(lambda q:_sim_cos_vec(doc_emb_matrix,doc_emb_norm_matrix,q),list(docs_projected.items()),list(queries_projected.items()),query_relevance,top_k=TOP_K)\n",
    "\n",
    "print(\"Using my implementation of cos sim, RECALL\",sum(recall)/len(recall),\"PRECISION\",sum(precision)/len(precision))\n"
   ]
  },
  {
   "cell_type": "code",
   "execution_count": null,
   "metadata": {},
   "outputs": [],
   "source": []
  },
  {
   "cell_type": "code",
   "execution_count": 41,
   "metadata": {},
   "outputs": [
    {
     "name": "stdout",
     "output_type": "stream",
     "text": [
      "[0.3013732  0.19980899]\n"
     ]
    }
   ],
   "source": [
    "#Visualize FOR query 1\n",
    "query_id = 150\n",
    "\n",
    "#relevants document to query 1 IN SPACE\n",
    "rel_doc_emb =[ doc_emb for k,doc_emb in docs_projected.items() if k in set(query_relevance[query_id])]\n",
    "query_pca = PCA(n_components=2)\n",
    "query_pca.fit_transform(list(queries_projected.values()))\n",
    "\n",
    "pca = PCA(n_components=2)\n",
    "pca_emb = pca.fit_transform(list(docs_projected.values()))\n",
    "pca_emb_doc_rel = pca.transform(rel_doc_emb)\n",
    "pca_emb_query = pca.transform([queries_projected[query_id]])\n",
    "print(pca.explained_variance_ratio_)"
   ]
  },
  {
   "cell_type": "code",
   "execution_count": 42,
   "metadata": {},
   "outputs": [
    {
     "data": {
      "text/plain": [
       "<matplotlib.collections.PathCollection at 0x7f2f235db400>"
      ]
     },
     "execution_count": 42,
     "metadata": {},
     "output_type": "execute_result"
    },
    {
     "data": {
      "image/png": "[encoded data removed]",
      "text/plain": [
       "<Figure size 432x288 with 1 Axes>"
      ]
     },
     "metadata": {},
     "output_type": "display_data"
    }
   ],
   "source": [
    "all_x, all_y = zip(*pca_emb)\n",
    "doc_x, doc_y = zip(*pca_emb_doc_rel)\n",
    "query_x,query_y = zip(*pca_emb_query)\n",
    "plt.scatter(all_x,all_y)\n",
    "plt.scatter(doc_x,doc_y)\n",
    "plt.scatter(query_x,query_y)"
   ]
  },
  {
   "cell_type": "code",
   "execution_count": 43,
   "metadata": {},
   "outputs": [],
   "source": [
    "def sigmoid(x, derivative=False):\n",
    "    sigm = 1. / (1. + np.exp(-x))\n",
    "    if derivative:\n",
    "        return sigm * (1. - sigm)\n",
    "    return sigm"
   ]
  },
  {
   "cell_type": "code",
   "execution_count": 44,
   "metadata": {},
   "outputs": [
    {
     "name": "stdout",
     "output_type": "stream",
     "text": [
      "[<tensorflow.python.keras.engine.input_layer.InputLayer object at 0x7f2f6d747f98>, <tensorflow.python.keras.engine.input_layer.InputLayer object at 0x7f2f6d747e48>, <tensorflow.python.keras.engine.training.Model object at 0x7f2f6d747ba8>, <tensorflow.python.keras.engine.training.Model object at 0x7f2f6d41f3c8>, <tensorflow.python.keras.layers.merge.Dot object at 0x7f2f6d083780>, <tensorflow.python.keras.layers.core.Dense object at 0x7f2f6d0460b8>]\n"
     ]
    },
    {
     "data": {
      "text/plain": [
       "[array([[-3.2083561]], dtype=float32), array([-1.028317], dtype=float32)]"
      ]
     },
     "execution_count": 44,
     "metadata": {},
     "output_type": "execute_result"
    }
   ],
   "source": [
    "print(similarity_model.layers)\n",
    "similarity_model.layers[-1].get_weights()\n",
    "#sorted(enumerate(_sim_cos_vec(doc_emb_matrix,doc_emb_norm_matrix,queries_projected[query_id])), key=lambda item: -item[1])"
   ]
  },
  {
   "cell_type": "code",
   "execution_count": 45,
   "metadata": {},
   "outputs": [],
   "source": [
    "r = _sim_cos_vec(doc_emb_matrix,doc_emb_norm_matrix,queries_projected[query_id])"
   ]
  },
  {
   "cell_type": "code",
   "execution_count": 46,
   "metadata": {},
   "outputs": [
    {
     "name": "stdout",
     "output_type": "stream",
     "text": [
      "Using my implementation of cos sim, RECALL 0.6225441635035496 PRECISION 0.0924444444444443\n"
     ]
    }
   ],
   "source": [
    "recall,precision = get_top_k_similars(lambda q:sigmoid(_sim_cos_vec(doc_emb_matrix,doc_emb_norm_matrix,q)*-3.208-1.0283),list(docs_projected.items()),list(queries_projected.items()),query_relevance,top_k=TOP_K)\n",
    "\n",
    "print(\"Using my implementation of cos sim, RECALL\",sum(recall)/len(recall),\"PRECISION\",sum(precision)/len(precision))"
   ]
  },
  {
   "cell_type": "code",
   "execution_count": 51,
   "metadata": {},
   "outputs": [
    {
     "data": {
      "text/plain": [
       "array([0.14746037, 0.18062676, 0.1798767 , ..., 0.17580585, 0.17775922,\n",
       "       0.19016822], dtype=float32)"
      ]
     },
     "execution_count": 51,
     "metadata": {},
     "output_type": "execute_result"
    }
   ],
   "source": [
    "r"
   ]
  },
  {
   "cell_type": "code",
   "execution_count": null,
   "metadata": {},
   "outputs": [],
   "source": []
  },
  {
   "cell_type": "code",
   "execution_count": null,
   "metadata": {},
   "outputs": [],
   "source": []
  }
 ],
 "metadata": {
  "kernelspec": {
   "display_name": "Python 3",
   "language": "python",
   "name": "python3"
  },
  "language_info": {
   "codemirror_mode": {
    "name": "ipython",
    "version": 3
   },
   "file_extension": ".py",
   "mimetype": "text/x-python",
   "name": "python",
   "nbconvert_exporter": "python",
   "pygments_lexer": "ipython3",
   "version": "3.5.2"
  }
 },
 "nbformat": 4,
 "nbformat_minor": 2
}
