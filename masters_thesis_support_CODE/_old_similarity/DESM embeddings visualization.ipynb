{
 "cells": [
  {
   "cell_type": "code",
   "execution_count": 1,
   "metadata": {},
   "outputs": [
    {
     "name": "stderr",
     "output_type": "stream",
     "text": [
      "c:\\users\\asus\\anaconda3\\envs\\bio\\lib\\site-packages\\gensim\\utils.py:1212: UserWarning: detected Windows; aliasing chunkize to chunkize_serial\n",
      "  warnings.warn(\"detected Windows; aliasing chunkize to chunkize_serial\")\n"
     ]
    }
   ],
   "source": [
    "import numpy as np\n",
    "import json\n",
    "import os\n",
    "import gc\n",
    "from collections import defaultdict\n",
    "from gensim.models.keyedvectors import KeyedVectors\n",
    "from sklearn.decomposition import PCA\n",
    "from sklearn.manifold import TSNE\n",
    "from gensim.parsing.preprocessing import remove_stopwords\n",
    "from gensim.models import TfidfModel\n",
    "from gensim import corpora,similarities,matutils\n",
    "\n",
    "from nltk.tokenize import word_tokenize\n",
    "\n",
    "import matplotlib.pyplot as plt\n",
    "%matplotlib inline\n"
   ]
  },
  {
   "cell_type": "code",
   "execution_count": 2,
   "metadata": {},
   "outputs": [
    {
     "name": "stdout",
     "output_type": "stream",
     "text": [
      "Num documents 1400 Num queries 225\n"
     ]
    }
   ],
   "source": [
    "\n",
    "docs = [(doc[\"id\"],(doc[\"title\"]+doc[\"body\"])) for doc in json.load(open(os.path.join(\"..\",\"similaraty\",\"crag_doc.json\"),\"r\"))]\n",
    "queries = [(query[\"query number\"],query[\"query\"]) for query in json.load(open(os.path.join(\"..\",\"similaraty\",\"crag_queries.json\"),\"r\"))][:-1]\n",
    "relevance = json.load(open(os.path.join(\"..\",\"similaraty\",\"crag_relevance.json\"),\"r\"))\n",
    "#try use dictionaries\n",
    "\n",
    "docs = { k:v for k,v in docs}\n",
    "queries = { k:v for k,v in queries}\n",
    "\n",
    "#remove stop words\n",
    "#docs = { k:remove_stopwords(v) for k,v in docs}\n",
    "#queries = { k:remove_stopwords(v) for k,v in queries}\n",
    "\n",
    "print(\"Num documents\",len(docs),\"Num queries\",len(queries))\n"
   ]
  },
  {
   "cell_type": "code",
   "execution_count": 3,
   "metadata": {},
   "outputs": [],
   "source": [
    "#create a queries relevance list\n",
    "query_relevance = defaultdict(list)\n",
    "\n",
    "[query_relevance[line[\"query_num\"]].append((line[\"id\"],line[\"position\"])) for line in relevance]\n",
    "\n",
    "query_relevance = [(k,list(map(lambda t:t[0],sorted(v, key=lambda x:-x[1])))) for k,v in query_relevance.items()]\n",
    "query_relevance = { k:v for k,v in query_relevance}"
   ]
  },
  {
   "cell_type": "code",
   "execution_count": 4,
   "metadata": {},
   "outputs": [],
   "source": [
    "\n",
    "#list of words in the data\n",
    "dataset_words = set()\n",
    "\n",
    "for q in queries.values():\n",
    "    dataset_words |= set(word_tokenize(q))\n",
    "    \n",
    "for doc in docs.values():\n",
    "    dataset_words |= set(word_tokenize(doc))\n",
    "    \n",
    "dataset_len_vocabulary = len(dataset_words)"
   ]
  },
  {
   "cell_type": "code",
   "execution_count": 5,
   "metadata": {},
   "outputs": [
    {
     "name": "stdout",
     "output_type": "stream",
     "text": [
      "(6796, 200)\n",
      "(6796, 200)\n"
     ]
    }
   ],
   "source": [
    "PATH_CRAG = \"CRAG_OUT_FROM_BIG_FILE_NLTK_TOKENIZER.bin\"\n",
    "\n",
    "model_out = KeyedVectors.load_word2vec_format(PATH_CRAG, binary=True)\n",
    "\n",
    "print(model_out.vectors.shape)\n",
    "\n",
    "PATH_CRAG = \"CRAG_IN_FROM_BIG_FILE_NLTK_TOKENIZER.bin\"\n",
    "\n",
    "model_in = KeyedVectors.load_word2vec_format(PATH_CRAG, binary=True)\n",
    "\n",
    "print(model_in.vectors.shape)"
   ]
  },
  {
   "cell_type": "code",
   "execution_count": null,
   "metadata": {},
   "outputs": [],
   "source": [
    "\n"
   ]
  },
  {
   "cell_type": "code",
   "execution_count": 11,
   "metadata": {},
   "outputs": [],
   "source": [
    "def doc2wordListVec(corpus_dict, ger_embedding):\n",
    "    \n",
    "    docs_emb = []\n",
    "\n",
    "    for i,e in corpus_dict.items():\n",
    "\n",
    "        doc_emb = []\n",
    "\n",
    "        for token in word_tokenize(e):\n",
    "            try:\n",
    "                doc_emb.append( ger_embedding(token) )\n",
    "            except KeyError:\n",
    "                pass #word2vec model doenst have that word\n",
    "\n",
    "        if len(doc_emb)==0:\n",
    "            print(\"miss id \",i)\n",
    "            continue\n",
    "\n",
    "        docs_emb.append((i,doc_emb))\n",
    "        \n",
    "    return docs_emb\n",
    "\n",
    "\n",
    "def doc2AVGwordListVec_TFIDF(corpus_dict,corpora_docs,tfidf,get_embedding):\n",
    "    \n",
    "    #create tf idf model for the dataset\n",
    "    docs_tokens = [ word_tokenize(doc) for doc in corpus_dict.values() ]\n",
    "    \n",
    "    docs_emb = []\n",
    "\n",
    "    for i,e in corpus_dict.items():\n",
    "\n",
    "        doc_emb = {}\n",
    "        doc_tokens_used = []\n",
    "        for token in word_tokenize(e):\n",
    "            try:\n",
    "                doc_emb[token] = get_embedding(token) \n",
    "                doc_tokens_used.append(token)\n",
    "            except KeyError:\n",
    "                pass #word2vec model doenst have that word\n",
    "\n",
    "        if len(doc_emb)==0:\n",
    "            print(\"miss id \",i)\n",
    "            continue\n",
    "\n",
    "        doc_bow = corpora_docs.doc2bow(doc_tokens_used)\n",
    "        sentence_tfidf = tfidf[doc_bow]\n",
    "        sum_tfidf = 0\n",
    "\n",
    "        for token_id,_tfidf in sentence_tfidf:\n",
    "            token = corpora_docs[token_id]\n",
    "            doc_emb[token] = doc_emb[token]*_tfidf\n",
    "            sum_tfidf += _tfidf\n",
    "\n",
    "        docs_emb.append((i,sum(doc_emb.values())/sum_tfidf))\n",
    "        \n",
    "    return docs_emb"
   ]
  },
  {
   "cell_type": "code",
   "execution_count": 12,
   "metadata": {},
   "outputs": [
    {
     "name": "stdout",
     "output_type": "stream",
     "text": [
      "miss id  471\n",
      "miss id  995\n",
      "miss id  471\n",
      "miss id  995\n",
      "miss id  471\n",
      "miss id  995\n",
      "miss id  471\n",
      "miss id  995\n"
     ]
    }
   ],
   "source": [
    "docs_tokens_IN = [ word_tokenize(doc) for doc in docs.values() ]\n",
    "\n",
    "corpora_docs_IN = corpora.Dictionary(docs_tokens_IN)\n",
    "tfidf_IN = TfidfModel([corpora_docs_IN.doc2bow(line) for line in docs_tokens_IN])  # fit model\n",
    "\n",
    "docs_tokens_OUT = [ word_tokenize(doc) for doc in docs.values() ]\n",
    "\n",
    "corpora_docs_OUT = corpora.Dictionary(docs_tokens_OUT)\n",
    "tfidf_OUT = TfidfModel([corpora_docs_IN.doc2bow(line) for line in docs_tokens_OUT])  # fit model\n",
    "\n",
    "\n",
    "#AVG docs embedding with IN embeddings\n",
    "docs_emb_IN = doc2wordListVec(docs,lambda x : model_in.get_vector(x))\n",
    "docs_avg_emb_IN = [ (i,sum(doc_emb)/len(doc_emb))  for i,doc_emb in docs_emb_IN ]\n",
    "docs_avg_embtfidf_IN = doc2AVGwordListVec_TFIDF(docs,corpora_docs_IN,tfidf_IN,lambda x: model_in.get_vector(x))\n",
    "\n",
    "\n",
    "#test query 1\n",
    "queries_emb_IN = doc2wordListVec(queries,lambda x : model_in.get_vector(x))\n",
    "queries_avg_emb_IN = [ (i,sum(q_emb)/len(q_emb))  for i,q_emb in queries_emb_IN ]\n",
    "queries_avg_embtfidf_IN = doc2AVGwordListVec_TFIDF(queries,corpora_docs_IN,tfidf_IN,lambda x: model_in.get_vector(x))\n",
    "\n",
    "#AVG docs embedding with OUT embeddings\n",
    "docs_emb_OUT = doc2wordListVec(docs,lambda x : model_out.get_vector(x)*2)\n",
    "docs_avg_emb_OUT = [ (i,sum(doc_emb)/len(doc_emb))  for i,doc_emb in docs_emb_OUT ]\n",
    "docs_avg_embtfidf_OUT = doc2AVGwordListVec_TFIDF(docs,corpora_docs_OUT,tfidf_OUT,lambda x: model_out.get_vector(x)*2)\n",
    "\n",
    "#test query OUT space\n",
    "queries_emb_OUT = doc2wordListVec(queries,lambda x : model_out.get_vector(x)*2)\n",
    "queries_avg_emb_OUT = [ (i,sum(q_emb)/len(q_emb))  for i,q_emb in queries_emb_OUT ]\n",
    "queries_avg_embtfidf_OUT = doc2AVGwordListVec_TFIDF(queries,corpora_docs_OUT,tfidf_OUT,lambda x: model_out.get_vector(x)*2)\n"
   ]
  },
  {
   "cell_type": "code",
   "execution_count": 13,
   "metadata": {},
   "outputs": [],
   "source": [
    "query_id = 1\n",
    "#relevants document to query 1 IN SPACE\n",
    "\n",
    "doc_emb_IN_relevants=[ doc_emb for k,doc_emb in docs_avg_emb_IN if str(k) in set(query_relevance[str(query_id)])]\n",
    "doc_emb_IN_TFIDF_relevants=[ doc_emb for k,doc_emb in docs_avg_embtfidf_IN if str(k) in set(query_relevance[str(query_id)])]\n",
    "\n",
    "query_emb_IN_relevant = queries_avg_emb_IN[query_id-1][1]\n",
    "query_embtfidf_IN_relevant = queries_avg_embtfidf_IN[query_id-1][1]\n",
    "\n",
    "#relevants document to query 1 OUT SPACE\n",
    "\n",
    "doc_emb_OUT_relevants=[ doc_emb for k,doc_emb in docs_avg_emb_OUT if str(k) in set(query_relevance[str(query_id)])]\n",
    "doc_emb_OUT_TFIDF_relevants = [ doc_emb for k,doc_emb in docs_avg_embtfidf_OUT if str(k) in set(query_relevance[str(query_id)])]\n",
    "\n",
    "query_emb_OUT_relevant = queries_avg_emb_OUT[query_id-1][1]\n",
    "query_embtfidf_OUT_relevant = queries_avg_embtfidf_OUT[query_id-1][1]"
   ]
  },
  {
   "cell_type": "code",
   "execution_count": 14,
   "metadata": {},
   "outputs": [
    {
     "name": "stdout",
     "output_type": "stream",
     "text": [
      "[0.15171715 0.09671804]\n",
      "[0.13867372 0.07106411]\n",
      "[0.05829984 0.05367087]\n",
      "[0.04905585 0.03819586]\n"
     ]
    }
   ],
   "source": [
    "pca_IN = PCA(n_components=2)\n",
    "IN_pca_2d_emb = pca_IN.fit_transform([d for k,d in docs_avg_emb_IN])\n",
    "print(pca_IN.explained_variance_ratio_)\n",
    "\n",
    "pca_IN_TFIDF = PCA(n_components=2)\n",
    "IN_TFIDF_pca_2d_emb = pca_IN_TFIDF.fit_transform([d for k,d in docs_avg_embtfidf_IN])\n",
    "print(pca_IN_TFIDF.explained_variance_ratio_)\n",
    "\n",
    "pca_OUT = PCA(n_components=2)\n",
    "OUT_pca_2d_emb = pca_OUT.fit_transform([d for k,d in docs_avg_emb_OUT])\n",
    "print(pca_OUT.explained_variance_ratio_)\n",
    "\n",
    "pca_OUT_TFIDF = PCA(n_components=2)\n",
    "OUT_TFIDF_pca_2d_emb = pca_OUT_TFIDF.fit_transform([d for k,d in docs_avg_embtfidf_OUT])\n",
    "print(pca_OUT_TFIDF.explained_variance_ratio_)\n"
   ]
  },
  {
   "cell_type": "code",
   "execution_count": 15,
   "metadata": {},
   "outputs": [
    {
     "data": {
      "image/png": "[encoded data removed]",
      "text/plain": [
       "<Figure size 432x288 with 2 Axes>"
      ]
     },
     "metadata": {
      "needs_background": "light"
     },
     "output_type": "display_data"
    }
   ],
   "source": [
    "doc_2d_emb_IN_relevants = pca_IN.transform(doc_emb_IN_relevants)\n",
    "query_2d_emb_IN_relevant = pca_IN.transform([query_emb_IN_relevant])\n",
    "\n",
    "doc_x_IN, doc_y_IN = zip(*doc_2d_emb_IN_relevants)\n",
    "query_x_IN, query_y_IN = zip(*query_2d_emb_IN_relevant)\n",
    "all_x_IN, all_y_IN = zip(*IN_pca_2d_emb)\n",
    "\n",
    "plt.subplot(1, 2, 1)\n",
    "plt.scatter(all_x_IN,all_y_IN)\n",
    "plt.scatter(doc_x_IN,doc_y_IN)\n",
    "plt.scatter(query_x_IN,query_y_IN)\n",
    "plt.xlim(-0.3, 0.3)\n",
    "plt.ylim(-0.3, 0.3)\n",
    "plt.title('IN embedding')\n",
    "\n",
    "doc_2d_emb_OUT_relevants = pca_OUT.transform(doc_emb_OUT_relevants)\n",
    "query_2d_emb_OUT_relevant = pca_OUT.transform([query_emb_OUT_relevant])\n",
    "\n",
    "doc_x_OUT, doc_y_OUT = zip(*doc_2d_emb_OUT_relevants)\n",
    "query_x_OUT, query_y_OUT = zip(*query_2d_emb_OUT_relevant)\n",
    "all_x_OUT, all_y_OUT = zip(*OUT_pca_2d_emb)\n",
    "\n",
    "\n",
    "plt.subplot(1, 2, 2)\n",
    "plt.scatter(all_x_OUT,all_y_OUT)\n",
    "plt.scatter(doc_x_OUT,doc_y_OUT)\n",
    "plt.scatter(query_x_OUT,query_y_OUT)\n",
    "plt.xlim(-0.3, 0.3)\n",
    "plt.ylim(-0.3, 0.3)\n",
    "plt.title('OUT embedding')\n",
    "\n",
    "plt.show()"
   ]
  },
  {
   "cell_type": "code",
   "execution_count": 16,
   "metadata": {},
   "outputs": [
    {
     "data": {
      "image/png": "[encoded data removed]",
      "text/plain": [
       "<Figure size 432x288 with 2 Axes>"
      ]
     },
     "metadata": {
      "needs_background": "light"
     },
     "output_type": "display_data"
    }
   ],
   "source": [
    "# PROJECT DOCUMENTS OUT SPACE, and query to the IN space\n",
    "\n",
    "plt.subplot(1, 2, 1)\n",
    "plt.scatter(all_x_OUT,all_y_OUT)\n",
    "plt.scatter(doc_x_OUT,doc_y_OUT)\n",
    "plt.scatter(query_x_IN,query_y_IN)\n",
    "plt.xlim(-0.3, 0.3)\n",
    "plt.ylim(-0.3, 0.3)\n",
    "plt.title('IN-OUT embedding')\n",
    "\n",
    "plt.subplot(1, 2, 2)\n",
    "plt.scatter(all_x_IN,all_y_IN)\n",
    "plt.scatter(doc_x_IN,doc_y_IN)\n",
    "plt.scatter(query_x_OUT,query_y_OUT)\n",
    "plt.xlim(-0.3, 0.3)\n",
    "plt.ylim(-0.3, 0.3)\n",
    "plt.title('OUT-IN embedding')\n",
    "\n",
    "plt.show()"
   ]
  },
  {
   "cell_type": "code",
   "execution_count": 17,
   "metadata": {},
   "outputs": [
    {
     "data": {
      "image/png": "[encoded data removed]",
      "text/plain": [
       "<Figure size 432x288 with 2 Axes>"
      ]
     },
     "metadata": {
      "needs_background": "light"
     },
     "output_type": "display_data"
    }
   ],
   "source": [
    "doc_2d_emb_IN_relevants = pca_IN_TFIDF.transform(doc_emb_IN_TFIDF_relevants)\n",
    "query_2d_emb_IN_relevant = pca_IN_TFIDF.transform([query_embtfidf_IN_relevant])\n",
    "\n",
    "doc_x_IN, doc_y_IN = zip(*doc_2d_emb_IN_relevants)\n",
    "query_x_IN, query_y_IN = zip(*query_2d_emb_IN_relevant)\n",
    "all_x_IN, all_y_IN = zip(*IN_TFIDF_pca_2d_emb)\n",
    "\n",
    "plt.subplot(1, 2, 1)\n",
    "plt.scatter(all_x_IN,all_y_IN)\n",
    "plt.scatter(doc_x_IN,doc_y_IN)\n",
    "plt.scatter(query_x_IN,query_y_IN)\n",
    "plt.xlim(-0.3, 0.3)\n",
    "plt.ylim(-0.3, 0.3)\n",
    "plt.title('IN embedding')\n",
    "\n",
    "doc_2d_emb_OUT_relevants = pca_OUT_TFIDF.transform(doc_emb_OUT_TFIDF_relevants)\n",
    "query_2d_emb_OUT_relevant = pca_OUT_TFIDF.transform([query_embtfidf_OUT_relevant])\n",
    "\n",
    "doc_x_OUT, doc_y_OUT = zip(*doc_2d_emb_OUT_relevants)\n",
    "query_x_OUT, query_y_OUT = zip(*query_2d_emb_OUT_relevant)\n",
    "all_x_OUT, all_y_OUT = zip(*OUT_TFIDF_pca_2d_emb)\n",
    "\n",
    "\n",
    "plt.subplot(1, 2, 2)\n",
    "plt.scatter(all_x_OUT,all_y_OUT)\n",
    "plt.scatter(doc_x_OUT,doc_y_OUT)\n",
    "plt.scatter(query_x_OUT,query_y_OUT)\n",
    "plt.xlim(-0.3, 0.3)\n",
    "plt.ylim(-0.3, 0.3)\n",
    "plt.title('OUT embedding')\n",
    "\n",
    "plt.show()"
   ]
  },
  {
   "cell_type": "code",
   "execution_count": 18,
   "metadata": {},
   "outputs": [
    {
     "data": {
      "image/png": "[encoded data removed]",
      "text/plain": [
       "<Figure size 432x288 with 2 Axes>"
      ]
     },
     "metadata": {
      "needs_background": "light"
     },
     "output_type": "display_data"
    }
   ],
   "source": [
    "plt.subplot(1, 2, 1)\n",
    "plt.scatter(all_x_OUT,all_y_OUT)\n",
    "plt.scatter(doc_x_OUT,doc_y_OUT)\n",
    "plt.scatter(query_x_IN,query_y_IN)\n",
    "plt.xlim(-0.3, 0.3)\n",
    "plt.ylim(-0.3, 0.3)\n",
    "plt.title('IN-OUT embedding')\n",
    "\n",
    "plt.subplot(1, 2, 2)\n",
    "plt.scatter(all_x_IN,all_y_IN)\n",
    "plt.scatter(doc_x_IN,doc_y_IN)\n",
    "plt.scatter(query_x_OUT,query_y_OUT)\n",
    "plt.xlim(-0.3, 0.3)\n",
    "plt.ylim(-0.3, 0.3)\n",
    "plt.title('OUT-IN embedding')\n",
    "\n",
    "plt.show()"
   ]
  },
  {
   "cell_type": "code",
   "execution_count": null,
   "metadata": {},
   "outputs": [],
   "source": []
  },
  {
   "cell_type": "code",
   "execution_count": null,
   "metadata": {},
   "outputs": [],
   "source": []
  },
  {
   "cell_type": "code",
   "execution_count": null,
   "metadata": {},
   "outputs": [],
   "source": []
  },
  {
   "cell_type": "code",
   "execution_count": null,
   "metadata": {},
   "outputs": [],
   "source": []
  }
 ],
 "metadata": {
  "kernelspec": {
   "display_name": "Python 3",
   "language": "python",
   "name": "python3"
  },
  "language_info": {
   "codemirror_mode": {
    "name": "ipython",
    "version": 3
   },
   "file_extension": ".py",
   "mimetype": "text/x-python",
   "name": "python",
   "nbconvert_exporter": "python",
   "pygments_lexer": "ipython3",
   "version": "3.5.2"
  }
 },
 "nbformat": 4,
 "nbformat_minor": 2
}
