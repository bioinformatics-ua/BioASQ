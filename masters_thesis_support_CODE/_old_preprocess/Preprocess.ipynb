{
 "cells": [
  {
   "cell_type": "code",
   "execution_count": 1,
   "metadata": {},
   "outputs": [],
   "source": [
    "import os\n",
    "import json\n",
    "from collections import Counter\n",
    "from itertools import chain\n",
    "import json\n",
    "import gc\n",
    "\n",
    "BioASQ_training_file = \"BioASQ-trainingDataset6b.json\"\n",
    "\n",
    "path = os.path.join('..','data',BioASQ_training_file)"
   ]
  },
  {
   "cell_type": "markdown",
   "metadata": {},
   "source": [
    "## Load the bioasq training data\n",
    "\n",
    "Show some statistics"
   ]
  },
  {
   "cell_type": "code",
   "execution_count": 2,
   "metadata": {},
   "outputs": [
    {
     "name": "stdout",
     "output_type": "stream",
     "text": [
      "Number of questions:  2251\n",
      "Counter({'factoid': 619, 'yesno': 616, 'summary': 531, 'list': 485})\n"
     ]
    }
   ],
   "source": [
    "data = json.load(open(path))[\"questions\"]\n",
    "\n",
    "print(\"Number of questions: \",len(data))\n",
    "\n",
    "#count questions by type\n",
    "print(Counter([ q[\"type\"] for q in data ]))"
   ]
  },
  {
   "cell_type": "markdown",
   "metadata": {},
   "source": [
    "## Prepare some data for document retriavel "
   ]
  },
  {
   "cell_type": "code",
   "execution_count": 3,
   "metadata": {
    "scrolled": false
   },
   "outputs": [
    {
     "name": "stdout",
     "output_type": "stream",
     "text": [
      "Min pmid: 9797 Max pmid: 27957702\n"
     ]
    }
   ],
   "source": [
    "#gather the revelent pmid of the documents\n",
    "question_document_r = [(q[\"body\"],list(map(lambda x: x.split(\"/\")[-1],q[\"documents\"]))) for q in data]\n",
    "     \n",
    "\n",
    "\n",
    "#only relevant documents pmid\n",
    "doc_y_pmid = list(chain.from_iterable([map(lambda x:int(x),d) for (q,d) in question_document_r]))\n",
    "\n",
    "#find min max pmid\n",
    "print(\"Min pmid:\",min(doc_y_pmid),\"Max pmid:\",max(doc_y_pmid))"
   ]
  },
  {
   "cell_type": "markdown",
   "metadata": {},
   "source": [
    "## Load pubmed xml file"
   ]
  },
  {
   "cell_type": "code",
   "execution_count": 4,
   "metadata": {},
   "outputs": [
    {
     "name": "stdout",
     "output_type": "stream",
     "text": [
      "read ..\\data\\pubmed18n0809.xml\n",
      "Number articles 1168777\n"
     ]
    }
   ],
   "source": [
    "\n",
    "READ=False #else LOAD\n",
    "\n",
    "if READ:\n",
    "    import pubmed_parser as pp\n",
    "\n",
    "    path = os.path.join('..','data')\n",
    "    path_xml = pp.list_xml_path(path) \n",
    "\n",
    "    pubmed_doc_list = []\n",
    "\n",
    "    for p in path_xml:\n",
    "        print(\"read\",p,end=\"\\r\")\n",
    "        parsed = pp.parse_medline_xml(p)\n",
    "        parsed_abstract = [{\"title\":a[\"title\"],\"abstract\":a[\"abstract\"],\"pmid\":int(a[\"pmid\"])} for a in parsed if a[\"abstract\"]!=\"\"]\n",
    "\n",
    "        del parsed\n",
    "\n",
    "        for x in parsed_abstract:\n",
    "            pubmed_doc_list.append(x)\n",
    "\n",
    "        del parsed_abstract                                                                           \n",
    "        \n",
    "        #call garbage collector\n",
    "        gc.collect()\n",
    "    print()\n",
    "else:\n",
    "    with open('data.json', 'r') as infile:\n",
    "        pubmed_doc_list = json.load(infile)\n",
    "\n",
    "\n",
    "#call garbage collector\n",
    "gc.collect()        \n",
    "\n",
    "print(\"Number articles\",len(pubmed_doc_list))"
   ]
  },
  {
   "cell_type": "code",
   "execution_count": 5,
   "metadata": {},
   "outputs": [],
   "source": [
    "## save\n",
    "\n",
    "gc.collect()\n",
    "\n",
    "\n",
    "with open('data.json', 'w') as outfile:\n",
    "    json.dump(pubmed_doc_list, outfile)\n",
    "    \n"
   ]
  },
  {
   "cell_type": "code",
   "execution_count": 11,
   "metadata": {},
   "outputs": [
    {
     "name": "stdout",
     "output_type": "stream",
     "text": [
      "Variable               Type      Data/Info\n",
      "------------------------------------------\n",
      "BioASQ_training_file   str       BioASQ-trainingDataset6b.json\n",
      "Counter                type      <class 'collections.Counter'>\n",
      "READ                   bool      True\n",
      "chain                  type      <class 'itertools.chain'>\n",
      "data                   list      n=2251\n",
      "doc_x_pmid             list      n=1168777\n",
      "doc_y_pmid             list      n=27034\n",
      "gc                     module    <module 'gc' (built-in)>\n",
      "json                   module    <module 'json' from 'c:\\\\<...>\\lib\\\\json\\\\__init__.py'>\n",
      "os                     module    <module 'os' from 'c:\\\\us<...>\\\\envs\\\\bio\\\\lib\\\\os.py'>\n",
      "p                      str       ..\\data\\pubmed18n0809.xml\n",
      "path                   str       ..\\data\n",
      "path_xml               list      n=60\n",
      "pp                     module    <module 'pubmed_parser' f<...>med_parser\\\\__init__.py'>\n",
      "pubmed_doc_list        list      n=1168777\n",
      "question_document_r    list      n=2251\n",
      "x                      dict      n=3\n",
      "y_intersect_x          list      n=1777\n"
     ]
    }
   ],
   "source": [
    "\n",
    "\n",
    "gc.collect()\n",
    "\n",
    "%whos"
   ]
  },
  {
   "cell_type": "code",
   "execution_count": 7,
   "metadata": {},
   "outputs": [
    {
     "name": "stdout",
     "output_type": "stream",
     "text": [
      "Number articles 1168777\n",
      "Select random article\n",
      " {'title': 'Behavior of soluble and immobilized acid phosphatase in hydro-organic media.', 'abstract': 'The hydrolysis of p-nitrophenyl phosphate by wheat germ acid phosphatase (orthophosphoric monoester phosphohydrolase, EC 3.1.3.2) has been investigated in mixtures of aqueous buffers with acetone, dioxane and acetonitrile. The enzyme was either in free solution or immobilized on a pellicular support which consisted of a porous carbonaceous layer on solid glass beads. The highest enzyme activity was obtained in acetone and acetonitrile mixed with citrate buffer over a wide range of organic solvent concentration. In 50% (v/v) acetone both V and Km of the immobilized enzyme were about half of the values in the neat aqueous buffer, but the Ki for inorganic phosphate was unchanged. In 50% (v/v) mixtures of various solvents and citrate buffers of different pH, the enzymic activity was found to depend on the pH of the aqueous buffer component rather than the pH of the hydro-organic mixture as measured with the glass-calomel electrode. The relatively high rates of p-nitrophenol liberation in the presence of glucose even at high organic solvent concentrations suggest that transphosphorylation is facilitated at low water activity.', 'pmid': 68}\n",
      "\n",
      "Min pmid: 21 Max pmid: 25331891\n"
     ]
    }
   ],
   "source": [
    "print(\"Number articles\",len(pubmed_doc_list))\n",
    "\n",
    "print(\"Select random article\\n\", pubmed_doc_list[42])\n",
    "\n",
    "doc_x_pmid = [int(doc[\"pmid\"]) for doc in pubmed_doc_list]\n",
    "\n",
    "#find min max pmid\n",
    "print(\"\\nMin pmid:\",min(doc_x_pmid),\"Max pmid:\",max(doc_x_pmid))\n"
   ]
  },
  {
   "cell_type": "markdown",
   "metadata": {},
   "source": [
    "## Cross x data with y data"
   ]
  },
  {
   "cell_type": "code",
   "execution_count": 8,
   "metadata": {},
   "outputs": [
    {
     "name": "stdout",
     "output_type": "stream",
     "text": [
      "#Y 27034\n",
      "#X 1168777\n",
      "1777\n",
      "% of Y coverege in X 0.06573204113338758\n"
     ]
    }
   ],
   "source": [
    "print(\"#Y\",len(doc_y_pmid))\n",
    "print(\"#X\",len(doc_x_pmid))\n",
    "\n",
    "y_intersect_x = list(set(doc_y_pmid)&set(doc_x_pmid))\n",
    "print(len(y_intersect_x))\n",
    "print(\"% of Y coverege in X\",len(y_intersect_x)/len(doc_y_pmid))"
   ]
  },
  {
   "cell_type": "code",
   "execution_count": null,
   "metadata": {},
   "outputs": [],
   "source": []
  }
 ],
 "metadata": {
  "kernelspec": {
   "display_name": "Python 3",
   "language": "python",
   "name": "python3"
  },
  "language_info": {
   "codemirror_mode": {
    "name": "ipython",
    "version": 3
   },
   "file_extension": ".py",
   "mimetype": "text/x-python",
   "name": "python",
   "nbconvert_exporter": "python",
   "pygments_lexer": "ipython3",
   "version": "3.5.2"
  }
 },
 "nbformat": 4,
 "nbformat_minor": 2
}
