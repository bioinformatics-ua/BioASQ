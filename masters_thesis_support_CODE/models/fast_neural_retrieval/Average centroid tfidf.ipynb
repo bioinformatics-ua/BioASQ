{
 "cells": [
  {
   "cell_type": "markdown",
   "metadata": {},
   "source": [
    "## Average weight embedding (AWE) with TDIDF\n",
    "\n"
   ]
  },
  {
   "cell_type": "code",
   "execution_count": 1,
   "metadata": {},
   "outputs": [],
   "source": [
    "import os \n",
    "os.chdir(\"/home/tiagoalmeida/bioASQ-taskb/\")\n",
    "\n",
    "import sys\n",
    "import numpy as np\n",
    "import types\n",
    "import pickle\n",
    "import json\n",
    "\n",
    "module_path = os.path.abspath(os.path.join('pubmed_data'))\n",
    "if module_path not in sys.path:\n",
    "    sys.path.append(module_path)\n",
    "\n",
    "\n",
    "from models.generic_model import AWE_TFIDF\n",
    "from pubmed_data import pubmed_helper as ph\n",
    "\n",
    "saved_models_path = '/backup/saved_models'"
   ]
  },
  {
   "cell_type": "markdown",
   "metadata": {},
   "source": [
    "### Load tokenizer and embeddings"
   ]
  },
  {
   "cell_type": "code",
   "execution_count": 2,
   "metadata": {},
   "outputs": [
    {
     "name": "stdout",
     "output_type": "stream",
     "text": [
      "Load regex_less_700k_freq_embedding.p\n",
      "Load regex_less_700k_freq_tokenizer.p\n"
     ]
    }
   ],
   "source": [
    "#MODE = \"regex_full_tokens\"\n",
    "MODE = \"regex_less_700k_freq\"\n",
    "\n",
    "embeddings = ph.load_embeddings(mode=MODE)\n",
    "tokenizer = ph.load_tokenizer(mode=MODE)\n",
    "\n"
   ]
  },
  {
   "cell_type": "code",
   "execution_count": null,
   "metadata": {},
   "outputs": [],
   "source": []
  },
  {
   "cell_type": "code",
   "execution_count": 3,
   "metadata": {},
   "outputs": [
    {
     "name": "stdout",
     "output_type": "stream",
     "text": [
      "Open /backup/pubmed_archive_tokenized/regex_less_700k_freq_title_abs.tar.gz\n",
      "Creating generator\n",
      "Open the file: regex_less_700k_freq_file_000_title_abs_pubmed.p\n",
      "Returning: 3690895 articles\n",
      "Force garbage collector 0\n",
      "Open the file: regex_less_700k_freq_file_001_title_abs_pubmed.p\n",
      "Returning: 3643138 articles\n",
      "Force garbage collector 0\n",
      "Open the file: regex_less_700k_freq_file_002_title_abs_pubmed.p\n",
      "Returning: 3790281 articles\n",
      "Force garbage collector 0\n",
      "Open the file: regex_less_700k_freq_file_003_title_abs_pubmed.p\n",
      "Returning: 3838006 articles\n",
      "Force garbage collector 0\n",
      "Open the file: regex_less_700k_freq_file_004_title_abs_pubmed.p\n",
      "Returning: 3862035 articles\n",
      "Force garbage collector 0\n"
     ]
    }
   ],
   "source": [
    "LOAD = False\n",
    "\n",
    "model_name = MODE+\"_title_abs\"\n",
    "\n",
    "if LOAD:\n",
    "    model = AWE_TFIDF.load(model_name) \n",
    "else:\n",
    "    tokenizer.document_count = 18824355\n",
    "    model = AWE_TFIDF(embeddings,tokenizer.document_count,tokenizer.index_docs)\n",
    "\n",
    "    tokenized_pubmed_generator = ph.create_tokenized_pubmed_collection_generator(mode=MODE)\n",
    "    model.train(tokenized_pubmed_generator())\n",
    "\n",
    "    ## Save AWE tfidf\n",
    "    model.save(f_name=model_name)"
   ]
  },
  {
   "cell_type": "code",
   "execution_count": 4,
   "metadata": {},
   "outputs": [
    {
     "data": {
      "application/javascript": [
       "Jupyter.notebook.session.delete();"
      ],
      "text/plain": [
       "<IPython.core.display.Javascript object>"
      ]
     },
     "metadata": {},
     "output_type": "display_data"
    }
   ],
   "source": [
    "%%javascript\n",
    "Jupyter.notebook.session.delete();"
   ]
  },
  {
   "cell_type": "code",
   "execution_count": 15,
   "metadata": {},
   "outputs": [],
   "source": [
    "awe_tf_idf_model.save(os.path.join(saved_models_path,\"awe_tfidf_model_\"+MODE+\"_tokens\"))\n"
   ]
  },
  {
   "cell_type": "code",
   "execution_count": null,
   "metadata": {},
   "outputs": [],
   "source": []
  }
 ],
 "metadata": {
  "kernelspec": {
   "display_name": "Python 3",
   "language": "python",
   "name": "python3"
  },
  "language_info": {
   "codemirror_mode": {
    "name": "ipython",
    "version": 3
   },
   "file_extension": ".py",
   "mimetype": "text/x-python",
   "name": "python",
   "nbconvert_exporter": "python",
   "pygments_lexer": "ipython3",
   "version": "3.5.2"
  }
 },
 "nbformat": 4,
 "nbformat_minor": 2
}
