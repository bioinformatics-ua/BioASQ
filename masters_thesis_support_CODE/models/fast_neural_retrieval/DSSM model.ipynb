{
 "cells": [
  {
   "cell_type": "code",
   "execution_count": 1,
   "metadata": {},
   "outputs": [
    {
     "name": "stdout",
     "output_type": "stream",
     "text": [
      "import\n"
     ]
    }
   ],
   "source": [
    "\n",
    "import os \n",
    "os.chdir(\"/home/tiagoalmeida/bioASQ-taskb/\")\n",
    "\n",
    "import sys\n",
    "import numpy as np\n",
    "import types\n",
    "import pickle\n",
    "import json\n",
    "import gc\n",
    "\n",
    "from scipy import sparse\n",
    "import tarfile\n",
    "\n",
    "\n",
    "from pubmed_data import pubmed_helper as ph\n"
   ]
  },
  {
   "cell_type": "markdown",
   "metadata": {},
   "source": [
    "## DSSM model\n",
    " - Missing the hashtrick layer\n"
   ]
  },
  {
   "cell_type": "code",
   "execution_count": 2,
   "metadata": {},
   "outputs": [
    {
     "name": "stdout",
     "output_type": "stream",
     "text": [
      "Load hashtrick_full_tokens_tokenizer.p\n"
     ]
    }
   ],
   "source": [
    "from models.fast_neural_retrieval.dssm_model import DSSM, TRIGRAM_VOC"
   ]
  },
  {
   "cell_type": "code",
   "execution_count": 3,
   "metadata": {},
   "outputs": [
    {
     "name": "stdout",
     "output_type": "stream",
     "text": [
      "Sub model arch\n",
      "__________________________________________________________________________________________________\n",
      "Layer (type)                    Output Shape         Param #     Connected to                     \n",
      "==================================================================================================\n",
      "q_input (InputLayer)            (None, 48482)        0                                            \n",
      "__________________________________________________________________________________________________\n",
      "doc_input (InputLayer)          (None, 48482)        0                                            \n",
      "__________________________________________________________________________________________________\n",
      "projection_model (Model)        (None, 128)          14673728    q_input[0][0]                    \n",
      "                                                                 doc_input[0][0]                  \n",
      "__________________________________________________________________________________________________\n",
      "dot (Dot)                       (None, 1)            0           projection_model[1][0]           \n",
      "                                                                 projection_model[2][0]           \n",
      "==================================================================================================\n",
      "Total params: 14,673,728\n",
      "Trainable params: 14,673,728\n",
      "Non-trainable params: 0\n",
      "__________________________________________________________________________________________________\n",
      "__________________________________________________________________________________________________\n",
      "Layer (type)                    Output Shape         Param #     Connected to                     \n",
      "==================================================================================================\n",
      "dssm_query_input (InputLayer)   (None, 48482)        0                                            \n",
      "__________________________________________________________________________________________________\n",
      "dssm_pos_doc_input (InputLayer) (None, 48482)        0                                            \n",
      "__________________________________________________________________________________________________\n",
      "dssm_neg_doc_input_0 (InputLaye (None, 48482)        0                                            \n",
      "__________________________________________________________________________________________________\n",
      "dssm_neg_doc_input_1 (InputLaye (None, 48482)        0                                            \n",
      "__________________________________________________________________________________________________\n",
      "siamese_model (Model)           (None, 1)            14673728    dssm_query_input[0][0]           \n",
      "                                                                 dssm_pos_doc_input[0][0]         \n",
      "                                                                 dssm_query_input[0][0]           \n",
      "                                                                 dssm_neg_doc_input_0[0][0]       \n",
      "                                                                 dssm_query_input[0][0]           \n",
      "                                                                 dssm_neg_doc_input_1[0][0]       \n",
      "__________________________________________________________________________________________________\n",
      "concatenate (Concatenate)       (None, 3)            0           siamese_model[1][0]              \n",
      "                                                                 siamese_model[2][0]              \n",
      "                                                                 siamese_model[3][0]              \n",
      "__________________________________________________________________________________________________\n",
      "activation (Activation)         (None, 3)            0           concatenate[0][0]                \n",
      "==================================================================================================\n",
      "Total params: 14,673,728\n",
      "Trainable params: 14,673,728\n",
      "Non-trainable params: 0\n",
      "__________________________________________________________________________________________________\n"
     ]
    }
   ],
   "source": [
    "dssm = DSSM(TRIGRAM_VOC, num_neg_examples=2, show_model_arch=True)"
   ]
  },
  {
   "cell_type": "markdown",
   "metadata": {},
   "source": [
    "### Data generator for training"
   ]
  },
  {
   "cell_type": "code",
   "execution_count": 4,
   "metadata": {},
   "outputs": [],
   "source": [
    "\n",
    "#Load training and test data\n",
    "bioASQ_data_path = \"/backup/BioASQ-training7b/\"\n",
    "bioASQ_data_train = json.load(open(os.path.join(bioASQ_data_path,\"7b_train_split.json\")))\n",
    "bioASQ_data_test = json.load(open(os.path.join(bioASQ_data_path,\"7b_test_split.json\")))"
   ]
  },
  {
   "cell_type": "code",
   "execution_count": 5,
   "metadata": {},
   "outputs": [
    {
     "name": "stdout",
     "output_type": "stream",
     "text": [
      "Open /backup/pubmed_archive_json/pubmed_ready.tar.gz\n",
      "Creating generator\n",
      "Open the file: pubmed_ready_00000000_to_02776362\n",
      "Returning: 2776363 articles\n",
      "Force garbage collector 0\n",
      "Open the file: pubmed_ready_02776363_to_05519968\n",
      "Returning: 2743606 articles\n",
      "Force garbage collector 0\n",
      "Open the file: pubmed_ready_05519969_to_08241071\n",
      "Returning: 2721103 articles\n",
      "Force garbage collector 0\n",
      "Open the file: pubmed_ready_08241072_to_11124313\n",
      "Returning: 2883242 articles\n",
      "Force garbage collector 0\n",
      "Open the file: pubmed_ready_11124314_to_13996815\n",
      "Returning: 2872502 articles\n",
      "Force garbage collector 0\n",
      "Open the file: pubmed_ready_13996816_to_18824354\n",
      "Returning: 4827539 articles\n",
      "Force garbage collector 0\n"
     ]
    }
   ],
   "source": [
    "#load the articles to the memory\n",
    "articles_generator = ph.create_pubmed_collection_generator()\n",
    "articles = []\n",
    "for docs in articles_generator():\n",
    "    articles.extend(docs)\n",
    "  "
   ]
  },
  {
   "cell_type": "code",
   "execution_count": null,
   "metadata": {
    "scrolled": true
   },
   "outputs": [
    {
     "name": "stdout",
     "output_type": "stream",
     "text": [
      "Train_steps: 188\n",
      "Test_steps: 48\n",
      "Start dssm training\n",
      "Epoch 1/40\n",
      "131/188 [===================>..........] - ETA: 7:49 - loss: 2.5787 - acc: 0.3199"
     ]
    }
   ],
   "source": [
    "## Train dssm\n",
    "\n",
    "dssm.train(articles,\n",
    "           epoach = 40,\n",
    "           batch = 128,\n",
    "           training_data=bioASQ_data_train,\n",
    "           validation_data=bioASQ_data_test\n",
    "           \n",
    "           )"
   ]
  },
  {
   "cell_type": "code",
   "execution_count": null,
   "metadata": {},
   "outputs": [],
   "source": [
    "dssm.save(f_name=\"trigram_same_q_d_19neg\")"
   ]
  },
  {
   "cell_type": "code",
   "execution_count": null,
   "metadata": {},
   "outputs": [],
   "source": []
  },
  {
   "cell_type": "code",
   "execution_count": null,
   "metadata": {},
   "outputs": [],
   "source": []
  },
  {
   "cell_type": "code",
   "execution_count": null,
   "metadata": {},
   "outputs": [],
   "source": []
  }
 ],
 "metadata": {
  "kernelspec": {
   "display_name": "Python 3",
   "language": "python",
   "name": "python3"
  },
  "language_info": {
   "codemirror_mode": {
    "name": "ipython",
    "version": 3
   },
   "file_extension": ".py",
   "mimetype": "text/x-python",
   "name": "python",
   "nbconvert_exporter": "python",
   "pygments_lexer": "ipython3",
   "version": "3.5.2"
  }
 },
 "nbformat": 4,
 "nbformat_minor": 2
}
